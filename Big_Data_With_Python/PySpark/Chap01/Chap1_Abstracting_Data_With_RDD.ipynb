{
  "nbformat": 4,
  "nbformat_minor": 0,
  "metadata": {
    "colab": {
      "provenance": []
    },
    "kernelspec": {
      "name": "python3",
      "display_name": "Python 3"
    },
    "language_info": {
      "name": "python"
    }
  },
  "cells": [
    {
      "cell_type": "markdown",
      "source": [
        "### **Mise En Garde: Certaines méthodes sont exploitables en fonction de la version de Python que vous ustilisez**"
      ],
      "metadata": {
        "id": "K4r2Lboba8ns"
      }
    },
    {
      "cell_type": "code",
      "execution_count": null,
      "metadata": {
        "id": "EpDtSHaLQ_aB"
      },
      "outputs": [],
      "source": [
        "!pip install pyspark"
      ]
    },
    {
      "cell_type": "code",
      "source": [
        "import pyspark\n",
        "print(f\"{pyspark.__version__}\")"
      ],
      "metadata": {
        "colab": {
          "base_uri": "https://localhost:8080/"
        },
        "id": "9SG-QOW7Rszk",
        "outputId": "6cac588d-1c01-4a7f-dead-39ec0c7af926"
      },
      "execution_count": 2,
      "outputs": [
        {
          "output_type": "stream",
          "name": "stdout",
          "text": [
            "3.5.0\n"
          ]
        }
      ]
    },
    {
      "cell_type": "code",
      "source": [
        "os.listdir(os.getcwd())"
      ],
      "metadata": {
        "id": "mpjcWW7slRvc"
      },
      "execution_count": null,
      "outputs": []
    },
    {
      "cell_type": "markdown",
      "source": [
        "### **Point d'entrée : SparkContext**"
      ],
      "metadata": {
        "id": "IdTZ6rUGSCz9"
      }
    },
    {
      "cell_type": "code",
      "source": [
        "sc = pyspark.SparkContext()\n",
        "\n",
        "# Verifier si SparkContext est valide\n",
        "print(sc)"
      ],
      "metadata": {
        "colab": {
          "base_uri": "https://localhost:8080/"
        },
        "id": "flxAK3V6SWv0",
        "outputId": "5f57fd79-baf8-4370-feee-b3c49325ad79"
      },
      "execution_count": 5,
      "outputs": [
        {
          "output_type": "stream",
          "name": "stdout",
          "text": [
            "<SparkContext master=local[*] appName=pyspark-shell>\n"
          ]
        }
      ]
    },
    {
      "cell_type": "code",
      "source": [
        "# Check the version of SparkContext in PySpark Shell\n",
        "print(\"La version de Spark Context dans PySpark Shell est : \", sc.version)\n",
        "\n",
        "# Display the Python version of SparkContext\n",
        "print(\"La version Python de Spark Context dans PySpark Shell est : \", sc.pythonVer)\n",
        "\n",
        "# Display the master of SparkContext\n",
        "print(\"Le maitre de Spark Context dans PySpark Shell est : \", sc.master)"
      ],
      "metadata": {
        "colab": {
          "base_uri": "https://localhost:8080/"
        },
        "id": "rnqToQ8dR_kh",
        "outputId": "046f5d12-63ed-4e6a-af2b-448e4177839e"
      },
      "execution_count": 6,
      "outputs": [
        {
          "output_type": "stream",
          "name": "stdout",
          "text": [
            "La version de Spark Context dans PySpark Shell est :  3.5.0\n",
            "La version Python de Spark Context dans PySpark Shell est :  3.10\n",
            "Le maitre de Spark Context dans PySpark Shell est :  local[*]\n"
          ]
        }
      ]
    },
    {
      "cell_type": "markdown",
      "source": [
        "### **Creating RDD**"
      ],
      "metadata": {
        "id": "rMcJlKc8Ttnq"
      }
    },
    {
      "cell_type": "code",
      "source": [
        "myRDD = sc.parallelize(\n",
        "    [('Amber', 22), ('Alfred', 23), ('skye', 4), ('Albert', 12), ('Amber', 9)]\n",
        ")"
      ],
      "metadata": {
        "id": "O_1cXodgTs5d"
      },
      "execution_count": 8,
      "outputs": []
    },
    {
      "cell_type": "code",
      "source": [
        "myRDD.collect()"
      ],
      "metadata": {
        "colab": {
          "base_uri": "https://localhost:8080/"
        },
        "id": "OI9BGy1BUBsc",
        "outputId": "a4544fa8-407e-44e5-8af5-12b00f83a7b4"
      },
      "execution_count": 9,
      "outputs": [
        {
          "output_type": "execute_result",
          "data": {
            "text/plain": [
              "[('Amber', 22), ('Alfred', 23), ('skye', 4), ('Albert', 12), ('Amber', 9)]"
            ]
          },
          "metadata": {},
          "execution_count": 9
        }
      ]
    },
    {
      "cell_type": "code",
      "source": [
        "myRDD.take(5)"
      ],
      "metadata": {
        "colab": {
          "base_uri": "https://localhost:8080/"
        },
        "id": "S-W2X6VXUJTV",
        "outputId": "c03d126e-7106-4a43-faf9-9cdf1f192587"
      },
      "execution_count": 10,
      "outputs": [
        {
          "output_type": "execute_result",
          "data": {
            "text/plain": [
              "[('Amber', 22), ('Alfred', 23), ('skye', 4), ('Albert', 12), ('Amber', 9)]"
            ]
          },
          "metadata": {},
          "execution_count": 10
        }
      ]
    },
    {
      "cell_type": "markdown",
      "source": [
        "### **Reading Data From Files**\n"
      ],
      "metadata": {
        "id": "11JC5-AqV6x_"
      }
    },
    {
      "cell_type": "code",
      "source": [
        "import os\n",
        "\n",
        "file_path_1 = 'airport-codes-na.txt'\n",
        "file_path_2 = 'departuredelays.csv'\n",
        "\n",
        "if os.path.exists(file_path_1 and file_path_2):\n",
        "    print(f\"The file {file_path_1} and {file_path_2} exists.\")\n",
        "else:\n",
        "    print(f\"The file {file_path_1} and {file_path_2} does not exist.\")"
      ],
      "metadata": {
        "colab": {
          "base_uri": "https://localhost:8080/"
        },
        "id": "mL_4ExjeV95a",
        "outputId": "17ef4575-4b75-469f-91fb-c085ffcc4982"
      },
      "execution_count": 42,
      "outputs": [
        {
          "output_type": "stream",
          "name": "stdout",
          "text": [
            "The file airport-codes-na.txt and departuredelays.csv exists.\n"
          ]
        }
      ]
    },
    {
      "cell_type": "code",
      "source": [
        "myRDD = sc.textFile(file_path_1)"
      ],
      "metadata": {
        "id": "fOMsC92PWKFM"
      },
      "execution_count": 17,
      "outputs": []
    },
    {
      "cell_type": "code",
      "source": [
        "myRDD.take(5)"
      ],
      "metadata": {
        "colab": {
          "base_uri": "https://localhost:8080/"
        },
        "id": "m7MMpgc7WQH1",
        "outputId": "4427a958-2aa9-4435-ab88-3f23dbc5286c"
      },
      "execution_count": 18,
      "outputs": [
        {
          "output_type": "execute_result",
          "data": {
            "text/plain": [
              "['City\\tState\\tCountry\\tIATA',\n",
              " 'Abbotsford\\tBC\\tCanada\\tYXX',\n",
              " 'Aberdeen\\tSD\\tUSA\\tABR',\n",
              " 'Abilene\\tTX\\tUSA\\tABI',\n",
              " 'Akron\\tOH\\tUSA\\tCAK']"
            ]
          },
          "metadata": {},
          "execution_count": 18
        }
      ]
    },
    {
      "cell_type": "code",
      "source": [
        "myRDD.count()"
      ],
      "metadata": {
        "colab": {
          "base_uri": "https://localhost:8080/"
        },
        "id": "qFdfrFqPWTeH",
        "outputId": "1a897456-a5a4-4bb3-c6c2-cc8417b2f965"
      },
      "execution_count": 19,
      "outputs": [
        {
          "output_type": "execute_result",
          "data": {
            "text/plain": [
              "527"
            ]
          },
          "metadata": {},
          "execution_count": 19
        }
      ]
    },
    {
      "cell_type": "code",
      "source": [
        "myRDD = sc.textFile(file_path_1).map(lambda line: line.split(\"\\t\"))"
      ],
      "metadata": {
        "id": "mIekkROAXAh2"
      },
      "execution_count": 28,
      "outputs": []
    },
    {
      "cell_type": "code",
      "source": [
        "myRDD.getNumPartitions()"
      ],
      "metadata": {
        "colab": {
          "base_uri": "https://localhost:8080/"
        },
        "id": "lc2D_1gZXI5v",
        "outputId": "3f36f5a1-a1d7-4b5d-cb12-8971a19fbf10"
      },
      "execution_count": 29,
      "outputs": [
        {
          "output_type": "execute_result",
          "data": {
            "text/plain": [
              "2"
            ]
          },
          "metadata": {},
          "execution_count": 29
        }
      ]
    },
    {
      "cell_type": "code",
      "source": [
        "myRDD = sc.textFile(file_path_1, minPartitions=4, use_unicode=True).map(lambda line: line.split(\"\\t\"))"
      ],
      "metadata": {
        "id": "yON6TSkyXmfo"
      },
      "execution_count": 30,
      "outputs": []
    },
    {
      "cell_type": "code",
      "source": [
        "myRDD.take(5)"
      ],
      "metadata": {
        "colab": {
          "base_uri": "https://localhost:8080/"
        },
        "id": "LR_QGdTKXv_f",
        "outputId": "ed2e2413-4a37-4951-f583-b824bf887430"
      },
      "execution_count": 31,
      "outputs": [
        {
          "output_type": "execute_result",
          "data": {
            "text/plain": [
              "[['City', 'State', 'Country', 'IATA'],\n",
              " ['Abbotsford', 'BC', 'Canada', 'YXX'],\n",
              " ['Aberdeen', 'SD', 'USA', 'ABR'],\n",
              " ['Abilene', 'TX', 'USA', 'ABI'],\n",
              " ['Akron', 'OH', 'USA', 'CAK']]"
            ]
          },
          "metadata": {},
          "execution_count": 31
        }
      ]
    },
    {
      "cell_type": "code",
      "source": [
        "myRDD.getNumPartitions()"
      ],
      "metadata": {
        "colab": {
          "base_uri": "https://localhost:8080/"
        },
        "id": "zshM2dY0XzuG",
        "outputId": "54692697-4ac3-4b77-a3b8-eba6b71b3fed"
      },
      "execution_count": 32,
      "outputs": [
        {
          "output_type": "execute_result",
          "data": {
            "text/plain": [
              "4"
            ]
          },
          "metadata": {},
          "execution_count": 32
        }
      ]
    },
    {
      "cell_type": "code",
      "source": [
        "myRDD2 = sc.textFile(file_path_2).map(lambda line: line.split(\",\"))\n",
        "myRDD2.count()"
      ],
      "metadata": {
        "colab": {
          "base_uri": "https://localhost:8080/"
        },
        "id": "7EMUtd7-bWsY",
        "outputId": "90c42862-75d3-4247-b1d1-1598570ef088"
      },
      "execution_count": 43,
      "outputs": [
        {
          "output_type": "execute_result",
          "data": {
            "text/plain": [
              "1391579"
            ]
          },
          "metadata": {},
          "execution_count": 43
        }
      ]
    },
    {
      "cell_type": "code",
      "source": [
        "myRDD2 = sc.textFile(file_path_2, minPartitions=8).map(lambda line: line.split(\",\"))\n",
        "myRDD2.count()"
      ],
      "metadata": {
        "colab": {
          "base_uri": "https://localhost:8080/"
        },
        "id": "5AgpMqM0bd2e",
        "outputId": "47657b7d-771c-4749-8fc1-14d7f69f3adf"
      },
      "execution_count": 44,
      "outputs": [
        {
          "output_type": "execute_result",
          "data": {
            "text/plain": [
              "1391579"
            ]
          },
          "metadata": {},
          "execution_count": 44
        }
      ]
    },
    {
      "cell_type": "code",
      "source": [
        "myRDD2.take(5)"
      ],
      "metadata": {
        "colab": {
          "base_uri": "https://localhost:8080/"
        },
        "id": "vg-Oe1hXml6S",
        "outputId": "b20b51f2-6f88-401b-ee1e-6f038497cfc2"
      },
      "execution_count": 45,
      "outputs": [
        {
          "output_type": "execute_result",
          "data": {
            "text/plain": [
              "[['date', 'delay', 'distance', 'origin', 'destination'],\n",
              " ['01011245', '6', '602', 'ABE', 'ATL'],\n",
              " ['01020600', '-8', '369', 'ABE', 'DTW'],\n",
              " ['01021245', '-2', '602', 'ABE', 'ATL'],\n",
              " ['01020605', '-4', '602', 'ABE', 'ATL']]"
            ]
          },
          "metadata": {},
          "execution_count": 45
        }
      ]
    },
    {
      "cell_type": "code",
      "source": [
        "myRDD2.getNumPartitions()"
      ],
      "metadata": {
        "colab": {
          "base_uri": "https://localhost:8080/"
        },
        "id": "xy9te4AJmpXS",
        "outputId": "4fd22c79-9e20-483f-f534-547a99d4dbe7"
      },
      "execution_count": 46,
      "outputs": [
        {
          "output_type": "execute_result",
          "data": {
            "text/plain": [
              "8"
            ]
          },
          "metadata": {},
          "execution_count": 46
        }
      ]
    },
    {
      "cell_type": "markdown",
      "source": [
        "### **Using DataFrame**"
      ],
      "metadata": {
        "id": "G7VvBr4NmyoT"
      }
    },
    {
      "cell_type": "markdown",
      "source": [
        "**SparkSession : Point d'entrée pour les Dataframes**"
      ],
      "metadata": {
        "id": "aUkUNjHhoZbl"
      }
    },
    {
      "cell_type": "code",
      "source": [
        "from pyspark.sql.session import SparkSession\n",
        "spark = SparkSession(sc)"
      ],
      "metadata": {
        "id": "ufmO4_UKoGzM"
      },
      "execution_count": 48,
      "outputs": []
    },
    {
      "cell_type": "code",
      "source": [
        "myDF = spark.read.csv(file_path_2, header=True, inferSchema=True)\n",
        "myDF.count()"
      ],
      "metadata": {
        "colab": {
          "base_uri": "https://localhost:8080/"
        },
        "id": "zubLomZUm1dc",
        "outputId": "c2edfb6f-187e-4425-e8b9-49f7c4029eca"
      },
      "execution_count": 49,
      "outputs": [
        {
          "output_type": "execute_result",
          "data": {
            "text/plain": [
              "1391578"
            ]
          },
          "metadata": {},
          "execution_count": 49
        }
      ]
    },
    {
      "cell_type": "code",
      "source": [
        "myDF.show()"
      ],
      "metadata": {
        "colab": {
          "base_uri": "https://localhost:8080/"
        },
        "id": "KzKTw3FyonBv",
        "outputId": "dc0a5e03-a728-4b67-df58-fa66e14249f8"
      },
      "execution_count": 50,
      "outputs": [
        {
          "output_type": "stream",
          "name": "stdout",
          "text": [
            "+-------+-----+--------+------+-----------+\n",
            "|   date|delay|distance|origin|destination|\n",
            "+-------+-----+--------+------+-----------+\n",
            "|1011245|    6|     602|   ABE|        ATL|\n",
            "|1020600|   -8|     369|   ABE|        DTW|\n",
            "|1021245|   -2|     602|   ABE|        ATL|\n",
            "|1020605|   -4|     602|   ABE|        ATL|\n",
            "|1031245|   -4|     602|   ABE|        ATL|\n",
            "|1030605|    0|     602|   ABE|        ATL|\n",
            "|1041243|   10|     602|   ABE|        ATL|\n",
            "|1040605|   28|     602|   ABE|        ATL|\n",
            "|1051245|   88|     602|   ABE|        ATL|\n",
            "|1050605|    9|     602|   ABE|        ATL|\n",
            "|1061215|   -6|     602|   ABE|        ATL|\n",
            "|1061725|   69|     602|   ABE|        ATL|\n",
            "|1061230|    0|     369|   ABE|        DTW|\n",
            "|1060625|   -3|     602|   ABE|        ATL|\n",
            "|1070600|    0|     369|   ABE|        DTW|\n",
            "|1071725|    0|     602|   ABE|        ATL|\n",
            "|1071230|    0|     369|   ABE|        DTW|\n",
            "|1070625|    0|     602|   ABE|        ATL|\n",
            "|1071219|    0|     569|   ABE|        ORD|\n",
            "|1080600|    0|     369|   ABE|        DTW|\n",
            "+-------+-----+--------+------+-----------+\n",
            "only showing top 20 rows\n",
            "\n"
          ]
        }
      ]
    },
    {
      "cell_type": "code",
      "source": [
        "myDF.rdd.getNumPartitions()"
      ],
      "metadata": {
        "colab": {
          "base_uri": "https://localhost:8080/"
        },
        "id": "sAzw_8uTorXI",
        "outputId": "470b6110-8e96-4980-d2c9-36696df495fd"
      },
      "execution_count": 51,
      "outputs": [
        {
          "output_type": "execute_result",
          "data": {
            "text/plain": [
              "2"
            ]
          },
          "metadata": {},
          "execution_count": 51
        }
      ]
    },
    {
      "cell_type": "code",
      "source": [
        "myDF.printSchema()"
      ],
      "metadata": {
        "colab": {
          "base_uri": "https://localhost:8080/"
        },
        "id": "2jrYBWSDoyZ5",
        "outputId": "e670c01b-bb98-4864-a73a-3d580539bc89"
      },
      "execution_count": 52,
      "outputs": [
        {
          "output_type": "stream",
          "name": "stdout",
          "text": [
            "root\n",
            " |-- date: integer (nullable = true)\n",
            " |-- delay: integer (nullable = true)\n",
            " |-- distance: integer (nullable = true)\n",
            " |-- origin: string (nullable = true)\n",
            " |-- destination: string (nullable = true)\n",
            "\n"
          ]
        }
      ]
    },
    {
      "cell_type": "markdown",
      "source": [
        "### **RDD Transformations**"
      ],
      "metadata": {
        "id": "tDmZkjwgo-RN"
      }
    },
    {
      "cell_type": "code",
      "source": [
        "airports = sc.textFile(file_path_1).map(lambda line : line.split(\"\\t\"))\n",
        "airports.take(5)"
      ],
      "metadata": {
        "colab": {
          "base_uri": "https://localhost:8080/"
        },
        "id": "HhvGYR5zpBum",
        "outputId": "542335fc-a1c5-4670-91eb-fb225a1248a1"
      },
      "execution_count": 53,
      "outputs": [
        {
          "output_type": "execute_result",
          "data": {
            "text/plain": [
              "[['City', 'State', 'Country', 'IATA'],\n",
              " ['Abbotsford', 'BC', 'Canada', 'YXX'],\n",
              " ['Aberdeen', 'SD', 'USA', 'ABR'],\n",
              " ['Abilene', 'TX', 'USA', 'ABI'],\n",
              " ['Akron', 'OH', 'USA', 'CAK']]"
            ]
          },
          "metadata": {},
          "execution_count": 53
        }
      ]
    },
    {
      "cell_type": "code",
      "source": [
        "flights = sc.textFile(file_path_2).map(lambda line : line.split(\",\"))\n",
        "flights.take(5)"
      ],
      "metadata": {
        "colab": {
          "base_uri": "https://localhost:8080/"
        },
        "id": "R2tpjEutpniT",
        "outputId": "f8f14f9c-c7e9-4092-bb60-95694b49c63b"
      },
      "execution_count": 54,
      "outputs": [
        {
          "output_type": "execute_result",
          "data": {
            "text/plain": [
              "[['date', 'delay', 'distance', 'origin', 'destination'],\n",
              " ['01011245', '6', '602', 'ABE', 'ATL'],\n",
              " ['01020600', '-8', '369', 'ABE', 'DTW'],\n",
              " ['01021245', '-2', '602', 'ABE', 'ATL'],\n",
              " ['01020605', '-4', '602', 'ABE', 'ATL']]"
            ]
          },
          "metadata": {},
          "execution_count": 54
        }
      ]
    },
    {
      "cell_type": "markdown",
      "source": [
        "**map()**"
      ],
      "metadata": {
        "id": "P-B1YoHmqGgg"
      }
    },
    {
      "cell_type": "code",
      "source": [
        "airports.map(lambda c: (c[0], c[1])).take(5)"
      ],
      "metadata": {
        "colab": {
          "base_uri": "https://localhost:8080/"
        },
        "id": "B7pJeR8wp4VH",
        "outputId": "9d9b4182-eab9-4828-cdb6-15237911999a"
      },
      "execution_count": 55,
      "outputs": [
        {
          "output_type": "execute_result",
          "data": {
            "text/plain": [
              "[('City', 'State'),\n",
              " ('Abbotsford', 'BC'),\n",
              " ('Aberdeen', 'SD'),\n",
              " ('Abilene', 'TX'),\n",
              " ('Akron', 'OH')]"
            ]
          },
          "metadata": {},
          "execution_count": 55
        }
      ]
    },
    {
      "cell_type": "markdown",
      "source": [
        "**filter()**"
      ],
      "metadata": {
        "id": "qIm1P48KqJeZ"
      }
    },
    {
      "cell_type": "code",
      "source": [
        "airports.map(lambda c: (c[0], c[1])).filter(lambda c: c[1] == \"WA\").take(5)"
      ],
      "metadata": {
        "colab": {
          "base_uri": "https://localhost:8080/"
        },
        "id": "w0GcLf-JqDeQ",
        "outputId": "71e606ca-35c7-442f-a86c-87b3c9aa36b4"
      },
      "execution_count": 56,
      "outputs": [
        {
          "output_type": "execute_result",
          "data": {
            "text/plain": [
              "[('Bellingham', 'WA'),\n",
              " ('Moses Lake', 'WA'),\n",
              " ('Pasco', 'WA'),\n",
              " ('Pullman', 'WA'),\n",
              " ('Seattle', 'WA')]"
            ]
          },
          "metadata": {},
          "execution_count": 56
        }
      ]
    },
    {
      "cell_type": "markdown",
      "source": [
        "**flatMap**"
      ],
      "metadata": {
        "id": "v7vLX8UzqghM"
      }
    },
    {
      "cell_type": "code",
      "source": [
        "airports.filter(lambda c: c[1] == \"WA\").map(lambda c: (c[0], c[1])).flatMap(lambda x: x).take(10)"
      ],
      "metadata": {
        "colab": {
          "base_uri": "https://localhost:8080/"
        },
        "id": "o9AZLhQdqikb",
        "outputId": "be4a24af-cd2e-4af3-b274-042c6510eda1"
      },
      "execution_count": 57,
      "outputs": [
        {
          "output_type": "execute_result",
          "data": {
            "text/plain": [
              "['Bellingham',\n",
              " 'WA',\n",
              " 'Moses Lake',\n",
              " 'WA',\n",
              " 'Pasco',\n",
              " 'WA',\n",
              " 'Pullman',\n",
              " 'WA',\n",
              " 'Seattle',\n",
              " 'WA']"
            ]
          },
          "metadata": {},
          "execution_count": 57
        }
      ]
    },
    {
      "cell_type": "markdown",
      "source": [
        "**distinct()**"
      ],
      "metadata": {
        "id": "QVLxXnc8q7VT"
      }
    },
    {
      "cell_type": "code",
      "source": [
        "airports.map(lambda c: c[2]).distinct().take(5)"
      ],
      "metadata": {
        "colab": {
          "base_uri": "https://localhost:8080/"
        },
        "id": "a73NYfdhrDIa",
        "outputId": "52afb0a1-92dc-4d66-d34e-6136ec35268d"
      },
      "execution_count": 58,
      "outputs": [
        {
          "output_type": "execute_result",
          "data": {
            "text/plain": [
              "['Country', 'USA', 'Canada']"
            ]
          },
          "metadata": {},
          "execution_count": 58
        }
      ]
    },
    {
      "cell_type": "markdown",
      "source": [
        "**sample()**"
      ],
      "metadata": {
        "id": "NS7os3oqq9cR"
      }
    },
    {
      "cell_type": "code",
      "source": [
        "flights.map(lambda c: c[3]).sample(False, 0.001, 123).take(5)"
      ],
      "metadata": {
        "colab": {
          "base_uri": "https://localhost:8080/"
        },
        "id": "xio3UiWarDwb",
        "outputId": "40099106-5794-419d-da12-27914e4c8392"
      },
      "execution_count": 60,
      "outputs": [
        {
          "output_type": "execute_result",
          "data": {
            "text/plain": [
              "['ABQ', 'AEX', 'AGS', 'ANC', 'ATL']"
            ]
          },
          "metadata": {},
          "execution_count": 60
        }
      ]
    },
    {
      "cell_type": "markdown",
      "source": [
        "**leftOuterJoin()**"
      ],
      "metadata": {
        "id": "szehSwOrq_x6"
      }
    },
    {
      "cell_type": "code",
      "source": [
        "flights.map(lambda c: (c[3], c[0])).take(5)"
      ],
      "metadata": {
        "colab": {
          "base_uri": "https://localhost:8080/"
        },
        "id": "wuKSEREWrCmd",
        "outputId": "9f7c1197-9185-4f23-b849-835325ff11cd"
      },
      "execution_count": 61,
      "outputs": [
        {
          "output_type": "execute_result",
          "data": {
            "text/plain": [
              "[('origin', 'date'),\n",
              " ('ABE', '01011245'),\n",
              " ('ABE', '01020600'),\n",
              " ('ABE', '01021245'),\n",
              " ('ABE', '01020605')]"
            ]
          },
          "metadata": {},
          "execution_count": 61
        }
      ]
    },
    {
      "cell_type": "code",
      "source": [
        "airports.map(lambda c: (c[3], c[1])).take(5)"
      ],
      "metadata": {
        "colab": {
          "base_uri": "https://localhost:8080/"
        },
        "id": "ztPaqLOUtRvk",
        "outputId": "bc2856fb-3016-48dc-d091-aa1c8acbe186"
      },
      "execution_count": 62,
      "outputs": [
        {
          "output_type": "execute_result",
          "data": {
            "text/plain": [
              "[('IATA', 'State'), ('YXX', 'BC'), ('ABR', 'SD'), ('ABI', 'TX'), ('CAK', 'OH')]"
            ]
          },
          "metadata": {},
          "execution_count": 62
        }
      ]
    },
    {
      "cell_type": "code",
      "source": [
        "flt = flights.map(lambda c:(c[3], c[0]))\n",
        "air = airports.map(lambda c:(c[3], c[1]))\n",
        "flt.join(air).take(5)"
      ],
      "metadata": {
        "colab": {
          "base_uri": "https://localhost:8080/"
        },
        "id": "cSo4NNXptY8F",
        "outputId": "5005d5f7-9566-40c4-cf5e-b0f2c2695e5f"
      },
      "execution_count": 63,
      "outputs": [
        {
          "output_type": "execute_result",
          "data": {
            "text/plain": [
              "[('ABE', ('01011245', 'PA')),\n",
              " ('ABE', ('01020600', 'PA')),\n",
              " ('ABE', ('01021245', 'PA')),\n",
              " ('ABE', ('01020605', 'PA')),\n",
              " ('ABE', ('01031245', 'PA'))]"
            ]
          },
          "metadata": {},
          "execution_count": 63
        }
      ]
    },
    {
      "cell_type": "code",
      "source": [
        "flt = flights.map(lambda c:(c[3], c[0]))\n",
        "air = airports.map(lambda c:(c[3], c[1]))\n",
        "air.join(flt).take(5)"
      ],
      "metadata": {
        "colab": {
          "base_uri": "https://localhost:8080/"
        },
        "id": "kXrCAKF-tsqS",
        "outputId": "b6e91be0-43e7-46f2-abb5-9a31b9cf2fe3"
      },
      "execution_count": 64,
      "outputs": [
        {
          "output_type": "execute_result",
          "data": {
            "text/plain": [
              "[('CAK', ('OH', '01010620')),\n",
              " ('CAK', ('OH', '01021110')),\n",
              " ('CAK', ('OH', '01020620')),\n",
              " ('CAK', ('OH', '01021725')),\n",
              " ('CAK', ('OH', '01031110'))]"
            ]
          },
          "metadata": {},
          "execution_count": 64
        }
      ]
    },
    {
      "cell_type": "markdown",
      "source": [
        "**repartition()**"
      ],
      "metadata": {
        "id": "D7cQbUg1t_hV"
      }
    },
    {
      "cell_type": "code",
      "source": [
        "flights.getNumPartitions()"
      ],
      "metadata": {
        "colab": {
          "base_uri": "https://localhost:8080/"
        },
        "id": "3pdKOAtcuB1r",
        "outputId": "bb6cf931-c201-4fde-9d86-0e7d29d76395"
      },
      "execution_count": 66,
      "outputs": [
        {
          "output_type": "execute_result",
          "data": {
            "text/plain": [
              "2"
            ]
          },
          "metadata": {},
          "execution_count": 66
        }
      ]
    },
    {
      "cell_type": "code",
      "source": [
        "flights2 = flights.repartition(8)\n",
        "flights2.getNumPartitions()"
      ],
      "metadata": {
        "colab": {
          "base_uri": "https://localhost:8080/"
        },
        "id": "BL0ji_eiuF3t",
        "outputId": "d435a7fa-bc3d-49a2-91b6-39d77b421500"
      },
      "execution_count": 68,
      "outputs": [
        {
          "output_type": "execute_result",
          "data": {
            "text/plain": [
              "8"
            ]
          },
          "metadata": {},
          "execution_count": 68
        }
      ]
    },
    {
      "cell_type": "code",
      "source": [
        "rdd = sc.parallelize([1, 2, 3, 4], 4)\n",
        "def f(splitIndex, iterator): yield splitIndex\n",
        "rdd.mapPartitionsWithIndex(f).sum()"
      ],
      "metadata": {
        "colab": {
          "base_uri": "https://localhost:8080/"
        },
        "id": "827JMrj5ukNC",
        "outputId": "14056199-3e39-47c2-ef35-99f6f94f0de5"
      },
      "execution_count": 69,
      "outputs": [
        {
          "output_type": "execute_result",
          "data": {
            "text/plain": [
              "6"
            ]
          },
          "metadata": {},
          "execution_count": 69
        }
      ]
    },
    {
      "cell_type": "markdown",
      "source": [
        "**ZipWithIndex()**"
      ],
      "metadata": {
        "id": "CBmdf-UbwN4T"
      }
    },
    {
      "cell_type": "code",
      "source": [
        "# Vieac each row within RDD + the index\n",
        "# i.e. output is form ([row], idx)\n",
        "\n",
        "ac = airports.map(lambda c: (c[0], c[3]))\n",
        "ac.zipWithIndex().take(5)"
      ],
      "metadata": {
        "colab": {
          "base_uri": "https://localhost:8080/"
        },
        "id": "iVjVi60qwRJH",
        "outputId": "8eb884b7-b012-4efb-bad3-7d0253461c29"
      },
      "execution_count": 70,
      "outputs": [
        {
          "output_type": "execute_result",
          "data": {
            "text/plain": [
              "[(('City', 'IATA'), 0),\n",
              " (('Abbotsford', 'YXX'), 1),\n",
              " (('Aberdeen', 'ABR'), 2),\n",
              " (('Abilene', 'ABI'), 3),\n",
              " (('Akron', 'CAK'), 4)]"
            ]
          },
          "metadata": {},
          "execution_count": 70
        }
      ]
    },
    {
      "cell_type": "code",
      "source": [
        "# zipWithIndex\n",
        "#   Sauter la ligne d'en-tête en commencant par\n",
        "#   - filtrer la ligne 0\n",
        "#   - extraire uniquement les informations sur la ligne\n",
        "\n",
        "ac.zipWithIndex().filter(lambda row_idx: row_idx[1] > 0).map(lambda row_idx: row_idx[0]).take(5)"
      ],
      "metadata": {
        "colab": {
          "base_uri": "https://localhost:8080/"
        },
        "id": "40aTghra6wCZ",
        "outputId": "736f0f93-33ad-450b-f2ef-be3b72666ed9"
      },
      "execution_count": 78,
      "outputs": [
        {
          "output_type": "execute_result",
          "data": {
            "text/plain": [
              "[('Abbotsford', 'YXX'),\n",
              " ('Aberdeen', 'ABR'),\n",
              " ('Abilene', 'ABI'),\n",
              " ('Akron', 'CAK'),\n",
              " ('Alamosa', 'ALS')]"
            ]
          },
          "metadata": {},
          "execution_count": 78
        }
      ]
    },
    {
      "cell_type": "markdown",
      "source": [
        "**sortByKey()**"
      ],
      "metadata": {
        "id": "yIByZQY88-2h"
      }
    },
    {
      "cell_type": "code",
      "source": [
        "# takes the origin code delays, remove header\n",
        "# runs a group by origin code via reduceByKey()\n",
        "# sorting by the key (origin code)\n",
        "\n",
        "\n",
        "flights.zipWithIndex()\\\n",
        "  .filter(lambda row_idx: row_idx[1] > 0)\\\n",
        "  .map(lambda row_idx: row_idx[0])\\\n",
        "  .map(lambda c: (c[3], int(c[1])))\\\n",
        "  .reduceByKey(lambda x,y: x + y)\\\n",
        "  .sortByKey()\\\n",
        "  .take(50)\n"
      ],
      "metadata": {
        "colab": {
          "base_uri": "https://localhost:8080/"
        },
        "id": "V4z6Cu4t9CX0",
        "outputId": "5f7fab33-6ed8-41d1-859d-85d90e5dd2e2"
      },
      "execution_count": 79,
      "outputs": [
        {
          "output_type": "execute_result",
          "data": {
            "text/plain": [
              "[('ABE', 5113),\n",
              " ('ABI', 5128),\n",
              " ('ABQ', 64422),\n",
              " ('ABY', 1554),\n",
              " ('ACT', 392),\n",
              " ('ACV', 8429),\n",
              " ('ADQ', -254),\n",
              " ('AEX', 10193),\n",
              " ('AGS', 5003),\n",
              " ('ALB', 22362),\n",
              " ('ALO', 2866),\n",
              " ('AMA', 21979),\n",
              " ('ANC', 4948),\n",
              " ('ATL', 1151087),\n",
              " ('ATW', 8151),\n",
              " ('AUS', 108638),\n",
              " ('AVL', 5727),\n",
              " ('AVP', 2946),\n",
              " ('AZO', 233),\n",
              " ('BDL', 54662),\n",
              " ('BET', -645),\n",
              " ('BFL', 4022),\n",
              " ('BGR', 2852),\n",
              " ('BHM', 44355),\n",
              " ('BIL', 2616),\n",
              " ('BIS', 3825),\n",
              " ('BMI', 7817),\n",
              " ('BNA', 212243),\n",
              " ('BOI', 18004),\n",
              " ('BOS', 238602),\n",
              " ('BPT', 1936),\n",
              " ('BQK', 3952),\n",
              " ('BQN', 3943),\n",
              " ('BRO', 4967),\n",
              " ('BRW', 880),\n",
              " ('BTM', -138),\n",
              " ('BTR', 21989),\n",
              " ('BTV', 14755),\n",
              " ('BUF', 54309),\n",
              " ('BUR', 42241),\n",
              " ('BWI', 362845),\n",
              " ('BZN', 7226),\n",
              " ('CAE', 25686),\n",
              " ('CAK', 14749),\n",
              " ('CDC', 51),\n",
              " ('CDV', -1024),\n",
              " ('CEC', 2832),\n",
              " ('CHA', 7586),\n",
              " ('CHO', 2421),\n",
              " ('CHS', 30789)]"
            ]
          },
          "metadata": {},
          "execution_count": 79
        }
      ]
    },
    {
      "cell_type": "code",
      "source": [
        "# Create `a` RDD of washington airports\n",
        "\n",
        "a = airports.zipWithIndex()\\\n",
        "  .filter(lambda row_idx: row_idx[1] > 0)\\\n",
        "  .map(lambda row_idx: row_idx[0])\\\n",
        "  .filter(lambda c: c[1] == \"WA\")\n",
        "\n",
        "# Create `b` RDD of British Columbia airports\n",
        "\n",
        "b = airports.zipWithIndex()\\\n",
        "  .filter(lambda row_idx: row_idx[1] > 0)\\\n",
        "  .map(lambda row_idx: row_idx[0])\\\n",
        "  .filter(lambda c: c[1] == \"BC\")\n",
        "\n",
        "# Union WA and BC airports\n",
        "\n",
        "a.union(b).take(50)"
      ],
      "metadata": {
        "colab": {
          "base_uri": "https://localhost:8080/"
        },
        "id": "ePoUoiZU9-xh",
        "outputId": "2fb36366-22c1-43ec-d428-a467576452bd"
      },
      "execution_count": 81,
      "outputs": [
        {
          "output_type": "execute_result",
          "data": {
            "text/plain": [
              "[['Bellingham', 'WA', 'USA', 'BLI'],\n",
              " ['Moses Lake', 'WA', 'USA', 'MWH'],\n",
              " ['Pasco', 'WA', 'USA', 'PSC'],\n",
              " ['Pullman', 'WA', 'USA', 'PUW'],\n",
              " ['Seattle', 'WA', 'USA', 'SEA'],\n",
              " ['Spokane', 'WA', 'USA', 'GEG'],\n",
              " ['Walla Walla', 'WA', 'USA', 'ALW'],\n",
              " ['Wenatchee', 'WA', 'USA', 'EAT'],\n",
              " ['Yakima', 'WA', 'USA', 'YKM'],\n",
              " ['Abbotsford', 'BC', 'Canada', 'YXX'],\n",
              " ['Anahim Lake', 'BC', 'Canada', 'YAA'],\n",
              " ['Campbell River', 'BC', 'Canada', 'YBL'],\n",
              " ['Castlegar', 'BC', 'Canada', 'YCG'],\n",
              " ['Cranbrook', 'BC', 'Canada', 'YXC'],\n",
              " ['Fort Nelson', 'BC', 'Canada', 'YYE'],\n",
              " ['Fort Saint John', 'BC', 'Canada', 'YXJ'],\n",
              " ['Kamloops', 'BC', 'Canada', 'YKA'],\n",
              " ['Kelowna', 'BC', 'Canada', 'YLW'],\n",
              " ['Nanaimo', 'BC', 'Canada', 'YCD'],\n",
              " ['Penticton', 'BC', 'Canada', 'YYF'],\n",
              " ['Port Hardy', 'BC', 'Canada', 'YZT'],\n",
              " ['Powell River', 'BC', 'Canada', 'YPW'],\n",
              " ['Prince George', 'BC', 'Canada', 'YXS'],\n",
              " ['Prince Rupert', 'BC', 'Canada', 'YPR'],\n",
              " ['Quesnel', 'BC', 'Canada', 'YQZ'],\n",
              " ['\"Sandspit, Queen Charlotte Islands\"', 'BC', 'Canada', 'YZP'],\n",
              " ['Smithers', 'BC', 'Canada', 'YYD'],\n",
              " ['Terrace', 'BC', 'Canada', 'YXT'],\n",
              " ['Vancouver', 'BC', 'Canada', 'YVR'],\n",
              " ['Victoria', 'BC', 'Canada', 'YYJ'],\n",
              " ['Williams Lake', 'BC', 'Canada', 'YWL']]"
            ]
          },
          "metadata": {},
          "execution_count": 81
        }
      ]
    },
    {
      "cell_type": "markdown",
      "source": [
        "**Intersect()**"
      ],
      "metadata": {
        "id": "F6_q8-xW_Mup"
      }
    },
    {
      "cell_type": "code",
      "source": [
        "# create first RDD\n",
        "a = airports.zipWithIndex()\\\n",
        "  .filter(lambda row_idx: row_idx[1] > 0)\\\n",
        "  .map(lambda row_idx: row_idx[0])\\\n",
        "  .filter(lambda c: c[1] == \"WA\")\\\n",
        "  .map(lambda c: c[3])"
      ],
      "metadata": {
        "id": "oM1ObYYT-0M1"
      },
      "execution_count": 82,
      "outputs": []
    },
    {
      "cell_type": "code",
      "source": [
        "flights.zipWithIndex()\\\n",
        "  .filter(lambda row_idx: row_idx[1] > 0)\\\n",
        "  .map(lambda row_idx: row_idx[0])\\\n",
        "  .take(50)"
      ],
      "metadata": {
        "colab": {
          "base_uri": "https://localhost:8080/"
        },
        "id": "nlSmCrjSArRg",
        "outputId": "a6dd1406-d0a0-4d73-a062-94754167a6fa"
      },
      "execution_count": 83,
      "outputs": [
        {
          "output_type": "execute_result",
          "data": {
            "text/plain": [
              "[['01011245', '6', '602', 'ABE', 'ATL'],\n",
              " ['01020600', '-8', '369', 'ABE', 'DTW'],\n",
              " ['01021245', '-2', '602', 'ABE', 'ATL'],\n",
              " ['01020605', '-4', '602', 'ABE', 'ATL'],\n",
              " ['01031245', '-4', '602', 'ABE', 'ATL'],\n",
              " ['01030605', '0', '602', 'ABE', 'ATL'],\n",
              " ['01041243', '10', '602', 'ABE', 'ATL'],\n",
              " ['01040605', '28', '602', 'ABE', 'ATL'],\n",
              " ['01051245', '88', '602', 'ABE', 'ATL'],\n",
              " ['01050605', '9', '602', 'ABE', 'ATL'],\n",
              " ['01061215', '-6', '602', 'ABE', 'ATL'],\n",
              " ['01061725', '69', '602', 'ABE', 'ATL'],\n",
              " ['01061230', '0', '369', 'ABE', 'DTW'],\n",
              " ['01060625', '-3', '602', 'ABE', 'ATL'],\n",
              " ['01070600', '0', '369', 'ABE', 'DTW'],\n",
              " ['01071725', '0', '602', 'ABE', 'ATL'],\n",
              " ['01071230', '0', '369', 'ABE', 'DTW'],\n",
              " ['01070625', '0', '602', 'ABE', 'ATL'],\n",
              " ['01071219', '0', '569', 'ABE', 'ORD'],\n",
              " ['01080600', '0', '369', 'ABE', 'DTW'],\n",
              " ['01081230', '33', '369', 'ABE', 'DTW'],\n",
              " ['01080625', '1', '602', 'ABE', 'ATL'],\n",
              " ['01080607', '5', '569', 'ABE', 'ORD'],\n",
              " ['01081219', '54', '569', 'ABE', 'ORD'],\n",
              " ['01091215', '43', '602', 'ABE', 'ATL'],\n",
              " ['01090600', '151', '369', 'ABE', 'DTW'],\n",
              " ['01091725', '0', '602', 'ABE', 'ATL'],\n",
              " ['01091230', '-4', '369', 'ABE', 'DTW'],\n",
              " ['01090625', '8', '602', 'ABE', 'ATL'],\n",
              " ['01091219', '83', '569', 'ABE', 'ORD'],\n",
              " ['01101215', '-5', '602', 'ABE', 'ATL'],\n",
              " ['01100600', '-5', '369', 'ABE', 'DTW'],\n",
              " ['01101725', '7', '602', 'ABE', 'ATL'],\n",
              " ['01101230', '-8', '369', 'ABE', 'DTW'],\n",
              " ['01100625', '52', '602', 'ABE', 'ATL'],\n",
              " ['01101219', '0', '569', 'ABE', 'ORD'],\n",
              " ['01111215', '127', '602', 'ABE', 'ATL'],\n",
              " ['01110600', '-9', '369', 'ABE', 'DTW'],\n",
              " ['01110625', '-4', '602', 'ABE', 'ATL'],\n",
              " ['01121215', '-5', '602', 'ABE', 'ATL'],\n",
              " ['01121725', '-1', '602', 'ABE', 'ATL'],\n",
              " ['01131215', '14', '602', 'ABE', 'ATL'],\n",
              " ['01130600', '-7', '369', 'ABE', 'DTW'],\n",
              " ['01131725', '-6', '602', 'ABE', 'ATL'],\n",
              " ['01131230', '-13', '369', 'ABE', 'DTW'],\n",
              " ['01130625', '29', '602', 'ABE', 'ATL'],\n",
              " ['01131219', '-8', '569', 'ABE', 'ORD'],\n",
              " ['01140600', '-9', '369', 'ABE', 'DTW'],\n",
              " ['01141725', '-9', '602', 'ABE', 'ATL'],\n",
              " ['01141230', '-8', '369', 'ABE', 'DTW']]"
            ]
          },
          "metadata": {},
          "execution_count": 83
        }
      ]
    },
    {
      "cell_type": "code",
      "source": [
        "flights.zipWithIndex()\\\n",
        "  .filter(lambda row_idx: row_idx[1] > 0)\\\n",
        "  .map(lambda row_idx: row_idx[0])\\\n",
        "  .filter(lambda c: c[1] == '0')\\\n",
        "  .take(50)"
      ],
      "metadata": {
        "colab": {
          "base_uri": "https://localhost:8080/"
        },
        "id": "vLwQUayMAxMk",
        "outputId": "f61da7d2-498c-46fe-9708-b5524ecc99e2"
      },
      "execution_count": 84,
      "outputs": [
        {
          "output_type": "execute_result",
          "data": {
            "text/plain": [
              "[['01030605', '0', '602', 'ABE', 'ATL'],\n",
              " ['01061230', '0', '369', 'ABE', 'DTW'],\n",
              " ['01070600', '0', '369', 'ABE', 'DTW'],\n",
              " ['01071725', '0', '602', 'ABE', 'ATL'],\n",
              " ['01071230', '0', '369', 'ABE', 'DTW'],\n",
              " ['01070625', '0', '602', 'ABE', 'ATL'],\n",
              " ['01071219', '0', '569', 'ABE', 'ORD'],\n",
              " ['01080600', '0', '369', 'ABE', 'DTW'],\n",
              " ['01091725', '0', '602', 'ABE', 'ATL'],\n",
              " ['01101219', '0', '569', 'ABE', 'ORD'],\n",
              " ['01150600', '0', '369', 'ABE', 'DTW'],\n",
              " ['01151230', '0', '369', 'ABE', 'DTW'],\n",
              " ['01150625', '0', '602', 'ABE', 'ATL'],\n",
              " ['01150607', '0', '569', 'ABE', 'ORD'],\n",
              " ['01151219', '0', '569', 'ABE', 'ORD'],\n",
              " ['01180625', '0', '602', 'ABE', 'ATL'],\n",
              " ['01211725', '0', '602', 'ABE', 'ATL'],\n",
              " ['01241219', '0', '569', 'ABE', 'ORD'],\n",
              " ['01271219', '0', '569', 'ABE', 'ORD'],\n",
              " ['01281219', '0', '569', 'ABE', 'ORD'],\n",
              " ['01290600', '0', '369', 'ABE', 'DTW'],\n",
              " ['01291230', '0', '369', 'ABE', 'DTW'],\n",
              " ['01301215', '0', '602', 'ABE', 'ATL'],\n",
              " ['01301230', '0', '369', 'ABE', 'DTW'],\n",
              " ['01300625', '0', '602', 'ABE', 'ATL'],\n",
              " ['01021155', '0', '137', 'ABI', 'DFW'],\n",
              " ['01060925', '0', '137', 'ABI', 'DFW'],\n",
              " ['01071730', '0', '137', 'ABI', 'DFW'],\n",
              " ['01090925', '0', '137', 'ABI', 'DFW'],\n",
              " ['01140550', '0', '137', 'ABI', 'DFW'],\n",
              " ['01211155', '0', '137', 'ABI', 'DFW'],\n",
              " ['01280550', '0', '137', 'ABI', 'DFW'],\n",
              " ['01011520', '0', '494', 'ABQ', 'DFW'],\n",
              " ['01041405', '0', '494', 'ABQ', 'DFW'],\n",
              " ['01041520', '0', '494', 'ABQ', 'DFW'],\n",
              " ['01040730', '0', '494', 'ABQ', 'DFW'],\n",
              " ['01061655', '0', '494', 'ABQ', 'DFW'],\n",
              " ['01070605', '0', '494', 'ABQ', 'DFW'],\n",
              " ['01071135', '0', '494', 'ABQ', 'DFW'],\n",
              " ['01091135', '0', '494', 'ABQ', 'DFW'],\n",
              " ['01170835', '0', '494', 'ABQ', 'DFW'],\n",
              " ['01181405', '0', '494', 'ABQ', 'DFW'],\n",
              " ['01241135', '0', '494', 'ABQ', 'DFW'],\n",
              " ['01270605', '0', '494', 'ABQ', 'DFW'],\n",
              " ['01281405', '0', '494', 'ABQ', 'DFW'],\n",
              " ['01301030', '0', '494', 'ABQ', 'DFW'],\n",
              " ['01012355', '0', '1586', 'ABQ', 'JFK'],\n",
              " ['01032355', '0', '1586', 'ABQ', 'JFK'],\n",
              " ['01042355', '0', '1586', 'ABQ', 'JFK'],\n",
              " ['01052355', '0', '1586', 'ABQ', 'JFK']]"
            ]
          },
          "metadata": {},
          "execution_count": 84
        }
      ]
    },
    {
      "cell_type": "code",
      "source": [
        "a.take(50)"
      ],
      "metadata": {
        "colab": {
          "base_uri": "https://localhost:8080/"
        },
        "id": "vjjVmrx6BC1M",
        "outputId": "1e6b1a0d-1b8a-4435-a9ab-07e500381932"
      },
      "execution_count": 85,
      "outputs": [
        {
          "output_type": "execute_result",
          "data": {
            "text/plain": [
              "['BLI', 'MWH', 'PSC', 'PUW', 'SEA', 'GEG', 'ALW', 'EAT', 'YKM']"
            ]
          },
          "metadata": {},
          "execution_count": 85
        }
      ]
    },
    {
      "cell_type": "code",
      "source": [
        "flights.take(3)"
      ],
      "metadata": {
        "colab": {
          "base_uri": "https://localhost:8080/"
        },
        "id": "OCGqttU7BEet",
        "outputId": "18119c0d-5e08-436f-f6ad-b81243b0ac6a"
      },
      "execution_count": 86,
      "outputs": [
        {
          "output_type": "execute_result",
          "data": {
            "text/plain": [
              "[['date', 'delay', 'distance', 'origin', 'destination'],\n",
              " ['01011245', '6', '602', 'ABE', 'ATL'],\n",
              " ['01020600', '-8', '369', 'ABE', 'DTW']]"
            ]
          },
          "metadata": {},
          "execution_count": 86
        }
      ]
    },
    {
      "cell_type": "markdown",
      "source": [
        "### **RDD Actions**"
      ],
      "metadata": {
        "id": "r5mWRgEqBQV4"
      }
    },
    {
      "cell_type": "code",
      "source": [
        "# take(n)\n",
        "\n",
        "airports.take(3)"
      ],
      "metadata": {
        "colab": {
          "base_uri": "https://localhost:8080/"
        },
        "id": "oEmJIyvpBTxv",
        "outputId": "808126bd-2238-415e-dc69-ca062c21c6c8"
      },
      "execution_count": 87,
      "outputs": [
        {
          "output_type": "execute_result",
          "data": {
            "text/plain": [
              "[['City', 'State', 'Country', 'IATA'],\n",
              " ['Abbotsford', 'BC', 'Canada', 'YXX'],\n",
              " ['Aberdeen', 'SD', 'USA', 'ABR']]"
            ]
          },
          "metadata": {},
          "execution_count": 87
        }
      ]
    },
    {
      "cell_type": "code",
      "source": [
        "# collect()\n",
        "\n",
        "airports.filter(lambda c: c[1] == \"WA\").collect()"
      ],
      "metadata": {
        "colab": {
          "base_uri": "https://localhost:8080/"
        },
        "id": "0Lmgr8t1BYrw",
        "outputId": "fea43cf8-3ce8-4af1-ff7f-617da5816490"
      },
      "execution_count": 88,
      "outputs": [
        {
          "output_type": "execute_result",
          "data": {
            "text/plain": [
              "[['Bellingham', 'WA', 'USA', 'BLI'],\n",
              " ['Moses Lake', 'WA', 'USA', 'MWH'],\n",
              " ['Pasco', 'WA', 'USA', 'PSC'],\n",
              " ['Pullman', 'WA', 'USA', 'PUW'],\n",
              " ['Seattle', 'WA', 'USA', 'SEA'],\n",
              " ['Spokane', 'WA', 'USA', 'GEG'],\n",
              " ['Walla Walla', 'WA', 'USA', 'ALW'],\n",
              " ['Wenatchee', 'WA', 'USA', 'EAT'],\n",
              " ['Yakima', 'WA', 'USA', 'YKM']]"
            ]
          },
          "metadata": {},
          "execution_count": 88
        }
      ]
    },
    {
      "cell_type": "code",
      "source": [
        "# reduce(f)\n",
        "\n",
        "flights\\\n",
        "  .filter(lambda c: c[3] == 'SEA' and c[4] == 'SFO')\\\n",
        "  .map(lambda c: int(c[1]))\\\n",
        "  .reduce(lambda x,y: x + y)"
      ],
      "metadata": {
        "colab": {
          "base_uri": "https://localhost:8080/"
        },
        "id": "f6sOi6T9BkLM",
        "outputId": "6b09c975-ed26-4309-c6a2-5eb92ff67319"
      },
      "execution_count": 89,
      "outputs": [
        {
          "output_type": "execute_result",
          "data": {
            "text/plain": [
              "22293"
            ]
          },
          "metadata": {},
          "execution_count": 89
        }
      ]
    },
    {
      "cell_type": "code",
      "source": [
        "flights.take(5)"
      ],
      "metadata": {
        "colab": {
          "base_uri": "https://localhost:8080/"
        },
        "id": "RX_qA-PCB7U9",
        "outputId": "951e719e-5242-410d-c1c6-27056e28a77c"
      },
      "execution_count": 90,
      "outputs": [
        {
          "output_type": "execute_result",
          "data": {
            "text/plain": [
              "[['date', 'delay', 'distance', 'origin', 'destination'],\n",
              " ['01011245', '6', '602', 'ABE', 'ATL'],\n",
              " ['01020600', '-8', '369', 'ABE', 'DTW'],\n",
              " ['01021245', '-2', '602', 'ABE', 'ATL'],\n",
              " ['01020605', '-4', '602', 'ABE', 'ATL']]"
            ]
          },
          "metadata": {},
          "execution_count": 90
        }
      ]
    },
    {
      "cell_type": "code",
      "source": [
        "# count\n",
        "\n",
        "flights.zipWithIndex()\\\n",
        "  .filter(lambda row_idx: row_idx[1] > 0)\\\n",
        "  .map(lambda row_idx: row_idx[0])\\\n",
        "  .count()"
      ],
      "metadata": {
        "colab": {
          "base_uri": "https://localhost:8080/"
        },
        "id": "-ZKjswo0CDAH",
        "outputId": "f6f2bd69-157c-4189-d3a1-6db058cd656b"
      },
      "execution_count": 91,
      "outputs": [
        {
          "output_type": "execute_result",
          "data": {
            "text/plain": [
              "1391578"
            ]
          },
          "metadata": {},
          "execution_count": 91
        }
      ]
    },
    {
      "cell_type": "code",
      "source": [
        "airports.saveAsTextFile(\"/tmp/eti/airports/\")"
      ],
      "metadata": {
        "id": "8FZ13gjNCOjb"
      },
      "execution_count": 93,
      "outputs": []
    },
    {
      "cell_type": "code",
      "source": [
        "!ls /tmp/eti/airports/"
      ],
      "metadata": {
        "colab": {
          "base_uri": "https://localhost:8080/"
        },
        "id": "aJBE2gCjCYwb",
        "outputId": "c4ceb101-cf2c-4249-c07a-e65a77cab21e"
      },
      "execution_count": 96,
      "outputs": [
        {
          "output_type": "stream",
          "name": "stdout",
          "text": [
            "part-00000  part-00001\t_SUCCESS\n"
          ]
        }
      ]
    },
    {
      "cell_type": "markdown",
      "source": [
        "### **Pitfalls of using RDDs**"
      ],
      "metadata": {
        "id": "vrtd8dDiC8cC"
      }
    },
    {
      "cell_type": "code",
      "source": [
        "### Getting Ready\n",
        "\n",
        "flights = sc.textFile(file_path_2)\\\n",
        "            .map(lambda line: line.split(\",\"))\\\n",
        "            .zipWithIndex()\\\n",
        "            .filter(lambda row_idx: row_idx[1] > 0)\\\n",
        "            .map(lambda row_idx: row_idx[0])"
      ],
      "metadata": {
        "id": "gpG8QoTxDAU0"
      },
      "execution_count": 97,
      "outputs": []
    },
    {
      "cell_type": "code",
      "source": [
        "flights.take(5)"
      ],
      "metadata": {
        "colab": {
          "base_uri": "https://localhost:8080/"
        },
        "id": "zNIIZlMgGFml",
        "outputId": "a6c8cbfc-6a71-4a30-8386-87739e21dedc"
      },
      "execution_count": 98,
      "outputs": [
        {
          "output_type": "execute_result",
          "data": {
            "text/plain": [
              "[['01011245', '6', '602', 'ABE', 'ATL'],\n",
              " ['01020600', '-8', '369', 'ABE', 'DTW'],\n",
              " ['01021245', '-2', '602', 'ABE', 'ATL'],\n",
              " ['01020605', '-4', '602', 'ABE', 'ATL'],\n",
              " ['01031245', '-4', '602', 'ABE', 'ATL']]"
            ]
          },
          "metadata": {},
          "execution_count": 98
        }
      ]
    },
    {
      "cell_type": "code",
      "source": [
        "fligthsDF = spark.read.options(header='true', inferSchema='true').csv(file_path_2)\n",
        "fligthsDF.createOrReplaceTempView(\"fligthsDF\")"
      ],
      "metadata": {
        "id": "0D0HvKLMGI2U"
      },
      "execution_count": 100,
      "outputs": []
    },
    {
      "cell_type": "code",
      "source": [
        "fligthsDF.show(5)"
      ],
      "metadata": {
        "colab": {
          "base_uri": "https://localhost:8080/"
        },
        "id": "dSobv6maG2k0",
        "outputId": "6873fbdf-dfc3-4b36-aa06-ed7c58963e3f"
      },
      "execution_count": 101,
      "outputs": [
        {
          "output_type": "stream",
          "name": "stdout",
          "text": [
            "+-------+-----+--------+------+-----------+\n",
            "|   date|delay|distance|origin|destination|\n",
            "+-------+-----+--------+------+-----------+\n",
            "|1011245|    6|     602|   ABE|        ATL|\n",
            "|1020600|   -8|     369|   ABE|        DTW|\n",
            "|1021245|   -2|     602|   ABE|        ATL|\n",
            "|1020605|   -4|     602|   ABE|        ATL|\n",
            "|1031245|   -4|     602|   ABE|        ATL|\n",
            "+-------+-----+--------+------+-----------+\n",
            "only showing top 5 rows\n",
            "\n"
          ]
        }
      ]
    },
    {
      "cell_type": "code",
      "source": [
        "# How to do it\n",
        "flights.map(lambda c: (c[3], int(c[1]))).reduceByKey(lambda x, y: x + y).sortByKey().take(50)"
      ],
      "metadata": {
        "colab": {
          "base_uri": "https://localhost:8080/"
        },
        "id": "F6i-g71bG52H",
        "outputId": "795699e6-6bb3-43ee-c2b3-e51865eae0c2"
      },
      "execution_count": 102,
      "outputs": [
        {
          "output_type": "execute_result",
          "data": {
            "text/plain": [
              "[('ABE', 5113),\n",
              " ('ABI', 5128),\n",
              " ('ABQ', 64422),\n",
              " ('ABY', 1554),\n",
              " ('ACT', 392),\n",
              " ('ACV', 8429),\n",
              " ('ADQ', -254),\n",
              " ('AEX', 10193),\n",
              " ('AGS', 5003),\n",
              " ('ALB', 22362),\n",
              " ('ALO', 2866),\n",
              " ('AMA', 21979),\n",
              " ('ANC', 4948),\n",
              " ('ATL', 1151087),\n",
              " ('ATW', 8151),\n",
              " ('AUS', 108638),\n",
              " ('AVL', 5727),\n",
              " ('AVP', 2946),\n",
              " ('AZO', 233),\n",
              " ('BDL', 54662),\n",
              " ('BET', -645),\n",
              " ('BFL', 4022),\n",
              " ('BGR', 2852),\n",
              " ('BHM', 44355),\n",
              " ('BIL', 2616),\n",
              " ('BIS', 3825),\n",
              " ('BMI', 7817),\n",
              " ('BNA', 212243),\n",
              " ('BOI', 18004),\n",
              " ('BOS', 238602),\n",
              " ('BPT', 1936),\n",
              " ('BQK', 3952),\n",
              " ('BQN', 3943),\n",
              " ('BRO', 4967),\n",
              " ('BRW', 880),\n",
              " ('BTM', -138),\n",
              " ('BTR', 21989),\n",
              " ('BTV', 14755),\n",
              " ('BUF', 54309),\n",
              " ('BUR', 42241),\n",
              " ('BWI', 362845),\n",
              " ('BZN', 7226),\n",
              " ('CAE', 25686),\n",
              " ('CAK', 14749),\n",
              " ('CDC', 51),\n",
              " ('CDV', -1024),\n",
              " ('CEC', 2832),\n",
              " ('CHA', 7586),\n",
              " ('CHO', 2421),\n",
              " ('CHS', 30789)]"
            ]
          },
          "metadata": {},
          "execution_count": 102
        }
      ]
    },
    {
      "cell_type": "code",
      "source": [
        "flights = sc.textFile(file_path_2, minPartitions=8)\\\n",
        "            .map(lambda line: line.split(\",\"))\\\n",
        "            .zipWithIndex()\\\n",
        "            .filter(lambda row_idx: row_idx[1] > 0)\\\n",
        "            .map(lambda row_idx: row_idx[0])"
      ],
      "metadata": {
        "id": "xrJ5AXS0HTW5"
      },
      "execution_count": 104,
      "outputs": []
    },
    {
      "cell_type": "code",
      "source": [
        "flights.count()"
      ],
      "metadata": {
        "colab": {
          "base_uri": "https://localhost:8080/"
        },
        "id": "S3wgZ8uxHhPq",
        "outputId": "6351f5dc-6bbc-464c-906f-f97bda90e64d"
      },
      "execution_count": 105,
      "outputs": [
        {
          "output_type": "execute_result",
          "data": {
            "text/plain": [
              "1391578"
            ]
          },
          "metadata": {},
          "execution_count": 105
        }
      ]
    },
    {
      "cell_type": "code",
      "source": [
        "flights.getNumPartitions()"
      ],
      "metadata": {
        "colab": {
          "base_uri": "https://localhost:8080/"
        },
        "id": "tCWNGWOGHkOK",
        "outputId": "07699fa4-9320-4875-bd9d-a2934178dd96"
      },
      "execution_count": 106,
      "outputs": [
        {
          "output_type": "execute_result",
          "data": {
            "text/plain": [
              "8"
            ]
          },
          "metadata": {},
          "execution_count": 106
        }
      ]
    },
    {
      "cell_type": "code",
      "source": [
        "def count_in_a_partitions(idx, iterator):\n",
        "  count = 0\n",
        "  for _ in iterator:\n",
        "    count += 1\n",
        "  return idx, count\n",
        "\n",
        "flights.mapPartitionsWithIndex(count_in_a_partitions).collect()"
      ],
      "metadata": {
        "colab": {
          "base_uri": "https://localhost:8080/"
        },
        "id": "0ddP4_FgHpAz",
        "outputId": "4a59df4f-923b-4410-998c-e4fe062ea908"
      },
      "execution_count": 107,
      "outputs": [
        {
          "output_type": "execute_result",
          "data": {
            "text/plain": [
              "[0,\n",
              " 174293,\n",
              " 1,\n",
              " 174020,\n",
              " 2,\n",
              " 173849,\n",
              " 3,\n",
              " 174006,\n",
              " 4,\n",
              " 173864,\n",
              " 5,\n",
              " 174308,\n",
              " 6,\n",
              " 173620,\n",
              " 7,\n",
              " 173618]"
            ]
          },
          "metadata": {},
          "execution_count": 107
        }
      ]
    },
    {
      "cell_type": "code",
      "source": [
        "# How to do it\n",
        "flights.map(lambda c: (c[3], int(c[1]))).reduceByKey(lambda x, y: x + y).sortByKey().take(50)"
      ],
      "metadata": {
        "colab": {
          "base_uri": "https://localhost:8080/"
        },
        "id": "2sDl916CH89s",
        "outputId": "68ce8d6e-7a2a-4975-f482-3f1fbc5ccef2"
      },
      "execution_count": 108,
      "outputs": [
        {
          "output_type": "execute_result",
          "data": {
            "text/plain": [
              "[('ABE', 5113),\n",
              " ('ABI', 5128),\n",
              " ('ABQ', 64422),\n",
              " ('ABY', 1554),\n",
              " ('ACT', 392),\n",
              " ('ACV', 8429),\n",
              " ('ADQ', -254),\n",
              " ('AEX', 10193),\n",
              " ('AGS', 5003),\n",
              " ('ALB', 22362),\n",
              " ('ALO', 2866),\n",
              " ('AMA', 21979),\n",
              " ('ANC', 4948),\n",
              " ('ATL', 1151087),\n",
              " ('ATW', 8151),\n",
              " ('AUS', 108638),\n",
              " ('AVL', 5727),\n",
              " ('AVP', 2946),\n",
              " ('AZO', 233),\n",
              " ('BDL', 54662),\n",
              " ('BET', -645),\n",
              " ('BFL', 4022),\n",
              " ('BGR', 2852),\n",
              " ('BHM', 44355),\n",
              " ('BIL', 2616),\n",
              " ('BIS', 3825),\n",
              " ('BMI', 7817),\n",
              " ('BNA', 212243),\n",
              " ('BOI', 18004),\n",
              " ('BOS', 238602),\n",
              " ('BPT', 1936),\n",
              " ('BQK', 3952),\n",
              " ('BQN', 3943),\n",
              " ('BRO', 4967),\n",
              " ('BRW', 880),\n",
              " ('BTM', -138),\n",
              " ('BTR', 21989),\n",
              " ('BTV', 14755),\n",
              " ('BUF', 54309),\n",
              " ('BUR', 42241),\n",
              " ('BWI', 362845),\n",
              " ('BZN', 7226),\n",
              " ('CAE', 25686),\n",
              " ('CAK', 14749),\n",
              " ('CDC', 51),\n",
              " ('CDV', -1024),\n",
              " ('CEC', 2832),\n",
              " ('CHA', 7586),\n",
              " ('CHO', 2421),\n",
              " ('CHS', 30789)]"
            ]
          },
          "metadata": {},
          "execution_count": 108
        }
      ]
    }
  ]
}