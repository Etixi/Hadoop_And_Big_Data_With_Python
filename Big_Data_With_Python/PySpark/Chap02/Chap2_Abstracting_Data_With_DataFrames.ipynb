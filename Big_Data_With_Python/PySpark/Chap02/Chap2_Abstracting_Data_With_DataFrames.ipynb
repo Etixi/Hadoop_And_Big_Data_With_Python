{
  "nbformat": 4,
  "nbformat_minor": 0,
  "metadata": {
    "colab": {
      "provenance": []
    },
    "kernelspec": {
      "name": "python3",
      "display_name": "Python 3"
    },
    "language_info": {
      "name": "python"
    }
  },
  "cells": [
    {
      "cell_type": "markdown",
      "source": [
        "### **Mise En Garde: Certaines méthodes sont exploitables en fonction de la version de Python que vous ustilisez**"
      ],
      "metadata": {
        "id": "K4r2Lboba8ns"
      }
    },
    {
      "cell_type": "code",
      "execution_count": null,
      "metadata": {
        "id": "EpDtSHaLQ_aB"
      },
      "outputs": [],
      "source": [
        "!pip install pyspark"
      ]
    },
    {
      "cell_type": "code",
      "source": [
        "import pyspark\n",
        "print(f\"{pyspark.__version__}\")"
      ],
      "metadata": {
        "colab": {
          "base_uri": "https://localhost:8080/"
        },
        "id": "9SG-QOW7Rszk",
        "outputId": "3d48e4fc-11a4-45ae-a634-ace9b7580b00"
      },
      "execution_count": 1,
      "outputs": [
        {
          "output_type": "stream",
          "name": "stdout",
          "text": [
            "3.5.0\n"
          ]
        }
      ]
    },
    {
      "cell_type": "code",
      "source": [
        "import os\n",
        "os.listdir(os.getcwd())"
      ],
      "metadata": {
        "colab": {
          "base_uri": "https://localhost:8080/"
        },
        "id": "mpjcWW7slRvc",
        "outputId": "4a82843a-1e69-4ac8-d129-b8e5b719f92e"
      },
      "execution_count": 3,
      "outputs": [
        {
          "output_type": "execute_result",
          "data": {
            "text/plain": [
              "['.config',\n",
              " 'DataFrames_sample.csv',\n",
              " 'airport-codes-na.txt',\n",
              " 'DataFrames_sample.json',\n",
              " 'departuredelays.csv',\n",
              " 'tmp',\n",
              " 'sample_data']"
            ]
          },
          "metadata": {},
          "execution_count": 3
        }
      ]
    },
    {
      "cell_type": "markdown",
      "source": [
        "### **Point d'entrée : SparkContext**"
      ],
      "metadata": {
        "id": "IdTZ6rUGSCz9"
      }
    },
    {
      "cell_type": "code",
      "source": [
        "sc = pyspark.SparkContext()\n",
        "\n",
        "# Verifier si SparkContext est valide\n",
        "print(sc)"
      ],
      "metadata": {
        "colab": {
          "base_uri": "https://localhost:8080/"
        },
        "id": "flxAK3V6SWv0",
        "outputId": "d5a32fa0-c0d7-459e-de5e-39345f3dfc4d"
      },
      "execution_count": 4,
      "outputs": [
        {
          "output_type": "stream",
          "name": "stdout",
          "text": [
            "<SparkContext master=local[*] appName=pyspark-shell>\n"
          ]
        }
      ]
    },
    {
      "cell_type": "code",
      "source": [
        "# Check the version of SparkContext in PySpark Shell\n",
        "print(\"La version de Spark Context dans PySpark Shell est : \", sc.version)\n",
        "\n",
        "# Display the Python version of SparkContext\n",
        "print(\"La version Python de Spark Context dans PySpark Shell est : \", sc.pythonVer)\n",
        "\n",
        "# Display the master of SparkContext\n",
        "print(\"Le maitre de Spark Context dans PySpark Shell est : \", sc.master)"
      ],
      "metadata": {
        "colab": {
          "base_uri": "https://localhost:8080/"
        },
        "id": "rnqToQ8dR_kh",
        "outputId": "1b7e7020-8127-4d80-dd13-517d3909c73a"
      },
      "execution_count": 5,
      "outputs": [
        {
          "output_type": "stream",
          "name": "stdout",
          "text": [
            "La version de Spark Context dans PySpark Shell est :  3.5.0\n",
            "La version Python de Spark Context dans PySpark Shell est :  3.10\n",
            "Le maitre de Spark Context dans PySpark Shell est :  local[*]\n"
          ]
        }
      ]
    },
    {
      "cell_type": "markdown",
      "source": [
        "### **Create Some Data**"
      ],
      "metadata": {
        "id": "rMcJlKc8Ttnq"
      }
    },
    {
      "cell_type": "code",
      "source": [
        "sample_data = sc.parallelize([\n",
        "        (1, 'MacBook Pro', 2015, '15\"', '16GB', '512GB SSD', 13.75, 9.48, 0.61, 4.02),\n",
        "        (2, 'MacBook', 2016, '12\"', '8GB', '256GB SSD', 11.04, 7.74, 0.52, 2.03),\n",
        "        (3, 'MacBook Air', 2016, '13.3\"', '8GB', '128GB SSD', 12.8, 8.94, 0.68, 2.96),\n",
        "        (4, 'iMac', 2017, '27\"', '64GB', '1TB SSD', 25.6, 8.0, 20.3, 20.8)\n",
        "        ])"
      ],
      "metadata": {
        "id": "O_1cXodgTs5d"
      },
      "execution_count": 6,
      "outputs": []
    },
    {
      "cell_type": "markdown",
      "source": [
        "### **Creating DataFrames**"
      ],
      "metadata": {
        "id": "HcTzEvtPNXfO"
      }
    },
    {
      "cell_type": "markdown",
      "source": [
        "**SparkSession : Point d'entrée pour les Dataframes**"
      ],
      "metadata": {
        "id": "e51gUCO5N5oy"
      }
    },
    {
      "cell_type": "code",
      "source": [
        "from pyspark.sql.session import SparkSession\n",
        "spark = SparkSession(sc)"
      ],
      "metadata": {
        "id": "zB0nM2FANzeQ"
      },
      "execution_count": 7,
      "outputs": []
    },
    {
      "cell_type": "code",
      "source": [
        "sample_data_df = spark.createDataFrame(\n",
        "    sample_data,\n",
        "    [\n",
        "        'Id',\n",
        "        'Model',\n",
        "        'Year',\n",
        "        'ScreenSize',\n",
        "        'RAM',\n",
        "        'HDD',\n",
        "        'W',\n",
        "        'D',\n",
        "        'H',\n",
        "        'Weight'\n",
        "    ]\n",
        ")"
      ],
      "metadata": {
        "id": "OI9BGy1BUBsc"
      },
      "execution_count": 8,
      "outputs": []
    },
    {
      "cell_type": "code",
      "source": [
        "sample_data.take(1)"
      ],
      "metadata": {
        "colab": {
          "base_uri": "https://localhost:8080/"
        },
        "id": "S-W2X6VXUJTV",
        "outputId": "90917ba4-33f7-4059-b1c3-73f7e3ad93ae"
      },
      "execution_count": 9,
      "outputs": [
        {
          "output_type": "execute_result",
          "data": {
            "text/plain": [
              "[(1, 'MacBook Pro', 2015, '15\"', '16GB', '512GB SSD', 13.75, 9.48, 0.61, 4.02)]"
            ]
          },
          "metadata": {},
          "execution_count": 9
        }
      ]
    },
    {
      "cell_type": "code",
      "source": [
        "sample_data_df.take(1)"
      ],
      "metadata": {
        "colab": {
          "base_uri": "https://localhost:8080/"
        },
        "id": "SxpjpILnOdbY",
        "outputId": "5b2e5b5c-a1e7-4142-c63c-e6ac2d8921e6"
      },
      "execution_count": 10,
      "outputs": [
        {
          "output_type": "execute_result",
          "data": {
            "text/plain": [
              "[Row(Id=1, Model='MacBook Pro', Year=2015, ScreenSize='15\"', RAM='16GB', HDD='512GB SSD', W=13.75, D=9.48, H=0.61, Weight=4.02)]"
            ]
          },
          "metadata": {},
          "execution_count": 10
        }
      ]
    },
    {
      "cell_type": "code",
      "source": [
        "sample_data_df.show()"
      ],
      "metadata": {
        "colab": {
          "base_uri": "https://localhost:8080/"
        },
        "id": "-PZXuCMXOhnJ",
        "outputId": "4aec59de-64e4-47a5-a955-9f8c58b5575e"
      },
      "execution_count": 11,
      "outputs": [
        {
          "output_type": "stream",
          "name": "stdout",
          "text": [
            "+---+-----------+----+----------+----+---------+-----+----+----+------+\n",
            "| Id|      Model|Year|ScreenSize| RAM|      HDD|    W|   D|   H|Weight|\n",
            "+---+-----------+----+----------+----+---------+-----+----+----+------+\n",
            "|  1|MacBook Pro|2015|       15\"|16GB|512GB SSD|13.75|9.48|0.61|  4.02|\n",
            "|  2|    MacBook|2016|       12\"| 8GB|256GB SSD|11.04|7.74|0.52|  2.03|\n",
            "|  3|MacBook Air|2016|     13.3\"| 8GB|128GB SSD| 12.8|8.94|0.68|  2.96|\n",
            "|  4|       iMac|2017|       27\"|64GB|  1TB SSD| 25.6| 8.0|20.3|  20.8|\n",
            "+---+-----------+----+----------+----+---------+-----+----+----+------+\n",
            "\n"
          ]
        }
      ]
    },
    {
      "cell_type": "code",
      "source": [
        "sample_data_df.printSchema()"
      ],
      "metadata": {
        "colab": {
          "base_uri": "https://localhost:8080/"
        },
        "id": "HTHA3dQ3OvFz",
        "outputId": "3b1e8f7d-a0f4-49c4-cf57-b470f9683516"
      },
      "execution_count": 12,
      "outputs": [
        {
          "output_type": "stream",
          "name": "stdout",
          "text": [
            "root\n",
            " |-- Id: long (nullable = true)\n",
            " |-- Model: string (nullable = true)\n",
            " |-- Year: long (nullable = true)\n",
            " |-- ScreenSize: string (nullable = true)\n",
            " |-- RAM: string (nullable = true)\n",
            " |-- HDD: string (nullable = true)\n",
            " |-- W: double (nullable = true)\n",
            " |-- D: double (nullable = true)\n",
            " |-- H: double (nullable = true)\n",
            " |-- Weight: double (nullable = true)\n",
            "\n"
          ]
        }
      ]
    },
    {
      "cell_type": "markdown",
      "source": [
        "### **From JSON**\n"
      ],
      "metadata": {
        "id": "11JC5-AqV6x_"
      }
    },
    {
      "cell_type": "code",
      "source": [
        "sample_data_json_df = (\n",
        "    spark\n",
        "    .read\n",
        "    .json('DataFrames_sample.json')\n",
        ")"
      ],
      "metadata": {
        "id": "mL_4ExjeV95a"
      },
      "execution_count": 13,
      "outputs": []
    },
    {
      "cell_type": "code",
      "source": [
        "sample_data_json_df.show()"
      ],
      "metadata": {
        "colab": {
          "base_uri": "https://localhost:8080/"
        },
        "id": "fOMsC92PWKFM",
        "outputId": "3fbe8820-2cea-45c8-c01e-979392028275"
      },
      "execution_count": 14,
      "outputs": [
        {
          "output_type": "stream",
          "name": "stdout",
          "text": [
            "+----+----+---------+-----------+----+-----------+-----+-------+-----+---+\n",
            "|   D|   H|      HDD|      Model| RAM| ScreenSize|    W| Weight| Year| Id|\n",
            "+----+----+---------+-----------+----+-----------+-----+-------+-----+---+\n",
            "|9.48|0.61|512GB SSD|MacBook Pro|16GB|        15\"|13.75|   4.02| 2015|  1|\n",
            "|7.74|0.52|256GB SSD|    MacBook| 8GB|        12\"|11.04|   2.03| 2016|  2|\n",
            "|8.94|0.68|128GB SSD|MacBook Air| 8GB|      13.3\"| 12.8|   2.96| 2016|  3|\n",
            "| 8.0|20.3|  1TB SSD|       iMac|64GB|        27\"| 25.6|   20.8| 2017|  4|\n",
            "+----+----+---------+-----------+----+-----------+-----+-------+-----+---+\n",
            "\n"
          ]
        }
      ]
    },
    {
      "cell_type": "code",
      "source": [
        "sample_data_json_df.printSchema()"
      ],
      "metadata": {
        "colab": {
          "base_uri": "https://localhost:8080/"
        },
        "id": "m7MMpgc7WQH1",
        "outputId": "bcde83de-3776-499e-9b7a-cd5b217f6e09"
      },
      "execution_count": 15,
      "outputs": [
        {
          "output_type": "stream",
          "name": "stdout",
          "text": [
            "root\n",
            " |--  D: double (nullable = true)\n",
            " |--  H: double (nullable = true)\n",
            " |--  HDD: string (nullable = true)\n",
            " |--  Model: string (nullable = true)\n",
            " |--  RAM: string (nullable = true)\n",
            " |--  ScreenSize: string (nullable = true)\n",
            " |--  W: double (nullable = true)\n",
            " |--  Weight: double (nullable = true)\n",
            " |--  Year: long (nullable = true)\n",
            " |-- Id: long (nullable = true)\n",
            "\n"
          ]
        }
      ]
    },
    {
      "cell_type": "markdown",
      "source": [
        "### **FROM CSV**"
      ],
      "metadata": {
        "id": "MDE_I8QhQV-v"
      }
    },
    {
      "cell_type": "code",
      "source": [
        "sample_data_csv = (\n",
        "    spark\n",
        "    .read\n",
        "    .csv('DataFrames_sample.csv',\n",
        "         header = True,\n",
        "        inferSchema = True)\n",
        "\n",
        ")"
      ],
      "metadata": {
        "id": "qFdfrFqPWTeH"
      },
      "execution_count": 16,
      "outputs": []
    },
    {
      "cell_type": "code",
      "source": [
        "sample_data_csv.show()"
      ],
      "metadata": {
        "colab": {
          "base_uri": "https://localhost:8080/"
        },
        "id": "jjUwuLXTQ9Jn",
        "outputId": "89eb14ad-064d-4d75-f56e-a0ade5324d19"
      },
      "execution_count": 17,
      "outputs": [
        {
          "output_type": "stream",
          "name": "stdout",
          "text": [
            "+---+-----------+-----+-----------+----+---------+-----+----+----+-------+\n",
            "| Id|      Model| Year| ScreenSize| RAM|      HDD|    W|   D|   H| Weight|\n",
            "+---+-----------+-----+-----------+----+---------+-----+----+----+-------+\n",
            "|  1|MacBook Pro| 2015|        15\"|16GB|512GB SSD|13.75|9.48|0.61|   4.02|\n",
            "|  2|    MacBook| 2016|        12\"| 8GB|256GB SSD|11.04|7.74|0.52|   2.03|\n",
            "|  3|MacBook Air| 2016|      13.3\"| 8GB|128GB SSD| 12.8|8.94|0.68|   2.96|\n",
            "|  4|       iMac| 2017|        27\"|64GB|  1TB SSD| 25.6| 8.0|20.3|   20.8|\n",
            "+---+-----------+-----+-----------+----+---------+-----+----+----+-------+\n",
            "\n"
          ]
        }
      ]
    },
    {
      "cell_type": "code",
      "source": [
        "sample_data_csv.printSchema()"
      ],
      "metadata": {
        "colab": {
          "base_uri": "https://localhost:8080/"
        },
        "id": "UjByl1hPRIp_",
        "outputId": "b782d7a1-82cb-4ebe-eb2c-61095e17bad1"
      },
      "execution_count": 18,
      "outputs": [
        {
          "output_type": "stream",
          "name": "stdout",
          "text": [
            "root\n",
            " |-- Id: integer (nullable = true)\n",
            " |--  Model: string (nullable = true)\n",
            " |--  Year: integer (nullable = true)\n",
            " |--  ScreenSize: string (nullable = true)\n",
            " |--  RAM: string (nullable = true)\n",
            " |--  HDD: string (nullable = true)\n",
            " |--  W: double (nullable = true)\n",
            " |--  D: double (nullable = true)\n",
            " |--  H: double (nullable = true)\n",
            " |--  Weight: double (nullable = true)\n",
            "\n"
          ]
        }
      ]
    },
    {
      "cell_type": "markdown",
      "source": [
        "### **Accessing underlying RDDs**"
      ],
      "metadata": {
        "id": "_j4H1IZmSvPy"
      }
    },
    {
      "cell_type": "code",
      "source": [
        "sample_data_df.rdd.take(1)"
      ],
      "metadata": {
        "colab": {
          "base_uri": "https://localhost:8080/"
        },
        "id": "mIekkROAXAh2",
        "outputId": "b5f49547-ced9-49b8-e4f5-72f384688af7"
      },
      "execution_count": 19,
      "outputs": [
        {
          "output_type": "execute_result",
          "data": {
            "text/plain": [
              "[Row(Id=1, Model='MacBook Pro', Year=2015, ScreenSize='15\"', RAM='16GB', HDD='512GB SSD', W=13.75, D=9.48, H=0.61, Weight=4.02)]"
            ]
          },
          "metadata": {},
          "execution_count": 19
        }
      ]
    },
    {
      "cell_type": "code",
      "source": [
        "sample_data.take(1)"
      ],
      "metadata": {
        "colab": {
          "base_uri": "https://localhost:8080/"
        },
        "id": "lc2D_1gZXI5v",
        "outputId": "c546a714-d3d4-4d2e-ba3e-4adabc77c493"
      },
      "execution_count": 20,
      "outputs": [
        {
          "output_type": "execute_result",
          "data": {
            "text/plain": [
              "[(1, 'MacBook Pro', 2015, '15\"', '16GB', '512GB SSD', 13.75, 9.48, 0.61, 4.02)]"
            ]
          },
          "metadata": {},
          "execution_count": 20
        }
      ]
    },
    {
      "cell_type": "code",
      "source": [
        "import pyspark.sql as sql\n",
        "import pyspark.sql.functions as f\n",
        "\n",
        "sample_data_transformed = (\n",
        "    sample_data_df\n",
        "    .rdd\n",
        "    .map(lambda row: sql.Row(\n",
        "        **row.asDict(),\n",
        "        HDD_size=row.HDD.split(' ')[0],\n",
        "        HDD_type=row.HDD.split(' ')[1],\n",
        "        Volume=row.H * row.D * row.W,\n",
        "      )\n",
        "    )\n",
        "    .toDF()\n",
        "    .select(\n",
        "        sample_data_df.columns +\n",
        "        [\n",
        "            'HDD_size',\n",
        "            'HDD_type',\n",
        "            f.round(f.col('Volume')).alias('Volume_cuIn')\n",
        "        ]\n",
        "    )\n",
        ")\n",
        "\n",
        "sample_data_transformed.show()"
      ],
      "metadata": {
        "colab": {
          "base_uri": "https://localhost:8080/"
        },
        "id": "b2dhtdozVIiR",
        "outputId": "0c49e500-1e6a-498f-8526-91a3c0d0d88a"
      },
      "execution_count": 21,
      "outputs": [
        {
          "output_type": "stream",
          "name": "stdout",
          "text": [
            "+---+-----------+----+----------+----+---------+-----+----+----+------+--------+--------+-----------+\n",
            "| Id|      Model|Year|ScreenSize| RAM|      HDD|    W|   D|   H|Weight|HDD_size|HDD_type|Volume_cuIn|\n",
            "+---+-----------+----+----------+----+---------+-----+----+----+------+--------+--------+-----------+\n",
            "|  1|MacBook Pro|2015|       15\"|16GB|512GB SSD|13.75|9.48|0.61|  4.02|   512GB|     SSD|       80.0|\n",
            "|  2|    MacBook|2016|       12\"| 8GB|256GB SSD|11.04|7.74|0.52|  2.03|   256GB|     SSD|       44.0|\n",
            "|  3|MacBook Air|2016|     13.3\"| 8GB|128GB SSD| 12.8|8.94|0.68|  2.96|   128GB|     SSD|       78.0|\n",
            "|  4|       iMac|2017|       27\"|64GB|  1TB SSD| 25.6| 8.0|20.3|  20.8|     1TB|     SSD|     4157.0|\n",
            "+---+-----------+----+----------+----+---------+-----+----+----+------+--------+--------+-----------+\n",
            "\n"
          ]
        }
      ]
    },
    {
      "cell_type": "markdown",
      "source": [
        "### **Performance optimizations**"
      ],
      "metadata": {
        "id": "9g1VHt0rVvJN"
      }
    },
    {
      "cell_type": "code",
      "source": [
        "import pyspark.sql.functions as f\n",
        "\n",
        "big_df = (\n",
        "    spark\n",
        "    .range(0, 10000000)\n",
        "    .withColumn('val', f.rand())\n",
        ")\n",
        "\n",
        "big_df.cache()\n",
        "big_df.show(3)"
      ],
      "metadata": {
        "colab": {
          "base_uri": "https://localhost:8080/"
        },
        "id": "LR_QGdTKXv_f",
        "outputId": "788db322-9981-4aef-9ded-d68936485e8d"
      },
      "execution_count": 22,
      "outputs": [
        {
          "output_type": "stream",
          "name": "stdout",
          "text": [
            "+---+-------------------+\n",
            "| id|                val|\n",
            "+---+-------------------+\n",
            "|  0|0.15824727011221507|\n",
            "|  1| 0.7916534940264927|\n",
            "|  2| 0.9268211161181736|\n",
            "+---+-------------------+\n",
            "only showing top 3 rows\n",
            "\n"
          ]
        }
      ]
    },
    {
      "cell_type": "code",
      "source": [
        "import pandas as pd\n",
        "from scipy import stats\n",
        "\n",
        "@f.pandas_udf('double', f.PandasUDFType.SCALAR)\n",
        "def pandas_pdf(v):\n",
        "  return pd.Series(stats.norm.pdf(v))\n",
        "\n",
        "\n",
        "def test_pandas_pdf():\n",
        "  return (big_df\n",
        "          .withColumn('probability', pandas_pdf(big_df.val))\n",
        "          .agg(f.count(f.col('probability')))\n",
        "          .show()\n",
        "          )\n",
        "\n",
        "%timeit -n 1 test_pandas_pdf()"
      ],
      "metadata": {
        "colab": {
          "base_uri": "https://localhost:8080/"
        },
        "id": "zshM2dY0XzuG",
        "outputId": "b114b2d4-56bd-4d6f-c9f5-32135799c44e"
      },
      "execution_count": 23,
      "outputs": [
        {
          "output_type": "stream",
          "name": "stderr",
          "text": [
            "/usr/local/lib/python3.10/dist-packages/pyspark/sql/pandas/functions.py:407: UserWarning: In Python 3.6+ and Spark 3.0+, it is preferred to specify type hints for pandas UDF instead of specifying pandas UDF type which will be deprecated in the future releases. See SPARK-28264 for more details.\n",
            "  warnings.warn(\n"
          ]
        },
        {
          "output_type": "stream",
          "name": "stdout",
          "text": [
            "+------------------+\n",
            "|count(probability)|\n",
            "+------------------+\n",
            "|          10000000|\n",
            "+------------------+\n",
            "\n",
            "+------------------+\n",
            "|count(probability)|\n",
            "+------------------+\n",
            "|          10000000|\n",
            "+------------------+\n",
            "\n",
            "+------------------+\n",
            "|count(probability)|\n",
            "+------------------+\n",
            "|          10000000|\n",
            "+------------------+\n",
            "\n",
            "+------------------+\n",
            "|count(probability)|\n",
            "+------------------+\n",
            "|          10000000|\n",
            "+------------------+\n",
            "\n",
            "+------------------+\n",
            "|count(probability)|\n",
            "+------------------+\n",
            "|          10000000|\n",
            "+------------------+\n",
            "\n",
            "+------------------+\n",
            "|count(probability)|\n",
            "+------------------+\n",
            "|          10000000|\n",
            "+------------------+\n",
            "\n",
            "+------------------+\n",
            "|count(probability)|\n",
            "+------------------+\n",
            "|          10000000|\n",
            "+------------------+\n",
            "\n",
            "7.08 s ± 2.39 s per loop (mean ± std. dev. of 7 runs, 1 loop each)\n"
          ]
        }
      ]
    },
    {
      "cell_type": "code",
      "source": [
        "(\n",
        "    big_df\n",
        "    .withColumn('probability', pandas_pdf(big_df.val))\n",
        "    .show(5)\n",
        ")"
      ],
      "metadata": {
        "colab": {
          "base_uri": "https://localhost:8080/"
        },
        "id": "bDel2VGegQFM",
        "outputId": "d5db4682-b205-4c34-dba7-c59d57cffbbf"
      },
      "execution_count": 25,
      "outputs": [
        {
          "output_type": "stream",
          "name": "stdout",
          "text": [
            "+---+-------------------+-------------------+\n",
            "| id|                val|        probability|\n",
            "+---+-------------------+-------------------+\n",
            "|  0|0.15824727011221507|  0.393978227070457|\n",
            "|  1| 0.7916534940264927| 0.2916221969529596|\n",
            "|  2| 0.9268211161181736|0.25964571187563923|\n",
            "|  3| 0.7911086142069876| 0.2917479737666859|\n",
            "|  4| 0.9076854937346297|0.26424329956613596|\n",
            "+---+-------------------+-------------------+\n",
            "only showing top 5 rows\n",
            "\n"
          ]
        }
      ]
    },
    {
      "cell_type": "code",
      "source": [
        "@f.udf('double')\n",
        "def pdf(v):\n",
        "  return float(stats.norm.pdf(v))\n",
        "\n",
        "def test_pdf():\n",
        "  return (big_df\n",
        "          .withColumn('probability', pdf(big_df.val))\n",
        "          .agg(f.count(f.col('probability')))\n",
        "        )\n",
        "\n",
        "%timeit -n 1 test_pdf()"
      ],
      "metadata": {
        "colab": {
          "base_uri": "https://localhost:8080/"
        },
        "id": "7EMUtd7-bWsY",
        "outputId": "0b5f9892-528d-4d31-e701-f32f1ce30e83"
      },
      "execution_count": 26,
      "outputs": [
        {
          "output_type": "stream",
          "name": "stdout",
          "text": [
            "25.5 ms ± 6.55 ms per loop (mean ± std. dev. of 7 runs, 1 loop each)\n"
          ]
        }
      ]
    },
    {
      "cell_type": "markdown",
      "source": [
        "### **Inferring the schema using reflection**"
      ],
      "metadata": {
        "id": "epiiqQm-hfdu"
      }
    },
    {
      "cell_type": "code",
      "source": [
        "sample_data_rdd = sc.textFile('DataFrames_sample.csv')\n",
        "sample_data_rdd.take(2)"
      ],
      "metadata": {
        "colab": {
          "base_uri": "https://localhost:8080/"
        },
        "id": "5AgpMqM0bd2e",
        "outputId": "0b716de8-e5f2-4cac-a270-1bf440cb4c72"
      },
      "execution_count": 37,
      "outputs": [
        {
          "output_type": "execute_result",
          "data": {
            "text/plain": [
              "['Id, Model, Year, ScreenSize, RAM, HDD, W, D, H, Weight',\n",
              " '1,MacBook Pro,2015,\"15\\\\\"\",16GB,512GB SSD,13.75,9.48,0.61,4.02']"
            ]
          },
          "metadata": {},
          "execution_count": 37
        }
      ]
    },
    {
      "cell_type": "code",
      "source": [
        "import pyspark.sql as sql\n",
        "\n",
        "header = sample_data_rdd.first()\n",
        "\n",
        "\n",
        "sample_data_rdd_row = (\n",
        "    sample_data_rdd\n",
        "    .filter(lambda row: row != header)\n",
        "    .map(lambda row: row.split(','))\n",
        "    .map(lambda row:\n",
        "         sql.Row(\n",
        "             Id=int(row[0]),\n",
        "             Model=row[1],\n",
        "             Year=int(row[2]),\n",
        "             ScreenSize=row[3],\n",
        "             RAM=row[4],\n",
        "             HDD=row[5],\n",
        "             W=float(row[6]),\n",
        "             D=float(row[7]),\n",
        "             H=float(row[8]),\n",
        "             Weight=float(row[9])\n",
        "         )\n",
        "    )\n",
        ")"
      ],
      "metadata": {
        "id": "vg-Oe1hXml6S"
      },
      "execution_count": 38,
      "outputs": []
    },
    {
      "cell_type": "code",
      "source": [
        "spark.createDataFrame(sample_data_rdd_row).show(3)"
      ],
      "metadata": {
        "colab": {
          "base_uri": "https://localhost:8080/"
        },
        "id": "xy9te4AJmpXS",
        "outputId": "cb664e8a-3e19-489d-937e-c4094f66cd0b"
      },
      "execution_count": 39,
      "outputs": [
        {
          "output_type": "stream",
          "name": "stdout",
          "text": [
            "+---+-----------+----+----------+----+---------+-----+----+----+------+\n",
            "| Id|      Model|Year|ScreenSize| RAM|      HDD|    W|   D|   H|Weight|\n",
            "+---+-----------+----+----------+----+---------+-----+----+----+------+\n",
            "|  1|MacBook Pro|2015|    \"15\\\"\"|16GB|512GB SSD|13.75|9.48|0.61|  4.02|\n",
            "|  2|    MacBook|2016|    \"12\\\"\"| 8GB|256GB SSD|11.04|7.74|0.52|  2.03|\n",
            "|  3|MacBook Air|2016|  \"13.3\\\"\"| 8GB|128GB SSD| 12.8|8.94|0.68|  2.96|\n",
            "+---+-----------+----+----------+----+---------+-----+----+----+------+\n",
            "only showing top 3 rows\n",
            "\n"
          ]
        }
      ]
    },
    {
      "cell_type": "markdown",
      "source": [
        "### **Specifying the Schema programmatically**"
      ],
      "metadata": {
        "id": "G7VvBr4NmyoT"
      }
    },
    {
      "cell_type": "markdown",
      "source": [
        "**SparkSession : Point d'entrée pour les Dataframes**"
      ],
      "metadata": {
        "id": "aUkUNjHhoZbl"
      }
    },
    {
      "cell_type": "code",
      "source": [
        "import pyspark.sql.types as typ\n",
        "\n",
        "sch = typ.StructType([\n",
        "\n",
        "    typ.StructField('Id', typ.LongType(), False),\n",
        "    typ.StructField('Model', typ.StringType(), True),\n",
        "    typ.StructField('Year', typ.IntegerType(), True),\n",
        "    typ.StructField('ScreenSize', typ.StringType(), True),\n",
        "    typ.StructField('RAM', typ.StringType(), True),\n",
        "    typ.StructField('HDD', typ.StringType(), True),\n",
        "    typ.StructField('W', typ.DoubleType(), True),\n",
        "    typ.StructField('D', typ.DoubleType(), True),\n",
        "    typ.StructField('H', typ.DoubleType(), True),\n",
        "    typ.StructField('Weight', typ.DoubleType(), True)\n",
        "])"
      ],
      "metadata": {
        "id": "ufmO4_UKoGzM"
      },
      "execution_count": 50,
      "outputs": []
    },
    {
      "cell_type": "code",
      "source": [
        "sample_data_rdd = sc.textFile('DataFrames_sample.csv')\n",
        "\n",
        "header = sample_data_rdd.first()\n",
        "\n",
        "\n",
        "sample_data_rdd = (\n",
        "    sample_data_rdd\n",
        "    .filter(lambda row: row != header)\n",
        "    .map(lambda row: row.split(','))\n",
        "    .map(lambda row:(\n",
        "             int(row[0]),\n",
        "             row[1],\n",
        "             int(row[2]),\n",
        "             row[3],\n",
        "             row[4],\n",
        "             row[5],\n",
        "             float(row[6]),\n",
        "             float(row[7]),\n",
        "             float(row[8]),\n",
        "             float(row[9])\n",
        "         )\n",
        "    )\n",
        ")\n",
        "\n",
        "sample_data_schema = spark.createDataFrame(sample_data_rdd, schema=sch)\n",
        "sample_data_schema.show()"
      ],
      "metadata": {
        "colab": {
          "base_uri": "https://localhost:8080/"
        },
        "id": "zubLomZUm1dc",
        "outputId": "21443c77-4484-4be9-ec8b-a6a85dbdd06e"
      },
      "execution_count": 52,
      "outputs": [
        {
          "output_type": "stream",
          "name": "stdout",
          "text": [
            "+---+-----------+----+----------+----+---------+-----+----+----+------+\n",
            "| Id|      Model|Year|ScreenSize| RAM|      HDD|    W|   D|   H|Weight|\n",
            "+---+-----------+----+----------+----+---------+-----+----+----+------+\n",
            "|  1|MacBook Pro|2015|    \"15\\\"\"|16GB|512GB SSD|13.75|9.48|0.61|  4.02|\n",
            "|  2|    MacBook|2016|    \"12\\\"\"| 8GB|256GB SSD|11.04|7.74|0.52|  2.03|\n",
            "|  3|MacBook Air|2016|  \"13.3\\\"\"| 8GB|128GB SSD| 12.8|8.94|0.68|  2.96|\n",
            "|  4|       iMac|2017|    \"27\\\"\"|64GB|  1TB SSD| 25.6| 8.0|20.3|  20.8|\n",
            "+---+-----------+----+----------+----+---------+-----+----+----+------+\n",
            "\n"
          ]
        }
      ]
    },
    {
      "cell_type": "markdown",
      "source": [
        "### **Creating a temporary table**"
      ],
      "metadata": {
        "id": "XjDk1sBlq2Ts"
      }
    },
    {
      "cell_type": "code",
      "source": [
        "sample_data_schema.createTempView('sample_data_view')"
      ],
      "metadata": {
        "id": "KzKTw3FyonBv"
      },
      "execution_count": 53,
      "outputs": []
    },
    {
      "cell_type": "code",
      "source": [
        "spark.sql(\n",
        "    '''\n",
        "    SELECT Model,\n",
        "          Year,\n",
        "          RAM,\n",
        "          HDD\n",
        "    FROM sample_data_view\n",
        "    '''\n",
        ").show()\n"
      ],
      "metadata": {
        "colab": {
          "base_uri": "https://localhost:8080/"
        },
        "id": "J0NZna0MrB08",
        "outputId": "9e4b0ddc-cb30-4e0c-9258-c464e1532ba6"
      },
      "execution_count": 55,
      "outputs": [
        {
          "output_type": "stream",
          "name": "stdout",
          "text": [
            "+-----------+----+----+---------+\n",
            "|      Model|Year| RAM|      HDD|\n",
            "+-----------+----+----+---------+\n",
            "|MacBook Pro|2015|16GB|512GB SSD|\n",
            "|    MacBook|2016| 8GB|256GB SSD|\n",
            "|MacBook Air|2016| 8GB|128GB SSD|\n",
            "|       iMac|2017|64GB|  1TB SSD|\n",
            "+-----------+----+----+---------+\n",
            "\n"
          ]
        }
      ]
    },
    {
      "cell_type": "code",
      "source": [
        "sample_data_schema.createOrReplaceTempView('sample_data_view')"
      ],
      "metadata": {
        "id": "sAzw_8uTorXI"
      },
      "execution_count": 56,
      "outputs": []
    },
    {
      "cell_type": "code",
      "source": [
        "spark.sql(\n",
        "    '''\n",
        "    SELECT Model,\n",
        "          Year,\n",
        "          RAM,\n",
        "          HDD,\n",
        "          ScreenSize\n",
        "    FROM sample_data_view\n",
        "    '''\n",
        ").show()"
      ],
      "metadata": {
        "colab": {
          "base_uri": "https://localhost:8080/"
        },
        "id": "2jrYBWSDoyZ5",
        "outputId": "330ec34e-9145-46a2-a74b-db6e1ffd2b88"
      },
      "execution_count": 58,
      "outputs": [
        {
          "output_type": "stream",
          "name": "stdout",
          "text": [
            "+-----------+----+----+---------+----------+\n",
            "|      Model|Year| RAM|      HDD|ScreenSize|\n",
            "+-----------+----+----+---------+----------+\n",
            "|MacBook Pro|2015|16GB|512GB SSD|    \"15\\\"\"|\n",
            "|    MacBook|2016| 8GB|256GB SSD|    \"12\\\"\"|\n",
            "|MacBook Air|2016| 8GB|128GB SSD|  \"13.3\\\"\"|\n",
            "|       iMac|2017|64GB|  1TB SSD|    \"27\\\"\"|\n",
            "+-----------+----+----+---------+----------+\n",
            "\n"
          ]
        }
      ]
    },
    {
      "cell_type": "markdown",
      "source": [
        "### **Using SQL To Interact With DataFrames**"
      ],
      "metadata": {
        "id": "Vf71QltKsyd4"
      }
    },
    {
      "cell_type": "code",
      "source": [
        "models_df = sc.parallelize([\n",
        "    ('MacBook Pro', 'Laptop'),\n",
        "    ('MacBook Air', 'Laptop'),\n",
        "    ('MacBook', 'Laptop'),\n",
        "    ('iMac', 'Desktop'),\n",
        "]).toDF(['Model', 'FormFactor'])\n",
        "\n",
        "models_df.createOrReplaceTempView('models')"
      ],
      "metadata": {
        "id": "HhvGYR5zpBum"
      },
      "execution_count": 62,
      "outputs": []
    },
    {
      "cell_type": "code",
      "source": [
        "sample_data_schema.createOrReplaceTempView('sample_data_view')"
      ],
      "metadata": {
        "id": "R2tpjEutpniT"
      },
      "execution_count": 63,
      "outputs": []
    },
    {
      "cell_type": "code",
      "source": [
        "spark.sql(\n",
        "    '''\n",
        "    SELECT a.*,\n",
        "            b.FormFactor\n",
        "    FROM sample_data_view AS a\n",
        "    LEFT JOIN models as b\n",
        "      ON a.Model == b.Model\n",
        "    ORDER BY Weight DESC\n",
        "    '''\n",
        ").show()"
      ],
      "metadata": {
        "colab": {
          "base_uri": "https://localhost:8080/"
        },
        "id": "B7pJeR8wp4VH",
        "outputId": "ca141a50-03b1-4642-e263-2abc02383da9"
      },
      "execution_count": 64,
      "outputs": [
        {
          "output_type": "stream",
          "name": "stdout",
          "text": [
            "+---+-----------+----+----------+----+---------+-----+----+----+------+----------+\n",
            "| Id|      Model|Year|ScreenSize| RAM|      HDD|    W|   D|   H|Weight|FormFactor|\n",
            "+---+-----------+----+----------+----+---------+-----+----+----+------+----------+\n",
            "|  4|       iMac|2017|    \"27\\\"\"|64GB|  1TB SSD| 25.6| 8.0|20.3|  20.8|   Desktop|\n",
            "|  1|MacBook Pro|2015|    \"15\\\"\"|16GB|512GB SSD|13.75|9.48|0.61|  4.02|    Laptop|\n",
            "|  3|MacBook Air|2016|  \"13.3\\\"\"| 8GB|128GB SSD| 12.8|8.94|0.68|  2.96|    Laptop|\n",
            "|  2|    MacBook|2016|    \"12\\\"\"| 8GB|256GB SSD|11.04|7.74|0.52|  2.03|    Laptop|\n",
            "+---+-----------+----+----------+----+---------+-----+----+----+------+----------+\n",
            "\n"
          ]
        }
      ]
    },
    {
      "cell_type": "code",
      "source": [
        "spark.sql(\n",
        "    '''\n",
        "    SELECT b.FormFactor,\n",
        "          COUNT(*) AS ComputerCnt\n",
        "    FROM sample_data_view AS a\n",
        "    LEFT JOIN models as b\n",
        "      ON a.Model == b.Model\n",
        "      GROUP BY FormFactor\n",
        "    '''\n",
        ").show()"
      ],
      "metadata": {
        "colab": {
          "base_uri": "https://localhost:8080/"
        },
        "id": "w0GcLf-JqDeQ",
        "outputId": "2f2147af-eed4-4907-c253-6de2c0e1450f"
      },
      "execution_count": 65,
      "outputs": [
        {
          "output_type": "stream",
          "name": "stdout",
          "text": [
            "+----------+-----------+\n",
            "|FormFactor|ComputerCnt|\n",
            "+----------+-----------+\n",
            "|    Laptop|          3|\n",
            "|   Desktop|          1|\n",
            "+----------+-----------+\n",
            "\n"
          ]
        }
      ]
    },
    {
      "cell_type": "markdown",
      "source": [
        "### **OverView DataFrame transformations**"
      ],
      "metadata": {
        "id": "v7vLX8UzqghM"
      }
    },
    {
      "cell_type": "code",
      "source": [
        "sample_data_schema.cache().show()"
      ],
      "metadata": {
        "colab": {
          "base_uri": "https://localhost:8080/"
        },
        "id": "o9AZLhQdqikb",
        "outputId": "489c8a4f-99b3-4560-e1a9-ad26861bd6ec"
      },
      "execution_count": 66,
      "outputs": [
        {
          "output_type": "stream",
          "name": "stdout",
          "text": [
            "+---+-----------+----+----------+----+---------+-----+----+----+------+\n",
            "| Id|      Model|Year|ScreenSize| RAM|      HDD|    W|   D|   H|Weight|\n",
            "+---+-----------+----+----------+----+---------+-----+----+----+------+\n",
            "|  1|MacBook Pro|2015|    \"15\\\"\"|16GB|512GB SSD|13.75|9.48|0.61|  4.02|\n",
            "|  2|    MacBook|2016|    \"12\\\"\"| 8GB|256GB SSD|11.04|7.74|0.52|  2.03|\n",
            "|  3|MacBook Air|2016|  \"13.3\\\"\"| 8GB|128GB SSD| 12.8|8.94|0.68|  2.96|\n",
            "|  4|       iMac|2017|    \"27\\\"\"|64GB|  1TB SSD| 25.6| 8.0|20.3|  20.8|\n",
            "+---+-----------+----+----------+----+---------+-----+----+----+------+\n",
            "\n"
          ]
        }
      ]
    },
    {
      "cell_type": "code",
      "source": [
        "sample_data_schema.coalesce(1).show()"
      ],
      "metadata": {
        "colab": {
          "base_uri": "https://localhost:8080/"
        },
        "id": "a73NYfdhrDIa",
        "outputId": "53ab2fd4-fde5-47b4-cb56-5cc1d1a2b204"
      },
      "execution_count": 67,
      "outputs": [
        {
          "output_type": "stream",
          "name": "stdout",
          "text": [
            "+---+-----------+----+----------+----+---------+-----+----+----+------+\n",
            "| Id|      Model|Year|ScreenSize| RAM|      HDD|    W|   D|   H|Weight|\n",
            "+---+-----------+----+----------+----+---------+-----+----+----+------+\n",
            "|  1|MacBook Pro|2015|    \"15\\\"\"|16GB|512GB SSD|13.75|9.48|0.61|  4.02|\n",
            "|  2|    MacBook|2016|    \"12\\\"\"| 8GB|256GB SSD|11.04|7.74|0.52|  2.03|\n",
            "|  3|MacBook Air|2016|  \"13.3\\\"\"| 8GB|128GB SSD| 12.8|8.94|0.68|  2.96|\n",
            "|  4|       iMac|2017|    \"27\\\"\"|64GB|  1TB SSD| 25.6| 8.0|20.3|  20.8|\n",
            "+---+-----------+----+----------+----+---------+-----+----+----+------+\n",
            "\n"
          ]
        }
      ]
    },
    {
      "cell_type": "code",
      "source": [
        "sample_data_schema.select('RAM').distinct().show()"
      ],
      "metadata": {
        "colab": {
          "base_uri": "https://localhost:8080/"
        },
        "id": "xio3UiWarDwb",
        "outputId": "7ba7c338-31c4-490f-b4c9-07d293d60e17"
      },
      "execution_count": 68,
      "outputs": [
        {
          "output_type": "stream",
          "name": "stdout",
          "text": [
            "+----+\n",
            "| RAM|\n",
            "+----+\n",
            "|16GB|\n",
            "| 8GB|\n",
            "|64GB|\n",
            "+----+\n",
            "\n"
          ]
        }
      ]
    },
    {
      "cell_type": "code",
      "source": [
        "sample_data_schema.dropDuplicates().show()"
      ],
      "metadata": {
        "colab": {
          "base_uri": "https://localhost:8080/"
        },
        "id": "wuKSEREWrCmd",
        "outputId": "f197e23e-4ce2-4b86-9948-b63cc0498822"
      },
      "execution_count": 69,
      "outputs": [
        {
          "output_type": "stream",
          "name": "stdout",
          "text": [
            "+---+-----------+----+----------+----+---------+-----+----+----+------+\n",
            "| Id|      Model|Year|ScreenSize| RAM|      HDD|    W|   D|   H|Weight|\n",
            "+---+-----------+----+----------+----+---------+-----+----+----+------+\n",
            "|  2|    MacBook|2016|    \"12\\\"\"| 8GB|256GB SSD|11.04|7.74|0.52|  2.03|\n",
            "|  1|MacBook Pro|2015|    \"15\\\"\"|16GB|512GB SSD|13.75|9.48|0.61|  4.02|\n",
            "|  3|MacBook Air|2016|  \"13.3\\\"\"| 8GB|128GB SSD| 12.8|8.94|0.68|  2.96|\n",
            "|  4|       iMac|2017|    \"27\\\"\"|64GB|  1TB SSD| 25.6| 8.0|20.3|  20.8|\n",
            "+---+-----------+----+----------+----+---------+-----+----+----+------+\n",
            "\n"
          ]
        }
      ]
    },
    {
      "cell_type": "code",
      "source": [
        "sample_data_schema.dropna().show()"
      ],
      "metadata": {
        "colab": {
          "base_uri": "https://localhost:8080/"
        },
        "id": "ztPaqLOUtRvk",
        "outputId": "8b242986-7eab-47ca-82c4-f6bbd418143f"
      },
      "execution_count": 70,
      "outputs": [
        {
          "output_type": "stream",
          "name": "stdout",
          "text": [
            "+---+-----------+----+----------+----+---------+-----+----+----+------+\n",
            "| Id|      Model|Year|ScreenSize| RAM|      HDD|    W|   D|   H|Weight|\n",
            "+---+-----------+----+----------+----+---------+-----+----+----+------+\n",
            "|  1|MacBook Pro|2015|    \"15\\\"\"|16GB|512GB SSD|13.75|9.48|0.61|  4.02|\n",
            "|  2|    MacBook|2016|    \"12\\\"\"| 8GB|256GB SSD|11.04|7.74|0.52|  2.03|\n",
            "|  3|MacBook Air|2016|  \"13.3\\\"\"| 8GB|128GB SSD| 12.8|8.94|0.68|  2.96|\n",
            "|  4|       iMac|2017|    \"27\\\"\"|64GB|  1TB SSD| 25.6| 8.0|20.3|  20.8|\n",
            "+---+-----------+----+----------+----+---------+-----+----+----+------+\n",
            "\n"
          ]
        }
      ]
    },
    {
      "cell_type": "code",
      "source": [
        "models_df = sc.parallelize([\n",
        "    ('MacBook Pro', 'Laptop'),\n",
        "    ('MacBook Air', 'Laptop'),\n",
        "    ('iMac', 'Desktop'),\n",
        "]).toDF(['Model', 'FormFactor'])\n",
        "\n",
        "(\n",
        "    sample_data_schema\n",
        "    .join(\n",
        "        models_df,\n",
        "        sample_data_schema.Model == models_df.Model,\n",
        "        'left'\n",
        "    ).show()\n",
        ")"
      ],
      "metadata": {
        "colab": {
          "base_uri": "https://localhost:8080/"
        },
        "id": "cSo4NNXptY8F",
        "outputId": "fd03da46-387f-4c60-fbaa-a80a1ae9fe5d"
      },
      "execution_count": 75,
      "outputs": [
        {
          "output_type": "stream",
          "name": "stdout",
          "text": [
            "+---+-----------+----+----------+----+---------+-----+----+----+------+-----------+----------+\n",
            "| Id|      Model|Year|ScreenSize| RAM|      HDD|    W|   D|   H|Weight|      Model|FormFactor|\n",
            "+---+-----------+----+----------+----+---------+-----+----+----+------+-----------+----------+\n",
            "|  2|    MacBook|2016|    \"12\\\"\"| 8GB|256GB SSD|11.04|7.74|0.52|  2.03|       NULL|      NULL|\n",
            "|  1|MacBook Pro|2015|    \"15\\\"\"|16GB|512GB SSD|13.75|9.48|0.61|  4.02|MacBook Pro|    Laptop|\n",
            "|  3|MacBook Air|2016|  \"13.3\\\"\"| 8GB|128GB SSD| 12.8|8.94|0.68|  2.96|MacBook Air|    Laptop|\n",
            "|  4|       iMac|2017|    \"27\\\"\"|64GB|  1TB SSD| 25.6| 8.0|20.3|  20.8|       iMac|   Desktop|\n",
            "+---+-----------+----+----------+----+---------+-----+----+----+------+-----------+----------+\n",
            "\n"
          ]
        }
      ]
    },
    {
      "cell_type": "code",
      "source": [
        "(\n",
        "    sample_data_schema\n",
        "    .join(\n",
        "        models_df,\n",
        "        sample_data_schema.Model == models_df.Model,\n",
        "        'right'\n",
        "    ).show()\n",
        ")"
      ],
      "metadata": {
        "colab": {
          "base_uri": "https://localhost:8080/"
        },
        "id": "kXrCAKF-tsqS",
        "outputId": "bfdd5315-9a07-4181-a10c-06f0a99ae95d"
      },
      "execution_count": 76,
      "outputs": [
        {
          "output_type": "stream",
          "name": "stdout",
          "text": [
            "+---+-----------+----+----------+----+---------+-----+----+----+------+-----------+----------+\n",
            "| Id|      Model|Year|ScreenSize| RAM|      HDD|    W|   D|   H|Weight|      Model|FormFactor|\n",
            "+---+-----------+----+----------+----+---------+-----+----+----+------+-----------+----------+\n",
            "|  1|MacBook Pro|2015|    \"15\\\"\"|16GB|512GB SSD|13.75|9.48|0.61|  4.02|MacBook Pro|    Laptop|\n",
            "|  3|MacBook Air|2016|  \"13.3\\\"\"| 8GB|128GB SSD| 12.8|8.94|0.68|  2.96|MacBook Air|    Laptop|\n",
            "|  4|       iMac|2017|    \"27\\\"\"|64GB|  1TB SSD| 25.6| 8.0|20.3|  20.8|       iMac|   Desktop|\n",
            "+---+-----------+----+----------+----+---------+-----+----+----+------+-----------+----------+\n",
            "\n"
          ]
        }
      ]
    },
    {
      "cell_type": "code",
      "source": [
        "(\n",
        "    sample_data_schema\n",
        "    .join(\n",
        "        models_df,\n",
        "        sample_data_schema.Model == models_df.Model,\n",
        "        'left_anti'\n",
        "    ).show()\n",
        ")"
      ],
      "metadata": {
        "colab": {
          "base_uri": "https://localhost:8080/"
        },
        "id": "3pdKOAtcuB1r",
        "outputId": "2934237d-cd6a-44a1-b54a-dec38e9497b3"
      },
      "execution_count": 78,
      "outputs": [
        {
          "output_type": "stream",
          "name": "stdout",
          "text": [
            "+---+-------+----+----------+---+---------+-----+----+----+------+\n",
            "| Id|  Model|Year|ScreenSize|RAM|      HDD|    W|   D|   H|Weight|\n",
            "+---+-------+----+----------+---+---------+-----+----+----+------+\n",
            "|  2|MacBook|2016|    \"12\\\"\"|8GB|256GB SSD|11.04|7.74|0.52|  2.03|\n",
            "+---+-------+----+----------+---+---------+-----+----+----+------+\n",
            "\n"
          ]
        }
      ]
    },
    {
      "cell_type": "code",
      "source": [
        "(\n",
        "    sample_data_schema\n",
        "    .join(\n",
        "        models_df,\n",
        "        sample_data_schema.Model == models_df.Model,\n",
        "        'left_semi'\n",
        "    ).show()\n",
        ")"
      ],
      "metadata": {
        "colab": {
          "base_uri": "https://localhost:8080/"
        },
        "id": "BL0ji_eiuF3t",
        "outputId": "bebbd1f2-629f-4f37-87c4-a6688ecddd7c"
      },
      "execution_count": 79,
      "outputs": [
        {
          "output_type": "stream",
          "name": "stdout",
          "text": [
            "+---+-----------+----+----------+----+---------+-----+----+----+------+\n",
            "| Id|      Model|Year|ScreenSize| RAM|      HDD|    W|   D|   H|Weight|\n",
            "+---+-----------+----+----------+----+---------+-----+----+----+------+\n",
            "|  3|MacBook Air|2016|  \"13.3\\\"\"| 8GB|128GB SSD| 12.8|8.94|0.68|  2.96|\n",
            "|  1|MacBook Pro|2015|    \"15\\\"\"|16GB|512GB SSD|13.75|9.48|0.61|  4.02|\n",
            "|  4|       iMac|2017|    \"27\\\"\"|64GB|  1TB SSD| 25.6| 8.0|20.3|  20.8|\n",
            "+---+-----------+----+----------+----+---------+-----+----+----+------+\n",
            "\n"
          ]
        }
      ]
    },
    {
      "cell_type": "code",
      "source": [
        "sample_data_schema.fillna(0).show()"
      ],
      "metadata": {
        "colab": {
          "base_uri": "https://localhost:8080/"
        },
        "id": "827JMrj5ukNC",
        "outputId": "6ba687d1-fb76-482f-a41d-879bd7b69811"
      },
      "execution_count": 80,
      "outputs": [
        {
          "output_type": "stream",
          "name": "stdout",
          "text": [
            "+---+-----------+----+----------+----+---------+-----+----+----+------+\n",
            "| Id|      Model|Year|ScreenSize| RAM|      HDD|    W|   D|   H|Weight|\n",
            "+---+-----------+----+----------+----+---------+-----+----+----+------+\n",
            "|  1|MacBook Pro|2015|    \"15\\\"\"|16GB|512GB SSD|13.75|9.48|0.61|  4.02|\n",
            "|  2|    MacBook|2016|    \"12\\\"\"| 8GB|256GB SSD|11.04|7.74|0.52|  2.03|\n",
            "|  3|MacBook Air|2016|  \"13.3\\\"\"| 8GB|128GB SSD| 12.8|8.94|0.68|  2.96|\n",
            "|  4|       iMac|2017|    \"27\\\"\"|64GB|  1TB SSD| 25.6| 8.0|20.3|  20.8|\n",
            "+---+-----------+----+----------+----+---------+-----+----+----+------+\n",
            "\n"
          ]
        }
      ]
    },
    {
      "cell_type": "code",
      "source": [
        "sample_data_schema.fillna(0).show()"
      ],
      "metadata": {
        "colab": {
          "base_uri": "https://localhost:8080/"
        },
        "id": "iVjVi60qwRJH",
        "outputId": "8eb884b7-b012-4efb-bad3-7d0253461c29"
      },
      "execution_count": 70,
      "outputs": [
        {
          "output_type": "execute_result",
          "data": {
            "text/plain": [
              "[(('City', 'IATA'), 0),\n",
              " (('Abbotsford', 'YXX'), 1),\n",
              " (('Aberdeen', 'ABR'), 2),\n",
              " (('Abilene', 'ABI'), 3),\n",
              " (('Akron', 'CAK'), 4)]"
            ]
          },
          "metadata": {},
          "execution_count": 70
        }
      ]
    },
    {
      "cell_type": "code",
      "source": [
        "sample_data_schema.filter(sample_data_schema.Year > 2015).show()"
      ],
      "metadata": {
        "colab": {
          "base_uri": "https://localhost:8080/"
        },
        "id": "40aTghra6wCZ",
        "outputId": "736f0f93-33ad-450b-f2ef-be3b72666ed9"
      },
      "execution_count": 78,
      "outputs": [
        {
          "output_type": "execute_result",
          "data": {
            "text/plain": [
              "[('Abbotsford', 'YXX'),\n",
              " ('Aberdeen', 'ABR'),\n",
              " ('Abilene', 'ABI'),\n",
              " ('Akron', 'CAK'),\n",
              " ('Alamosa', 'ALS')]"
            ]
          },
          "metadata": {},
          "execution_count": 78
        }
      ]
    },
    {
      "cell_type": "code",
      "source": [
        "sample_data_schema.freqItems(['RAM']).show()"
      ],
      "metadata": {
        "colab": {
          "base_uri": "https://localhost:8080/"
        },
        "id": "V4z6Cu4t9CX0",
        "outputId": "d04a186d-e480-42c5-89aa-54571677a1ea"
      },
      "execution_count": 81,
      "outputs": [
        {
          "output_type": "stream",
          "name": "stdout",
          "text": [
            "+-----------------+\n",
            "|    RAM_freqItems|\n",
            "+-----------------+\n",
            "|[16GB, 64GB, 8GB]|\n",
            "+-----------------+\n",
            "\n"
          ]
        }
      ]
    },
    {
      "cell_type": "code",
      "source": [
        "sample_data_schema.orderBy('W').show()"
      ],
      "metadata": {
        "colab": {
          "base_uri": "https://localhost:8080/"
        },
        "id": "ePoUoiZU9-xh",
        "outputId": "0845eb8a-499b-4f85-8c8d-132c8c4a0845"
      },
      "execution_count": 82,
      "outputs": [
        {
          "output_type": "stream",
          "name": "stdout",
          "text": [
            "+---+-----------+----+----------+----+---------+-----+----+----+------+\n",
            "| Id|      Model|Year|ScreenSize| RAM|      HDD|    W|   D|   H|Weight|\n",
            "+---+-----------+----+----------+----+---------+-----+----+----+------+\n",
            "|  2|    MacBook|2016|    \"12\\\"\"| 8GB|256GB SSD|11.04|7.74|0.52|  2.03|\n",
            "|  3|MacBook Air|2016|  \"13.3\\\"\"| 8GB|128GB SSD| 12.8|8.94|0.68|  2.96|\n",
            "|  1|MacBook Pro|2015|    \"15\\\"\"|16GB|512GB SSD|13.75|9.48|0.61|  4.02|\n",
            "|  4|       iMac|2017|    \"27\\\"\"|64GB|  1TB SSD| 25.6| 8.0|20.3|  20.8|\n",
            "+---+-----------+----+----------+----+---------+-----+----+----+------+\n",
            "\n"
          ]
        }
      ]
    },
    {
      "cell_type": "code",
      "source": [
        "sample_data_schema.orderBy(f.col('H').desc()).show()"
      ],
      "metadata": {
        "colab": {
          "base_uri": "https://localhost:8080/"
        },
        "id": "oM1ObYYT-0M1",
        "outputId": "5084647c-d64a-4371-8508-47386c305dd6"
      },
      "execution_count": 83,
      "outputs": [
        {
          "output_type": "stream",
          "name": "stdout",
          "text": [
            "+---+-----------+----+----------+----+---------+-----+----+----+------+\n",
            "| Id|      Model|Year|ScreenSize| RAM|      HDD|    W|   D|   H|Weight|\n",
            "+---+-----------+----+----------+----+---------+-----+----+----+------+\n",
            "|  4|       iMac|2017|    \"27\\\"\"|64GB|  1TB SSD| 25.6| 8.0|20.3|  20.8|\n",
            "|  3|MacBook Air|2016|  \"13.3\\\"\"| 8GB|128GB SSD| 12.8|8.94|0.68|  2.96|\n",
            "|  1|MacBook Pro|2015|    \"15\\\"\"|16GB|512GB SSD|13.75|9.48|0.61|  4.02|\n",
            "|  2|    MacBook|2016|    \"12\\\"\"| 8GB|256GB SSD|11.04|7.74|0.52|  2.03|\n",
            "+---+-----------+----+----------+----+---------+-----+----+----+------+\n",
            "\n"
          ]
        }
      ]
    },
    {
      "cell_type": "code",
      "source": [
        "sample_data_schema_rep = (\n",
        "    sample_data_schema\n",
        "    .repartition(2, 'Year')\n",
        ")\n",
        "\n",
        "sample_data_schema_rep.rdd.getNumPartitions()"
      ],
      "metadata": {
        "colab": {
          "base_uri": "https://localhost:8080/"
        },
        "id": "nlSmCrjSArRg",
        "outputId": "31463a4b-7275-47eb-b530-19cd0e12ea54"
      },
      "execution_count": 89,
      "outputs": [
        {
          "output_type": "execute_result",
          "data": {
            "text/plain": [
              "2"
            ]
          },
          "metadata": {},
          "execution_count": 89
        }
      ]
    },
    {
      "cell_type": "code",
      "source": [
        "missing_df = sc.parallelize([\n",
        "  (None, 36.3, 24.2),\n",
        "  (1.6, 32.1, 27.9),\n",
        "  (3.2, 38.7, 24.7),\n",
        "  (2.8, None, 23.9),\n",
        "  (3.9, 34.1, 27.9),\n",
        "  (9.2, None, None)\n",
        "]).toDF(['A', 'B', 'C'])\n",
        "\n",
        "missing_df.fillna(21.4).show()"
      ],
      "metadata": {
        "colab": {
          "base_uri": "https://localhost:8080/"
        },
        "id": "vLwQUayMAxMk",
        "outputId": "225f7e64-dec9-49bd-ea1c-0434bf541233"
      },
      "execution_count": 90,
      "outputs": [
        {
          "output_type": "stream",
          "name": "stdout",
          "text": [
            "+----+----+----+\n",
            "|   A|   B|   C|\n",
            "+----+----+----+\n",
            "|21.4|36.3|24.2|\n",
            "| 1.6|32.1|27.9|\n",
            "| 3.2|38.7|24.7|\n",
            "| 2.8|21.4|23.9|\n",
            "| 3.9|34.1|27.9|\n",
            "| 9.2|21.4|21.4|\n",
            "+----+----+----+\n",
            "\n"
          ]
        }
      ]
    },
    {
      "cell_type": "code",
      "source": [
        "missing_df.dropna(thresh=2).show()"
      ],
      "metadata": {
        "colab": {
          "base_uri": "https://localhost:8080/"
        },
        "id": "I5eLmpqJz4Et",
        "outputId": "33cf5d3d-de03-48eb-d2c6-c9c1dcf4d2d4"
      },
      "execution_count": 91,
      "outputs": [
        {
          "output_type": "stream",
          "name": "stdout",
          "text": [
            "+----+----+----+\n",
            "|   A|   B|   C|\n",
            "+----+----+----+\n",
            "|NULL|36.3|24.2|\n",
            "| 1.6|32.1|27.9|\n",
            "| 3.2|38.7|24.7|\n",
            "| 2.8|NULL|23.9|\n",
            "| 3.9|34.1|27.9|\n",
            "+----+----+----+\n",
            "\n"
          ]
        }
      ]
    },
    {
      "cell_type": "code",
      "source": [
        "missing_df.dropna().show()"
      ],
      "metadata": {
        "colab": {
          "base_uri": "https://localhost:8080/"
        },
        "id": "vjjVmrx6BC1M",
        "outputId": "4c6d1280-eaf2-4fd1-f3e5-1442058220f6"
      },
      "execution_count": 92,
      "outputs": [
        {
          "output_type": "stream",
          "name": "stdout",
          "text": [
            "+---+----+----+\n",
            "|  A|   B|   C|\n",
            "+---+----+----+\n",
            "|1.6|32.1|27.9|\n",
            "|3.2|38.7|24.7|\n",
            "|3.9|34.1|27.9|\n",
            "+---+----+----+\n",
            "\n"
          ]
        }
      ]
    },
    {
      "cell_type": "code",
      "source": [
        "sample_data_schema.select('Model', 'ScreenSize').show()"
      ],
      "metadata": {
        "colab": {
          "base_uri": "https://localhost:8080/"
        },
        "id": "OCGqttU7BEet",
        "outputId": "4607c9ae-5cad-459c-e1cf-6d2923776521"
      },
      "execution_count": 93,
      "outputs": [
        {
          "output_type": "stream",
          "name": "stdout",
          "text": [
            "+-----------+----------+\n",
            "|      Model|ScreenSize|\n",
            "+-----------+----------+\n",
            "|MacBook Pro|    \"15\\\"\"|\n",
            "|    MacBook|    \"12\\\"\"|\n",
            "|MacBook Air|  \"13.3\\\"\"|\n",
            "|       iMac|    \"27\\\"\"|\n",
            "+-----------+----------+\n",
            "\n"
          ]
        }
      ]
    },
    {
      "cell_type": "code",
      "source": [
        "sample_data_schema.select('W').summary().show()\n",
        "sample_data_schema.select('W').describe().show()"
      ],
      "metadata": {
        "colab": {
          "base_uri": "https://localhost:8080/"
        },
        "id": "oEmJIyvpBTxv",
        "outputId": "ee64c5e3-1025-48cf-b31f-b10a0edcf0eb"
      },
      "execution_count": 94,
      "outputs": [
        {
          "output_type": "stream",
          "name": "stdout",
          "text": [
            "+-------+------------------+\n",
            "|summary|                 W|\n",
            "+-------+------------------+\n",
            "|  count|                 4|\n",
            "|   mean|15.797500000000001|\n",
            "| stddev| 6.630738395281983|\n",
            "|    min|             11.04|\n",
            "|    25%|             11.04|\n",
            "|    50%|              12.8|\n",
            "|    75%|             13.75|\n",
            "|    max|              25.6|\n",
            "+-------+------------------+\n",
            "\n",
            "+-------+------------------+\n",
            "|summary|                 W|\n",
            "+-------+------------------+\n",
            "|  count|                 4|\n",
            "|   mean|15.797500000000001|\n",
            "| stddev| 6.630738395281983|\n",
            "|    min|             11.04|\n",
            "|    max|              25.6|\n",
            "+-------+------------------+\n",
            "\n"
          ]
        }
      ]
    },
    {
      "cell_type": "code",
      "source": [
        "another_macbookPro = sc.parallelize([\n",
        "    (5, 'MacBook Pro', 2018, '15\"', '16GB', '256GB SSD', 13.75, 9.48, 0.61, 4.02)\n",
        "]).toDF(sample_data_schema.columns)\n",
        "\n",
        "sample_data_schema.unionAll(another_macbookPro).show()"
      ],
      "metadata": {
        "colab": {
          "base_uri": "https://localhost:8080/"
        },
        "id": "0Lmgr8t1BYrw",
        "outputId": "fe161952-e48c-4ed2-c0e2-524bb80b7db9"
      },
      "execution_count": 95,
      "outputs": [
        {
          "output_type": "stream",
          "name": "stdout",
          "text": [
            "+---+-----------+----+----------+----+---------+-----+----+----+------+\n",
            "| Id|      Model|Year|ScreenSize| RAM|      HDD|    W|   D|   H|Weight|\n",
            "+---+-----------+----+----------+----+---------+-----+----+----+------+\n",
            "|  1|MacBook Pro|2015|    \"15\\\"\"|16GB|512GB SSD|13.75|9.48|0.61|  4.02|\n",
            "|  2|    MacBook|2016|    \"12\\\"\"| 8GB|256GB SSD|11.04|7.74|0.52|  2.03|\n",
            "|  3|MacBook Air|2016|  \"13.3\\\"\"| 8GB|128GB SSD| 12.8|8.94|0.68|  2.96|\n",
            "|  4|       iMac|2017|    \"27\\\"\"|64GB|  1TB SSD| 25.6| 8.0|20.3|  20.8|\n",
            "|  5|MacBook Pro|2018|       15\"|16GB|256GB SSD|13.75|9.48|0.61|  4.02|\n",
            "+---+-----------+----+----------+----+---------+-----+----+----+------+\n",
            "\n"
          ]
        }
      ]
    },
    {
      "cell_type": "code",
      "source": [
        "(\n",
        "    sample_data_schema\n",
        "    .withColumn('HDDSplit', f.split(f.col('HDD'), ' '))\n",
        "    .show()\n",
        ")"
      ],
      "metadata": {
        "colab": {
          "base_uri": "https://localhost:8080/"
        },
        "id": "f6sOi6T9BkLM",
        "outputId": "9feaa891-df98-42e0-d140-0c478a032426"
      },
      "execution_count": 96,
      "outputs": [
        {
          "output_type": "stream",
          "name": "stdout",
          "text": [
            "+---+-----------+----+----------+----+---------+-----+----+----+------+------------+\n",
            "| Id|      Model|Year|ScreenSize| RAM|      HDD|    W|   D|   H|Weight|    HDDSplit|\n",
            "+---+-----------+----+----------+----+---------+-----+----+----+------+------------+\n",
            "|  1|MacBook Pro|2015|    \"15\\\"\"|16GB|512GB SSD|13.75|9.48|0.61|  4.02|[512GB, SSD]|\n",
            "|  2|    MacBook|2016|    \"12\\\"\"| 8GB|256GB SSD|11.04|7.74|0.52|  2.03|[256GB, SSD]|\n",
            "|  3|MacBook Air|2016|  \"13.3\\\"\"| 8GB|128GB SSD| 12.8|8.94|0.68|  2.96|[128GB, SSD]|\n",
            "|  4|       iMac|2017|    \"27\\\"\"|64GB|  1TB SSD| 25.6| 8.0|20.3|  20.8|  [1TB, SSD]|\n",
            "+---+-----------+----+----------+----+---------+-----+----+----+------+------------+\n",
            "\n"
          ]
        }
      ]
    },
    {
      "cell_type": "code",
      "source": [
        "(\n",
        "    sample_data_schema\n",
        "    .groupBy('RAM')\n",
        "    .count()\n",
        "    .show()\n",
        ")"
      ],
      "metadata": {
        "colab": {
          "base_uri": "https://localhost:8080/"
        },
        "id": "RX_qA-PCB7U9",
        "outputId": "d368e1ae-f81e-4787-fdbf-55f6f1691590"
      },
      "execution_count": 97,
      "outputs": [
        {
          "output_type": "stream",
          "name": "stdout",
          "text": [
            "+----+-----+\n",
            "| RAM|count|\n",
            "+----+-----+\n",
            "|16GB|    1|\n",
            "| 8GB|    2|\n",
            "|64GB|    1|\n",
            "+----+-----+\n",
            "\n"
          ]
        }
      ]
    },
    {
      "cell_type": "code",
      "source": [
        "(\n",
        "    sample_data_schema\n",
        "    .select(\n",
        "        f.col('*'),\n",
        "        f.split(f.col('HDD'), ' ').alias('HDD_Array'))\n",
        "    .show()\n",
        ")"
      ],
      "metadata": {
        "colab": {
          "base_uri": "https://localhost:8080/"
        },
        "id": "-ZKjswo0CDAH",
        "outputId": "10f3cc1a-28d7-4229-cb5f-6e64f842651f"
      },
      "execution_count": 99,
      "outputs": [
        {
          "output_type": "stream",
          "name": "stdout",
          "text": [
            "+---+-----------+----+----------+----+---------+-----+----+----+------+------------+\n",
            "| Id|      Model|Year|ScreenSize| RAM|      HDD|    W|   D|   H|Weight|   HDD_Array|\n",
            "+---+-----------+----+----------+----+---------+-----+----+----+------+------------+\n",
            "|  1|MacBook Pro|2015|    \"15\\\"\"|16GB|512GB SSD|13.75|9.48|0.61|  4.02|[512GB, SSD]|\n",
            "|  2|    MacBook|2016|    \"12\\\"\"| 8GB|256GB SSD|11.04|7.74|0.52|  2.03|[256GB, SSD]|\n",
            "|  3|MacBook Air|2016|  \"13.3\\\"\"| 8GB|128GB SSD| 12.8|8.94|0.68|  2.96|[128GB, SSD]|\n",
            "|  4|       iMac|2017|    \"27\\\"\"|64GB|  1TB SSD| 25.6| 8.0|20.3|  20.8|  [1TB, SSD]|\n",
            "+---+-----------+----+----------+----+---------+-----+----+----+------+------------+\n",
            "\n"
          ]
        }
      ]
    },
    {
      "cell_type": "markdown",
      "source": [
        "### **Overview Of DataFrames actions**"
      ],
      "metadata": {
        "id": "vrtd8dDiC8cC"
      }
    },
    {
      "cell_type": "code",
      "source": [
        "sample_data_schema.groupBy('Year').count().collect()"
      ],
      "metadata": {
        "colab": {
          "base_uri": "https://localhost:8080/"
        },
        "id": "gpG8QoTxDAU0",
        "outputId": "64eb741e-eca2-4274-e292-93b2a3287069"
      },
      "execution_count": 100,
      "outputs": [
        {
          "output_type": "execute_result",
          "data": {
            "text/plain": [
              "[Row(Year=2015, count=1), Row(Year=2016, count=2), Row(Year=2017, count=1)]"
            ]
          },
          "metadata": {},
          "execution_count": 100
        }
      ]
    },
    {
      "cell_type": "code",
      "source": [
        "sample_data_schema.select('W').describe().show()"
      ],
      "metadata": {
        "colab": {
          "base_uri": "https://localhost:8080/"
        },
        "id": "zNIIZlMgGFml",
        "outputId": "839440de-7c77-49ac-f9cc-333a127ba895"
      },
      "execution_count": 101,
      "outputs": [
        {
          "output_type": "stream",
          "name": "stdout",
          "text": [
            "+-------+------------------+\n",
            "|summary|                 W|\n",
            "+-------+------------------+\n",
            "|  count|                 4|\n",
            "|   mean|15.797500000000001|\n",
            "| stddev| 6.630738395281983|\n",
            "|    min|             11.04|\n",
            "|    max|              25.6|\n",
            "+-------+------------------+\n",
            "\n"
          ]
        }
      ]
    },
    {
      "cell_type": "code",
      "source": [
        "sample_data_schema.take(2)"
      ],
      "metadata": {
        "colab": {
          "base_uri": "https://localhost:8080/"
        },
        "id": "0D0HvKLMGI2U",
        "outputId": "08db3d6a-bf0a-45e3-afd1-ca1a54d9f5a8"
      },
      "execution_count": 102,
      "outputs": [
        {
          "output_type": "execute_result",
          "data": {
            "text/plain": [
              "[Row(Id=1, Model='MacBook Pro', Year=2015, ScreenSize='\"15\\\\\"\"', RAM='16GB', HDD='512GB SSD', W=13.75, D=9.48, H=0.61, Weight=4.02),\n",
              " Row(Id=2, Model='MacBook', Year=2016, ScreenSize='\"12\\\\\"\"', RAM='8GB', HDD='256GB SSD', W=11.04, D=7.74, H=0.52, Weight=2.03)]"
            ]
          },
          "metadata": {},
          "execution_count": 102
        }
      ]
    },
    {
      "cell_type": "code",
      "source": [
        "sample_data_schema.toPandas()"
      ],
      "metadata": {
        "colab": {
          "base_uri": "https://localhost:8080/",
          "height": 174
        },
        "id": "dSobv6maG2k0",
        "outputId": "c7160614-26ae-4e87-cf9e-e1406fc2d822"
      },
      "execution_count": 103,
      "outputs": [
        {
          "output_type": "execute_result",
          "data": {
            "text/plain": [
              "   Id        Model  Year ScreenSize   RAM        HDD      W     D      H  \\\n",
              "0   1  MacBook Pro  2015     \"15\\\"\"  16GB  512GB SSD  13.75  9.48   0.61   \n",
              "1   2      MacBook  2016     \"12\\\"\"   8GB  256GB SSD  11.04  7.74   0.52   \n",
              "2   3  MacBook Air  2016   \"13.3\\\"\"   8GB  128GB SSD  12.80  8.94   0.68   \n",
              "3   4         iMac  2017     \"27\\\"\"  64GB    1TB SSD  25.60  8.00  20.30   \n",
              "\n",
              "   Weight  \n",
              "0    4.02  \n",
              "1    2.03  \n",
              "2    2.96  \n",
              "3   20.80  "
            ],
            "text/html": [
              "\n",
              "  <div id=\"df-4a4a74ad-19dd-49ac-b922-4ca51e931ca4\" class=\"colab-df-container\">\n",
              "    <div>\n",
              "<style scoped>\n",
              "    .dataframe tbody tr th:only-of-type {\n",
              "        vertical-align: middle;\n",
              "    }\n",
              "\n",
              "    .dataframe tbody tr th {\n",
              "        vertical-align: top;\n",
              "    }\n",
              "\n",
              "    .dataframe thead th {\n",
              "        text-align: right;\n",
              "    }\n",
              "</style>\n",
              "<table border=\"1\" class=\"dataframe\">\n",
              "  <thead>\n",
              "    <tr style=\"text-align: right;\">\n",
              "      <th></th>\n",
              "      <th>Id</th>\n",
              "      <th>Model</th>\n",
              "      <th>Year</th>\n",
              "      <th>ScreenSize</th>\n",
              "      <th>RAM</th>\n",
              "      <th>HDD</th>\n",
              "      <th>W</th>\n",
              "      <th>D</th>\n",
              "      <th>H</th>\n",
              "      <th>Weight</th>\n",
              "    </tr>\n",
              "  </thead>\n",
              "  <tbody>\n",
              "    <tr>\n",
              "      <th>0</th>\n",
              "      <td>1</td>\n",
              "      <td>MacBook Pro</td>\n",
              "      <td>2015</td>\n",
              "      <td>\"15\\\"\"</td>\n",
              "      <td>16GB</td>\n",
              "      <td>512GB SSD</td>\n",
              "      <td>13.75</td>\n",
              "      <td>9.48</td>\n",
              "      <td>0.61</td>\n",
              "      <td>4.02</td>\n",
              "    </tr>\n",
              "    <tr>\n",
              "      <th>1</th>\n",
              "      <td>2</td>\n",
              "      <td>MacBook</td>\n",
              "      <td>2016</td>\n",
              "      <td>\"12\\\"\"</td>\n",
              "      <td>8GB</td>\n",
              "      <td>256GB SSD</td>\n",
              "      <td>11.04</td>\n",
              "      <td>7.74</td>\n",
              "      <td>0.52</td>\n",
              "      <td>2.03</td>\n",
              "    </tr>\n",
              "    <tr>\n",
              "      <th>2</th>\n",
              "      <td>3</td>\n",
              "      <td>MacBook Air</td>\n",
              "      <td>2016</td>\n",
              "      <td>\"13.3\\\"\"</td>\n",
              "      <td>8GB</td>\n",
              "      <td>128GB SSD</td>\n",
              "      <td>12.80</td>\n",
              "      <td>8.94</td>\n",
              "      <td>0.68</td>\n",
              "      <td>2.96</td>\n",
              "    </tr>\n",
              "    <tr>\n",
              "      <th>3</th>\n",
              "      <td>4</td>\n",
              "      <td>iMac</td>\n",
              "      <td>2017</td>\n",
              "      <td>\"27\\\"\"</td>\n",
              "      <td>64GB</td>\n",
              "      <td>1TB SSD</td>\n",
              "      <td>25.60</td>\n",
              "      <td>8.00</td>\n",
              "      <td>20.30</td>\n",
              "      <td>20.80</td>\n",
              "    </tr>\n",
              "  </tbody>\n",
              "</table>\n",
              "</div>\n",
              "    <div class=\"colab-df-buttons\">\n",
              "\n",
              "  <div class=\"colab-df-container\">\n",
              "    <button class=\"colab-df-convert\" onclick=\"convertToInteractive('df-4a4a74ad-19dd-49ac-b922-4ca51e931ca4')\"\n",
              "            title=\"Convert this dataframe to an interactive table.\"\n",
              "            style=\"display:none;\">\n",
              "\n",
              "  <svg xmlns=\"http://www.w3.org/2000/svg\" height=\"24px\" viewBox=\"0 -960 960 960\">\n",
              "    <path d=\"M120-120v-720h720v720H120Zm60-500h600v-160H180v160Zm220 220h160v-160H400v160Zm0 220h160v-160H400v160ZM180-400h160v-160H180v160Zm440 0h160v-160H620v160ZM180-180h160v-160H180v160Zm440 0h160v-160H620v160Z\"/>\n",
              "  </svg>\n",
              "    </button>\n",
              "\n",
              "  <style>\n",
              "    .colab-df-container {\n",
              "      display:flex;\n",
              "      gap: 12px;\n",
              "    }\n",
              "\n",
              "    .colab-df-convert {\n",
              "      background-color: #E8F0FE;\n",
              "      border: none;\n",
              "      border-radius: 50%;\n",
              "      cursor: pointer;\n",
              "      display: none;\n",
              "      fill: #1967D2;\n",
              "      height: 32px;\n",
              "      padding: 0 0 0 0;\n",
              "      width: 32px;\n",
              "    }\n",
              "\n",
              "    .colab-df-convert:hover {\n",
              "      background-color: #E2EBFA;\n",
              "      box-shadow: 0px 1px 2px rgba(60, 64, 67, 0.3), 0px 1px 3px 1px rgba(60, 64, 67, 0.15);\n",
              "      fill: #174EA6;\n",
              "    }\n",
              "\n",
              "    .colab-df-buttons div {\n",
              "      margin-bottom: 4px;\n",
              "    }\n",
              "\n",
              "    [theme=dark] .colab-df-convert {\n",
              "      background-color: #3B4455;\n",
              "      fill: #D2E3FC;\n",
              "    }\n",
              "\n",
              "    [theme=dark] .colab-df-convert:hover {\n",
              "      background-color: #434B5C;\n",
              "      box-shadow: 0px 1px 3px 1px rgba(0, 0, 0, 0.15);\n",
              "      filter: drop-shadow(0px 1px 2px rgba(0, 0, 0, 0.3));\n",
              "      fill: #FFFFFF;\n",
              "    }\n",
              "  </style>\n",
              "\n",
              "    <script>\n",
              "      const buttonEl =\n",
              "        document.querySelector('#df-4a4a74ad-19dd-49ac-b922-4ca51e931ca4 button.colab-df-convert');\n",
              "      buttonEl.style.display =\n",
              "        google.colab.kernel.accessAllowed ? 'block' : 'none';\n",
              "\n",
              "      async function convertToInteractive(key) {\n",
              "        const element = document.querySelector('#df-4a4a74ad-19dd-49ac-b922-4ca51e931ca4');\n",
              "        const dataTable =\n",
              "          await google.colab.kernel.invokeFunction('convertToInteractive',\n",
              "                                                    [key], {});\n",
              "        if (!dataTable) return;\n",
              "\n",
              "        const docLinkHtml = 'Like what you see? Visit the ' +\n",
              "          '<a target=\"_blank\" href=https://colab.research.google.com/notebooks/data_table.ipynb>data table notebook</a>'\n",
              "          + ' to learn more about interactive tables.';\n",
              "        element.innerHTML = '';\n",
              "        dataTable['output_type'] = 'display_data';\n",
              "        await google.colab.output.renderOutput(dataTable, element);\n",
              "        const docLink = document.createElement('div');\n",
              "        docLink.innerHTML = docLinkHtml;\n",
              "        element.appendChild(docLink);\n",
              "      }\n",
              "    </script>\n",
              "  </div>\n",
              "\n",
              "\n",
              "<div id=\"df-e92b4c26-29b0-44fb-a46e-9bf140aa636b\">\n",
              "  <button class=\"colab-df-quickchart\" onclick=\"quickchart('df-e92b4c26-29b0-44fb-a46e-9bf140aa636b')\"\n",
              "            title=\"Suggest charts\"\n",
              "            style=\"display:none;\">\n",
              "\n",
              "<svg xmlns=\"http://www.w3.org/2000/svg\" height=\"24px\"viewBox=\"0 0 24 24\"\n",
              "     width=\"24px\">\n",
              "    <g>\n",
              "        <path d=\"M19 3H5c-1.1 0-2 .9-2 2v14c0 1.1.9 2 2 2h14c1.1 0 2-.9 2-2V5c0-1.1-.9-2-2-2zM9 17H7v-7h2v7zm4 0h-2V7h2v10zm4 0h-2v-4h2v4z\"/>\n",
              "    </g>\n",
              "</svg>\n",
              "  </button>\n",
              "\n",
              "<style>\n",
              "  .colab-df-quickchart {\n",
              "      --bg-color: #E8F0FE;\n",
              "      --fill-color: #1967D2;\n",
              "      --hover-bg-color: #E2EBFA;\n",
              "      --hover-fill-color: #174EA6;\n",
              "      --disabled-fill-color: #AAA;\n",
              "      --disabled-bg-color: #DDD;\n",
              "  }\n",
              "\n",
              "  [theme=dark] .colab-df-quickchart {\n",
              "      --bg-color: #3B4455;\n",
              "      --fill-color: #D2E3FC;\n",
              "      --hover-bg-color: #434B5C;\n",
              "      --hover-fill-color: #FFFFFF;\n",
              "      --disabled-bg-color: #3B4455;\n",
              "      --disabled-fill-color: #666;\n",
              "  }\n",
              "\n",
              "  .colab-df-quickchart {\n",
              "    background-color: var(--bg-color);\n",
              "    border: none;\n",
              "    border-radius: 50%;\n",
              "    cursor: pointer;\n",
              "    display: none;\n",
              "    fill: var(--fill-color);\n",
              "    height: 32px;\n",
              "    padding: 0;\n",
              "    width: 32px;\n",
              "  }\n",
              "\n",
              "  .colab-df-quickchart:hover {\n",
              "    background-color: var(--hover-bg-color);\n",
              "    box-shadow: 0 1px 2px rgba(60, 64, 67, 0.3), 0 1px 3px 1px rgba(60, 64, 67, 0.15);\n",
              "    fill: var(--button-hover-fill-color);\n",
              "  }\n",
              "\n",
              "  .colab-df-quickchart-complete:disabled,\n",
              "  .colab-df-quickchart-complete:disabled:hover {\n",
              "    background-color: var(--disabled-bg-color);\n",
              "    fill: var(--disabled-fill-color);\n",
              "    box-shadow: none;\n",
              "  }\n",
              "\n",
              "  .colab-df-spinner {\n",
              "    border: 2px solid var(--fill-color);\n",
              "    border-color: transparent;\n",
              "    border-bottom-color: var(--fill-color);\n",
              "    animation:\n",
              "      spin 1s steps(1) infinite;\n",
              "  }\n",
              "\n",
              "  @keyframes spin {\n",
              "    0% {\n",
              "      border-color: transparent;\n",
              "      border-bottom-color: var(--fill-color);\n",
              "      border-left-color: var(--fill-color);\n",
              "    }\n",
              "    20% {\n",
              "      border-color: transparent;\n",
              "      border-left-color: var(--fill-color);\n",
              "      border-top-color: var(--fill-color);\n",
              "    }\n",
              "    30% {\n",
              "      border-color: transparent;\n",
              "      border-left-color: var(--fill-color);\n",
              "      border-top-color: var(--fill-color);\n",
              "      border-right-color: var(--fill-color);\n",
              "    }\n",
              "    40% {\n",
              "      border-color: transparent;\n",
              "      border-right-color: var(--fill-color);\n",
              "      border-top-color: var(--fill-color);\n",
              "    }\n",
              "    60% {\n",
              "      border-color: transparent;\n",
              "      border-right-color: var(--fill-color);\n",
              "    }\n",
              "    80% {\n",
              "      border-color: transparent;\n",
              "      border-right-color: var(--fill-color);\n",
              "      border-bottom-color: var(--fill-color);\n",
              "    }\n",
              "    90% {\n",
              "      border-color: transparent;\n",
              "      border-bottom-color: var(--fill-color);\n",
              "    }\n",
              "  }\n",
              "</style>\n",
              "\n",
              "  <script>\n",
              "    async function quickchart(key) {\n",
              "      const quickchartButtonEl =\n",
              "        document.querySelector('#' + key + ' button');\n",
              "      quickchartButtonEl.disabled = true;  // To prevent multiple clicks.\n",
              "      quickchartButtonEl.classList.add('colab-df-spinner');\n",
              "      try {\n",
              "        const charts = await google.colab.kernel.invokeFunction(\n",
              "            'suggestCharts', [key], {});\n",
              "      } catch (error) {\n",
              "        console.error('Error during call to suggestCharts:', error);\n",
              "      }\n",
              "      quickchartButtonEl.classList.remove('colab-df-spinner');\n",
              "      quickchartButtonEl.classList.add('colab-df-quickchart-complete');\n",
              "    }\n",
              "    (() => {\n",
              "      let quickchartButtonEl =\n",
              "        document.querySelector('#df-e92b4c26-29b0-44fb-a46e-9bf140aa636b button');\n",
              "      quickchartButtonEl.style.display =\n",
              "        google.colab.kernel.accessAllowed ? 'block' : 'none';\n",
              "    })();\n",
              "  </script>\n",
              "</div>\n",
              "    </div>\n",
              "  </div>\n"
            ]
          },
          "metadata": {},
          "execution_count": 103
        }
      ]
    },
    {
      "cell_type": "code",
      "source": [
        "sample_data_schema.write.mode('overwrite').csv('sample_data_schema.csv')"
      ],
      "metadata": {
        "id": "F6i-g71bG52H"
      },
      "execution_count": 105,
      "outputs": []
    }
  ]
}