{
  "nbformat": 4,
  "nbformat_minor": 0,
  "metadata": {
    "colab": {
      "provenance": []
    },
    "kernelspec": {
      "name": "python3",
      "display_name": "Python 3"
    },
    "language_info": {
      "name": "python"
    }
  },
  "cells": [
    {
      "cell_type": "markdown",
      "source": [
        "### **Mise En Garde: Certaines méthodes sont exploitables en fonction de la version de Python que vous ustilisez**"
      ],
      "metadata": {
        "id": "K4r2Lboba8ns"
      }
    },
    {
      "cell_type": "code",
      "execution_count": null,
      "metadata": {
        "id": "EpDtSHaLQ_aB"
      },
      "outputs": [],
      "source": [
        "!pip install pyspark"
      ]
    },
    {
      "cell_type": "code",
      "source": [
        "import pyspark\n",
        "print(f\"{pyspark.__version__}\")"
      ],
      "metadata": {
        "colab": {
          "base_uri": "https://localhost:8080/"
        },
        "id": "9SG-QOW7Rszk",
        "outputId": "24e9a549-9915-4162-d87b-e00d69f3f3d4"
      },
      "execution_count": 2,
      "outputs": [
        {
          "output_type": "stream",
          "name": "stdout",
          "text": [
            "3.5.0\n"
          ]
        }
      ]
    },
    {
      "cell_type": "code",
      "source": [
        "import os\n",
        "os.listdir(os.getcwd())"
      ],
      "metadata": {
        "colab": {
          "base_uri": "https://localhost:8080/"
        },
        "id": "mpjcWW7slRvc",
        "outputId": "ff67e679-0247-4d0e-b106-c0ba56facc4a"
      },
      "execution_count": 3,
      "outputs": [
        {
          "output_type": "execute_result",
          "data": {
            "text/plain": [
              "['.config', 'census_income.csv', 'sample_data']"
            ]
          },
          "metadata": {},
          "execution_count": 3
        }
      ]
    },
    {
      "cell_type": "markdown",
      "source": [
        "### **Point d'entrée : SparkContext**"
      ],
      "metadata": {
        "id": "IdTZ6rUGSCz9"
      }
    },
    {
      "cell_type": "code",
      "source": [
        "sc = pyspark.SparkContext()\n",
        "\n",
        "# Verifier si SparkContext est valide\n",
        "print(sc)"
      ],
      "metadata": {
        "colab": {
          "base_uri": "https://localhost:8080/"
        },
        "id": "flxAK3V6SWv0",
        "outputId": "4454b592-63f9-4d8e-e252-bada81bf75a3"
      },
      "execution_count": 4,
      "outputs": [
        {
          "output_type": "stream",
          "name": "stdout",
          "text": [
            "<SparkContext master=local[*] appName=pyspark-shell>\n"
          ]
        }
      ]
    },
    {
      "cell_type": "code",
      "source": [
        "# Check the version of SparkContext in PySpark Shell\n",
        "print(\"La version de Spark Context dans PySpark Shell est : \", sc.version)\n",
        "\n",
        "# Display the Python version of SparkContext\n",
        "print(\"La version Python de Spark Context dans PySpark Shell est : \", sc.pythonVer)\n",
        "\n",
        "# Display the master of SparkContext\n",
        "print(\"Le maitre de Spark Context dans PySpark Shell est : \", sc.master)"
      ],
      "metadata": {
        "colab": {
          "base_uri": "https://localhost:8080/"
        },
        "id": "rnqToQ8dR_kh",
        "outputId": "1d8d9ad8-57eb-44d7-95d4-a852d35b5bf2"
      },
      "execution_count": 5,
      "outputs": [
        {
          "output_type": "stream",
          "name": "stdout",
          "text": [
            "La version de Spark Context dans PySpark Shell est :  3.5.0\n",
            "La version Python de Spark Context dans PySpark Shell est :  3.10\n",
            "Le maitre de Spark Context dans PySpark Shell est :  local[*]\n"
          ]
        }
      ]
    },
    {
      "cell_type": "markdown",
      "source": [
        "### **Loading Data**"
      ],
      "metadata": {
        "id": "rMcJlKc8Ttnq"
      }
    },
    {
      "cell_type": "code",
      "source": [
        "from pyspark.sql.session import SparkSession\n",
        "spark = SparkSession(sc)"
      ],
      "metadata": {
        "id": "GaTvbfT03lnm"
      },
      "execution_count": 6,
      "outputs": []
    },
    {
      "cell_type": "code",
      "source": [
        "forest_path = 'forest_coverage_type.csv'\n",
        "\n",
        "forest = spark.read.csv(forest_path, header=True, inferSchema=True)"
      ],
      "metadata": {
        "id": "O_1cXodgTs5d"
      },
      "execution_count": 60,
      "outputs": []
    },
    {
      "cell_type": "code",
      "source": [
        "forest.show(5)"
      ],
      "metadata": {
        "colab": {
          "base_uri": "https://localhost:8080/"
        },
        "id": "vSUU4A8pZ000",
        "outputId": "7a469fba-4857-4c8c-881b-085302a8157c"
      },
      "execution_count": 61,
      "outputs": [
        {
          "output_type": "stream",
          "name": "stdout",
          "text": [
            "+---------+------+-----+--------------------------------+------------------------------+-------------------------------+-------------+--------------+-------------+----------------------------------+---------------------+---------------------+------------------------+-----------------------------+--------------+--------------+--------------+--------------+--------------+--------------+--------------+--------------+--------------+--------------+--------------+--------------+--------------+--------------+--------------+--------------+--------------+--------------+--------------+--------------+--------------+--------------+--------------+--------------+--------------+--------------+--------------+--------------+--------------+--------------+--------------+--------------+--------------+--------------+--------------+--------------+--------------+--------------+--------------+--------------+---------+\n",
            "|Elevation|Aspect|Slope|Horizontal_Distance_To_Hydrology|Vertical_Distance_To_Hydrology|Horizontal_Distance_To_Roadways|Hillshade_9am|Hillshade_Noon|Hillshade_3pm|Horizontal_Distance_To_Fire_Points|Wilderness_Area_Rawah|Wilderness_Area_Neota|Wilderness_Area_Comanche|Wilderness_Area_CacheLaPoudre|Soil_type_2702|Soil_type_2703|Soil_type_2704|Soil_type_2705|Soil_type_2706|Soil_type_2717|Soil_type_3501|Soil_type_3502|Soil_type_4201|Soil_type_4703|Soil_type_4704|Soil_type_4744|Soil_type_4758|Soil_type_5101|Soil_type_5151|Soil_type_6101|Soil_type_6102|Soil_type_6731|Soil_type_7101|Soil_type_7102|Soil_type_7103|Soil_type_7201|Soil_type_7202|Soil_type_7700|Soil_type_7701|Soil_type_7702|Soil_type_7709|Soil_type_7710|Soil_type_7745|Soil_type_7746|Soil_type_7755|Soil_type_7756|Soil_type_7757|Soil_type_7790|Soil_type_8703|Soil_type_8707|Soil_type_8708|Soil_type_8771|Soil_type_8772|Soil_type_8776|CoverType|\n",
            "+---------+------+-----+--------------------------------+------------------------------+-------------------------------+-------------+--------------+-------------+----------------------------------+---------------------+---------------------+------------------------+-----------------------------+--------------+--------------+--------------+--------------+--------------+--------------+--------------+--------------+--------------+--------------+--------------+--------------+--------------+--------------+--------------+--------------+--------------+--------------+--------------+--------------+--------------+--------------+--------------+--------------+--------------+--------------+--------------+--------------+--------------+--------------+--------------+--------------+--------------+--------------+--------------+--------------+--------------+--------------+--------------+--------------+---------+\n",
            "|     2596|    51|    3|                             258|                             0|                            510|          221|           232|          148|                              6279|                    1|                    0|                       0|                            0|             0|             0|             0|             0|             0|             0|             0|             0|             0|             0|             0|             0|             0|             0|             0|             0|             0|             0|             0|             0|             0|             0|             0|             0|             0|             0|             0|             0|             1|             0|             0|             0|             0|             0|             0|             0|             0|             0|             0|             0|        5|\n",
            "|     2590|    56|    2|                             212|                            -6|                            390|          220|           235|          151|                              6225|                    1|                    0|                       0|                            0|             0|             0|             0|             0|             0|             0|             0|             0|             0|             0|             0|             0|             0|             0|             0|             0|             0|             0|             0|             0|             0|             0|             0|             0|             0|             0|             0|             0|             1|             0|             0|             0|             0|             0|             0|             0|             0|             0|             0|             0|        5|\n",
            "|     2804|   139|    9|                             268|                            65|                           3180|          234|           238|          135|                              6121|                    1|                    0|                       0|                            0|             0|             0|             0|             0|             0|             0|             0|             0|             0|             0|             0|             1|             0|             0|             0|             0|             0|             0|             0|             0|             0|             0|             0|             0|             0|             0|             0|             0|             0|             0|             0|             0|             0|             0|             0|             0|             0|             0|             0|             0|        2|\n",
            "|     2785|   155|   18|                             242|                           118|                           3090|          238|           238|          122|                              6211|                    1|                    0|                       0|                            0|             0|             0|             0|             0|             0|             0|             0|             0|             0|             0|             0|             0|             0|             0|             0|             0|             0|             0|             0|             0|             0|             0|             0|             0|             0|             0|             0|             0|             0|             1|             0|             0|             0|             0|             0|             0|             0|             0|             0|             0|        2|\n",
            "|     2595|    45|    2|                             153|                            -1|                            391|          220|           234|          150|                              6172|                    1|                    0|                       0|                            0|             0|             0|             0|             0|             0|             0|             0|             0|             0|             0|             0|             0|             0|             0|             0|             0|             0|             0|             0|             0|             0|             0|             0|             0|             0|             0|             0|             0|             1|             0|             0|             0|             0|             0|             0|             0|             0|             0|             0|             0|        5|\n",
            "+---------+------+-----+--------------------------------+------------------------------+-------------------------------+-------------+--------------+-------------+----------------------------------+---------------------+---------------------+------------------------+-----------------------------+--------------+--------------+--------------+--------------+--------------+--------------+--------------+--------------+--------------+--------------+--------------+--------------+--------------+--------------+--------------+--------------+--------------+--------------+--------------+--------------+--------------+--------------+--------------+--------------+--------------+--------------+--------------+--------------+--------------+--------------+--------------+--------------+--------------+--------------+--------------+--------------+--------------+--------------+--------------+--------------+---------+\n",
            "only showing top 5 rows\n",
            "\n"
          ]
        }
      ]
    },
    {
      "cell_type": "code",
      "source": [
        "forest.printSchema()"
      ],
      "metadata": {
        "colab": {
          "base_uri": "https://localhost:8080/"
        },
        "id": "zDaKxAiIabMK",
        "outputId": "20a77229-8cd3-450e-bc9f-9d0090e097b2"
      },
      "execution_count": 62,
      "outputs": [
        {
          "output_type": "stream",
          "name": "stdout",
          "text": [
            "root\n",
            " |-- Elevation: integer (nullable = true)\n",
            " |-- Aspect: integer (nullable = true)\n",
            " |-- Slope: integer (nullable = true)\n",
            " |-- Horizontal_Distance_To_Hydrology: integer (nullable = true)\n",
            " |-- Vertical_Distance_To_Hydrology: integer (nullable = true)\n",
            " |-- Horizontal_Distance_To_Roadways: integer (nullable = true)\n",
            " |-- Hillshade_9am: integer (nullable = true)\n",
            " |-- Hillshade_Noon: integer (nullable = true)\n",
            " |-- Hillshade_3pm: integer (nullable = true)\n",
            " |-- Horizontal_Distance_To_Fire_Points: integer (nullable = true)\n",
            " |-- Wilderness_Area_Rawah: integer (nullable = true)\n",
            " |-- Wilderness_Area_Neota: integer (nullable = true)\n",
            " |-- Wilderness_Area_Comanche: integer (nullable = true)\n",
            " |-- Wilderness_Area_CacheLaPoudre: integer (nullable = true)\n",
            " |-- Soil_type_2702: integer (nullable = true)\n",
            " |-- Soil_type_2703: integer (nullable = true)\n",
            " |-- Soil_type_2704: integer (nullable = true)\n",
            " |-- Soil_type_2705: integer (nullable = true)\n",
            " |-- Soil_type_2706: integer (nullable = true)\n",
            " |-- Soil_type_2717: integer (nullable = true)\n",
            " |-- Soil_type_3501: integer (nullable = true)\n",
            " |-- Soil_type_3502: integer (nullable = true)\n",
            " |-- Soil_type_4201: integer (nullable = true)\n",
            " |-- Soil_type_4703: integer (nullable = true)\n",
            " |-- Soil_type_4704: integer (nullable = true)\n",
            " |-- Soil_type_4744: integer (nullable = true)\n",
            " |-- Soil_type_4758: integer (nullable = true)\n",
            " |-- Soil_type_5101: integer (nullable = true)\n",
            " |-- Soil_type_5151: integer (nullable = true)\n",
            " |-- Soil_type_6101: integer (nullable = true)\n",
            " |-- Soil_type_6102: integer (nullable = true)\n",
            " |-- Soil_type_6731: integer (nullable = true)\n",
            " |-- Soil_type_7101: integer (nullable = true)\n",
            " |-- Soil_type_7102: integer (nullable = true)\n",
            " |-- Soil_type_7103: integer (nullable = true)\n",
            " |-- Soil_type_7201: integer (nullable = true)\n",
            " |-- Soil_type_7202: integer (nullable = true)\n",
            " |-- Soil_type_7700: integer (nullable = true)\n",
            " |-- Soil_type_7701: integer (nullable = true)\n",
            " |-- Soil_type_7702: integer (nullable = true)\n",
            " |-- Soil_type_7709: integer (nullable = true)\n",
            " |-- Soil_type_7710: integer (nullable = true)\n",
            " |-- Soil_type_7745: integer (nullable = true)\n",
            " |-- Soil_type_7746: integer (nullable = true)\n",
            " |-- Soil_type_7755: integer (nullable = true)\n",
            " |-- Soil_type_7756: integer (nullable = true)\n",
            " |-- Soil_type_7757: integer (nullable = true)\n",
            " |-- Soil_type_7790: integer (nullable = true)\n",
            " |-- Soil_type_8703: integer (nullable = true)\n",
            " |-- Soil_type_8707: integer (nullable = true)\n",
            " |-- Soil_type_8708: integer (nullable = true)\n",
            " |-- Soil_type_8771: integer (nullable = true)\n",
            " |-- Soil_type_8772: integer (nullable = true)\n",
            " |-- Soil_type_8776: integer (nullable = true)\n",
            " |-- CoverType: integer (nullable = true)\n",
            "\n"
          ]
        }
      ]
    },
    {
      "cell_type": "markdown",
      "source": [
        "### **Introducing Transformers**"
      ],
      "metadata": {
        "id": "tbUjDF_Z7BMR"
      }
    },
    {
      "cell_type": "markdown",
      "source": [
        "List of most popular **Transformers**\n",
        "* Binarizer\n",
        "* Bucketizer\n",
        "* ChiSqSelector\n",
        "* CountVectorizer\n",
        "* DCT\n",
        "* ElementwiseProduct\n",
        "* HashingTF\n",
        "* IDF\n",
        "* IndexToString\n",
        "* MaxAbsScaler\n",
        "* MinMaxScaler\n",
        "* NGram\n",
        "* Normalizer\n",
        "* OneHotEncoder\n",
        "* PCA\n",
        "* PolynomialExpansion\n",
        "* QuantileDiscretizer\n",
        "* RegexTokenizer\n",
        "* RFormula\n",
        "* SQLTransformer\n",
        "* StandardScaler\n",
        "* StopWordsRemover\n",
        "* StringIndexer\n",
        "* Tokenizer\n",
        "* VectorAssembler\n",
        "* VectorIndexer\n",
        "* VectorSlicer\n",
        "* Word2Vec"
      ],
      "metadata": {
        "id": "2V53P_bX6-np"
      }
    },
    {
      "cell_type": "code",
      "source": [
        "import pyspark.sql.functions as f\n",
        "import pyspark.ml.feature as feat\n",
        "import numpy as np"
      ],
      "metadata": {
        "id": "LYDF7kiHadRz"
      },
      "execution_count": 63,
      "outputs": []
    },
    {
      "cell_type": "markdown",
      "source": [
        "### **Bucketize**\n",
        "\n"
      ],
      "metadata": {
        "id": "HcTzEvtPNXfO"
      }
    },
    {
      "cell_type": "code",
      "source": [
        "buckets_no = 10\n",
        "\n",
        "dist_min_max = (\n",
        "    forest.agg(\n",
        "        f.min('Horizontal_Distance_To_Hydrology').alias('min'),\n",
        "        f.max('Horizontal_Distance_To_Hydrology').alias('max')\n",
        "    )\n",
        "    .rdd\n",
        "    .map(lambda row: (row.min, row.max))\n",
        "    .collect()[0]\n",
        ")\n",
        "\n",
        "dist_min_max"
      ],
      "metadata": {
        "colab": {
          "base_uri": "https://localhost:8080/"
        },
        "id": "dN9cW-QL8ji0",
        "outputId": "f69749d3-daaf-40b6-b788-7a0da7451afc"
      },
      "execution_count": 66,
      "outputs": [
        {
          "output_type": "execute_result",
          "data": {
            "text/plain": [
              "(0, 1343)"
            ]
          },
          "metadata": {},
          "execution_count": 66
        }
      ]
    },
    {
      "cell_type": "code",
      "source": [
        "rng = dist_min_max[1] - dist_min_max[0]\n",
        "\n",
        "splits = list(np.arange(\n",
        "    dist_min_max[0],\n",
        "    dist_min_max[1],\n",
        "    rng / (buckets_no + 1)))\n",
        "\n",
        "splits"
      ],
      "metadata": {
        "colab": {
          "base_uri": "https://localhost:8080/"
        },
        "id": "ejVKEQ1P-i7L",
        "outputId": "a2ed68e2-24d7-43dd-a420-6b4e96bab025"
      },
      "execution_count": 68,
      "outputs": [
        {
          "output_type": "execute_result",
          "data": {
            "text/plain": [
              "[0.0,\n",
              " 122.0909090909091,\n",
              " 244.1818181818182,\n",
              " 366.27272727272725,\n",
              " 488.3636363636364,\n",
              " 610.4545454545455,\n",
              " 732.5454545454545,\n",
              " 854.6363636363636,\n",
              " 976.7272727272727,\n",
              " 1098.8181818181818,\n",
              " 1220.909090909091]"
            ]
          },
          "metadata": {},
          "execution_count": 68
        }
      ]
    },
    {
      "cell_type": "code",
      "source": [
        "bucketizer = feat.Bucketizer(\n",
        "    splits = splits,\n",
        "    inputCol = 'Horizontal_Distance_To_Hydrology',\n",
        "    outputCol = 'Horizontal_Distance_To_Hydrology_Bkt'\n",
        ")\n",
        "\n",
        "(\n",
        "    bucketizer\n",
        "    .transform(forest)\n",
        "    .select(\n",
        "        'Horizontal_Distance_To_Hydrology',\n",
        "        'Horizontal_Distance_To_Hydrology_Bkt'\n",
        "    ).show(5)\n",
        ")"
      ],
      "metadata": {
        "colab": {
          "base_uri": "https://localhost:8080/"
        },
        "id": "LpagdKBh-mWk",
        "outputId": "a314cc25-fc23-4591-8f72-6b239cd77171"
      },
      "execution_count": 70,
      "outputs": [
        {
          "output_type": "stream",
          "name": "stdout",
          "text": [
            "+--------------------------------+------------------------------------+\n",
            "|Horizontal_Distance_To_Hydrology|Horizontal_Distance_To_Hydrology_Bkt|\n",
            "+--------------------------------+------------------------------------+\n",
            "|                             258|                                 2.0|\n",
            "|                             212|                                 1.0|\n",
            "|                             268|                                 2.0|\n",
            "|                             242|                                 1.0|\n",
            "|                             153|                                 1.0|\n",
            "+--------------------------------+------------------------------------+\n",
            "only showing top 5 rows\n",
            "\n"
          ]
        }
      ]
    },
    {
      "cell_type": "markdown",
      "source": [
        "### **Principal Component Analysis**"
      ],
      "metadata": {
        "id": "NYFNRaNS_IZA"
      }
    },
    {
      "cell_type": "code",
      "source": [
        "vectorAssembler = (\n",
        "    feat.VectorAssembler(\n",
        "        inputCols = forest.columns,\n",
        "        outputCol = 'feat'\n",
        "    )\n",
        ")"
      ],
      "metadata": {
        "id": "tXbRMUW--kwc"
      },
      "execution_count": 73,
      "outputs": []
    },
    {
      "cell_type": "code",
      "source": [
        "pca = (\n",
        "    feat.PCA(\n",
        "        k = 5,\n",
        "        inputCol = vectorAssembler.getOutputCol(),\n",
        "        outputCol = 'pca_feat'\n",
        "    )\n",
        ")\n",
        "\n",
        "(\n",
        "    pca\n",
        "    .fit(vectorAssembler.transform(forest))\n",
        "    .transform(vectorAssembler.transform(forest))\n",
        "    .select('feat','pca_feat')\n",
        "    .take(1)\n",
        ")"
      ],
      "metadata": {
        "colab": {
          "base_uri": "https://localhost:8080/"
        },
        "id": "TeHcnWwJAEx8",
        "outputId": "e2cfaf50-334a-4c6a-e3a5-2cc66c141d7a"
      },
      "execution_count": 74,
      "outputs": [
        {
          "output_type": "execute_result",
          "data": {
            "text/plain": [
              "[Row(feat=SparseVector(55, {0: 2596.0, 1: 51.0, 2: 3.0, 3: 258.0, 5: 510.0, 6: 221.0, 7: 232.0, 8: 148.0, 9: 6279.0, 10: 1.0, 42: 1.0, 54: 5.0}), pca_feat=DenseVector([-3914.4027, -4911.4685, 1461.9024, 2184.1716, -399.7247]))]"
            ]
          },
          "metadata": {},
          "execution_count": 74
        }
      ]
    },
    {
      "cell_type": "markdown",
      "source": [
        "### **Introducing Estimators**"
      ],
      "metadata": {
        "id": "IIuhQLnbcELN"
      }
    },
    {
      "cell_type": "markdown",
      "source": [
        "List of most popular **Estimators**\n",
        "1. Classification\n",
        " * LinearSVC\n",
        " * LogisticRegression\n",
        " * DecisionTreeClassifier\n",
        " * GBTClassifier\n",
        " * RandomForestClassifier\n",
        " * NaiveBayes\n",
        " * MultilayerPerceptronClassifier\n",
        " * OneVsRest\n",
        "2. Regression\n",
        " * AFTSurvivalRegression\n",
        " * DecisionTreeRegressor\n",
        " * GBTRegressor\n",
        " * GeneralizedLinearRegression\n",
        " * IsotonicRegression\n",
        " * LinearRegression\n",
        " * RandomForestRegressor\n",
        "3. Clustering\n",
        " * BisectingKMeans\n",
        " * Kmeans\n",
        " * GaussianMixture\n",
        " * LDA"
      ],
      "metadata": {
        "id": "1xGD-_ZzAqwU"
      }
    },
    {
      "cell_type": "code",
      "source": [
        "forest.select('CoverType').groupBy('CoverType').count().show()"
      ],
      "metadata": {
        "colab": {
          "base_uri": "https://localhost:8080/"
        },
        "id": "zB0nM2FANzeQ",
        "outputId": "043f2661-9872-4e36-f4fd-92efc2fb4f2b"
      },
      "execution_count": 75,
      "outputs": [
        {
          "output_type": "stream",
          "name": "stdout",
          "text": [
            "+---------+------+\n",
            "|CoverType| count|\n",
            "+---------+------+\n",
            "|        1| 68231|\n",
            "|        6|  2491|\n",
            "|        3|  2871|\n",
            "|        5|  4499|\n",
            "|        4|  2160|\n",
            "|        7|  3143|\n",
            "|        2|143735|\n",
            "+---------+------+\n",
            "\n"
          ]
        }
      ]
    },
    {
      "cell_type": "markdown",
      "source": [
        "+ **Linear SVM**"
      ],
      "metadata": {
        "id": "3kyUd0_icGx0"
      }
    },
    {
      "cell_type": "code",
      "source": [
        "import pyspark.ml.classification as cl\n",
        "\n",
        "vectorAssembler = feat.VectorAssembler(\n",
        "    inputCols=forest.columns[0:-1]\n",
        "    , outputCol='features')\n",
        "\n",
        "fir_dataset = (\n",
        "    vectorAssembler\n",
        "    .transform(forest)\n",
        "    .withColumn(\n",
        "        'label'\n",
        "        , (f.col('CoverType') == 1).cast('integer'))\n",
        "    .select('label', 'features')\n",
        ")\n",
        "\n",
        "svc_obj = cl.LinearSVC(maxIter=10, regParam=0.01)\n",
        "svc_model = svc_obj.fit(fir_dataset)\n",
        "\n",
        "svc_model.coefficients"
      ],
      "metadata": {
        "colab": {
          "base_uri": "https://localhost:8080/"
        },
        "id": "S-W2X6VXUJTV",
        "outputId": "9653ca83-1794-4095-99ee-aa68423c4326"
      },
      "execution_count": 76,
      "outputs": [
        {
          "output_type": "execute_result",
          "data": {
            "text/plain": [
              "DenseVector([0.0046, -0.0005, -0.0164, -0.0005, -0.0016, -0.0001, -0.0042, -0.0147, 0.0022, 0.0, 0.6182, -2.0286, -0.8965, 0.0305, 0.0568, -0.8068, 0.0595, -0.8823, 0.0669, -0.3224, -1.3506, -0.2247, 0.7516, -0.3606, -1.133, -0.2527, -0.9418, -0.1618, 0.0, 0.2582, -0.2955, -1.3609, 0.891, 0.1223, 2.3326, 0.8634, 0.5468, -0.3058, -1.35, 0.7908, 1.4007, -0.156, -0.2998, -0.1307, 0.6443, 0.655, 0.1823, -1.3501, -1.9091, -1.35, -3.3735, 0.4374, 0.3065, 0.2233])"
            ]
          },
          "metadata": {},
          "execution_count": 76
        }
      ]
    },
    {
      "cell_type": "markdown",
      "source": [
        "+ **Linear Regression**"
      ],
      "metadata": {
        "id": "YbxkNzYSKI3t"
      }
    },
    {
      "cell_type": "code",
      "source": [
        "import pyspark.ml.regression as rg\n",
        "\n",
        "vectorAssembler = feat.VectorAssembler(\n",
        "    inputCols=forest.columns[14:]\n",
        "    , outputCol='features')\n",
        "\n",
        "elevation_dataset = (\n",
        "    vectorAssembler\n",
        "    .transform(forest)\n",
        "    .withColumn(\n",
        "        'label'\n",
        "        , f.col('Elevation').cast('float'))\n",
        "    .select('label', 'features')\n",
        ")\n",
        "\n",
        "lr_obj = rg.LinearRegression(\n",
        "    maxIter=10,\n",
        "    regParam=0.01,\n",
        "    elasticNetParam=1.00\n",
        ")\n",
        "\n",
        "lr_model = lr_obj.fit(elevation_dataset)\n",
        "\n",
        "lr_model.coefficients"
      ],
      "metadata": {
        "id": "JRpWn-RvKHyj",
        "colab": {
          "base_uri": "https://localhost:8080/"
        },
        "outputId": "4d24813f-c915-4c2d-da56-6d96e7fcdefa"
      },
      "execution_count": 77,
      "outputs": [
        {
          "output_type": "execute_result",
          "data": {
            "text/plain": [
              "DenseVector([-708.0794, -406.5939, -611.6002, -333.1797, -776.7268, -482.4193, -11.3944, -19.9742, -352.5231, -454.6416, -219.3289, -110.3683, -81.8712, -654.9171, 0.0, -175.6838, -510.7481, -378.507, 129.9219, -58.4125, 255.9509, 206.8538, 47.9274, -11.6442, 363.9142, 11.0841, 370.0227, -109.8213, 53.2488, -11.0058, -113.5973, 87.6946, -116.7646, 117.5882, 567.8072, 601.698, 623.1054, 367.105, 392.1689, 481.2721, -29.8893])"
            ]
          },
          "metadata": {},
          "execution_count": 77
        }
      ]
    },
    {
      "cell_type": "code",
      "source": [
        "summary = lr_model.summary\n",
        "\n",
        "print(\n",
        "    summary.r2,\n",
        "    summary.rootMeanSquaredError,\n",
        "    summary.meanAbsoluteError\n",
        ")"
      ],
      "metadata": {
        "colab": {
          "base_uri": "https://localhost:8080/"
        },
        "id": "SxpjpILnOdbY",
        "outputId": "b316da54-33ba-404e-cbc8-93fc74231037"
      },
      "execution_count": 78,
      "outputs": [
        {
          "output_type": "stream",
          "name": "stdout",
          "text": [
            "0.5354698065167762 150.53295564225084 116.8655322069374\n"
          ]
        }
      ]
    },
    {
      "cell_type": "markdown",
      "source": [
        "### **Inytroduction_Pipelines**"
      ],
      "metadata": {
        "id": "B8RaQ9b9gRJC"
      }
    },
    {
      "cell_type": "code",
      "source": [
        "from pyspark.ml import Pipeline\n",
        "\n",
        "vectorAssembler = feat.VectorAssembler(\n",
        "    inputCols=forest.columns[1:]\n",
        "    , outputCol='features')\n",
        "\n",
        "lr_obj = rg.GeneralizedLinearRegression(\n",
        "    labelCol='Elevation'\n",
        "    , maxIter=10\n",
        "    , regParam=0.01\n",
        "    , link='identity'\n",
        "    , linkPredictionCol=\"p\"\n",
        ")\n",
        "\n",
        "pip = Pipeline(stages=[vectorAssembler, lr_obj])\n",
        "\n",
        "(\n",
        "    pip\n",
        "    .fit(forest)\n",
        "    .transform(forest)\n",
        "    .select('Elevation', 'prediction')\n",
        "    .show(5)\n",
        ")"
      ],
      "metadata": {
        "colab": {
          "base_uri": "https://localhost:8080/"
        },
        "id": "-PZXuCMXOhnJ",
        "outputId": "bfe3c064-228a-4d48-bb01-5002561eab11"
      },
      "execution_count": 83,
      "outputs": [
        {
          "output_type": "stream",
          "name": "stdout",
          "text": [
            "+---------+------------------+\n",
            "|Elevation|        prediction|\n",
            "+---------+------------------+\n",
            "|     2596|2736.6274330398714|\n",
            "|     2590|2726.2112186340246|\n",
            "|     2804| 2805.781817847579|\n",
            "|     2785|2852.0528214819296|\n",
            "|     2595|2721.4535553820306|\n",
            "+---------+------------------+\n",
            "only showing top 5 rows\n",
            "\n"
          ]
        }
      ]
    },
    {
      "cell_type": "code",
      "source": [
        "import matplotlib.pyplot as plt\n",
        "plt.style.use('ggplot')\n",
        "\n",
        "transformed_df = forest.select('Elevation')\n",
        "transformed_df.toPandas().hist(figsize=(15,12))\n",
        "\n",
        "plt.savefig('Elevation_histogram.png')\n",
        "\n",
        "plt.close('all')"
      ],
      "metadata": {
        "id": "D46TXNokDSqx"
      },
      "execution_count": 82,
      "outputs": []
    },
    {
      "cell_type": "markdown",
      "source": [
        "### **Selecting the most predictable features**\n",
        "\n",
        "#### **Chi-Square selector**"
      ],
      "metadata": {
        "id": "11JC5-AqV6x_"
      }
    },
    {
      "cell_type": "code",
      "source": [
        "vectorAssembler = feat.VectorAssembler(\n",
        "    inputCols=forest.columns[0:-1]\n",
        "    , outputCol='features'\n",
        ")\n",
        "\n",
        "selector = feat.ChiSqSelector(\n",
        "    labelCol='CoverType'\n",
        "    , numTopFeatures=10\n",
        "    , outputCol='selected')\n",
        "\n",
        "pipeline_sel = Pipeline(stages=[vectorAssembler, selector])\n",
        "\n",
        "(\n",
        "    pipeline_sel\n",
        "    .fit(forest)\n",
        "    .transform(forest)\n",
        "    .select(selector.getOutputCol())\n",
        "    .show(5)\n",
        ")"
      ],
      "metadata": {
        "colab": {
          "base_uri": "https://localhost:8080/"
        },
        "id": "kUrVvKqNijKg",
        "outputId": "d248f4ca-db80-4024-abaf-a15baab71125"
      },
      "execution_count": 84,
      "outputs": [
        {
          "output_type": "stream",
          "name": "stdout",
          "text": [
            "+--------------------+\n",
            "|            selected|\n",
            "+--------------------+\n",
            "|(10,[0,1,2,3,5,6,...|\n",
            "|(10,[0,1,2,3,4,5,...|\n",
            "|(10,[0,1,2,3,4,5,...|\n",
            "|(10,[0,1,2,3,4,5,...|\n",
            "|(10,[0,1,2,3,4,5,...|\n",
            "+--------------------+\n",
            "only showing top 5 rows\n",
            "\n"
          ]
        }
      ]
    },
    {
      "cell_type": "markdown",
      "source": [
        "### **Correlation**"
      ],
      "metadata": {
        "id": "iNfiqe4eMXJw"
      }
    },
    {
      "cell_type": "code",
      "source": [
        "import pyspark.ml.stat as st\n",
        "\n",
        "features_and_label = feat.VectorAssembler(\n",
        "    inputCols=forest.columns\n",
        "    , outputCol='features'\n",
        ")\n",
        "\n",
        "corr = st.Correlation.corr(\n",
        "    features_and_label.transform(forest),\n",
        "    'features',\n",
        "    'pearson'\n",
        ")\n",
        "\n",
        "print(str(corr.collect()[0][0]))"
      ],
      "metadata": {
        "colab": {
          "base_uri": "https://localhost:8080/"
        },
        "id": "mL_4ExjeV95a",
        "outputId": "9d4f6160-2f6c-4610-a945-af146bfc79f5"
      },
      "execution_count": 85,
      "outputs": [
        {
          "output_type": "stream",
          "name": "stdout",
          "text": [
            "DenseMatrix([[ 1.        ,  0.02516887, -0.22556874, ...,  0.16939913,\n",
            "               0.13931532, -0.31733882],\n",
            "             [ 0.02516887,  1.        ,  0.04945334, ...,  0.02005632,\n",
            "              -0.00135947,  0.02797373],\n",
            "             [-0.22556874,  0.04945334,  1.        , ...,  0.03455914,\n",
            "               0.01249374,  0.21259109],\n",
            "             ...,\n",
            "             [ 0.16939913,  0.02005632,  0.03455914, ...,  1.        ,\n",
            "              -0.00748953,  0.09557182],\n",
            "             [ 0.13931532, -0.00135947,  0.01249374, ..., -0.00748953,\n",
            "               1.        ,  0.09394442],\n",
            "             [-0.31733882,  0.02797373,  0.21259109, ...,  0.09557182,\n",
            "               0.09394442,  1.        ]])\n"
          ]
        }
      ]
    },
    {
      "cell_type": "code",
      "source": [
        "num_of_features = 10\n",
        "cols = dict([\n",
        "    (i, e)\n",
        "    for i, e\n",
        "    in enumerate(forest.columns)\n",
        "])\n",
        "\n",
        "corr_matrix = corr.collect()[0][0]\n",
        "label_corr_with_idx = [\n",
        "    (i[0], e)\n",
        "    for i, e\n",
        "    in np.ndenumerate(corr_matrix.toArray()[:,0])\n",
        "][1:]\n",
        "\n",
        "label_corr_with_idx_sorted = sorted(\n",
        "    label_corr_with_idx\n",
        "    , key=lambda el: -abs(el[1])\n",
        ")\n",
        "\n",
        "features_selected = np.array([\n",
        "    cols[el[0]]\n",
        "    for el\n",
        "    in label_corr_with_idx_sorted\n",
        "])[0:num_of_features]\n",
        "\n",
        "features_selected"
      ],
      "metadata": {
        "colab": {
          "base_uri": "https://localhost:8080/"
        },
        "id": "fOMsC92PWKFM",
        "outputId": "a6b5504b-8917-4ce9-adbb-97a114e16265"
      },
      "execution_count": 86,
      "outputs": [
        {
          "output_type": "execute_result",
          "data": {
            "text/plain": [
              "array(['Horizontal_Distance_To_Roadways', 'Wilderness_Area_CacheLaPoudre',\n",
              "       'Wilderness_Area_Rawah', 'CoverType', 'Soil_type_4703',\n",
              "       'Horizontal_Distance_To_Hydrology', 'Slope', 'Soil_type_7201',\n",
              "       'Soil_type_8771', 'Soil_type_4744'], dtype='<U34')"
            ]
          },
          "metadata": {},
          "execution_count": 86
        }
      ]
    },
    {
      "cell_type": "markdown",
      "source": [
        "### **Predicting forest coverage type**"
      ],
      "metadata": {
        "id": "3cc4Vz6MMqip"
      }
    },
    {
      "cell_type": "markdown",
      "source": [
        "+ Logistic regression"
      ],
      "metadata": {
        "id": "EUNFegnFMvcs"
      }
    },
    {
      "cell_type": "code",
      "source": [
        "forest_train, forest_test = (\n",
        "    forest\n",
        "    .randomSplit([0.7, 0.3], seed=666)\n",
        ")\n",
        "\n",
        "vectorAssembler = feat.VectorAssembler(\n",
        "    inputCols=forest.columns[0:-1]\n",
        "    , outputCol='features'\n",
        ")\n",
        "\n",
        "selector = feat.ChiSqSelector(\n",
        "    labelCol='CoverType'\n",
        "    , numTopFeatures=10\n",
        "    , outputCol='selected'\n",
        ")\n",
        "\n",
        "logReg_obj = cl.LogisticRegression(\n",
        "    labelCol='CoverType'\n",
        "    , featuresCol=selector.getOutputCol()\n",
        "    , regParam=0.01\n",
        "    , elasticNetParam=1.0\n",
        "    , family='multinomial'\n",
        ")\n",
        "\n",
        "pipeline = Pipeline(\n",
        "    stages=[\n",
        "        vectorAssembler\n",
        "        , selector\n",
        "        , logReg_obj\n",
        "    ])\n",
        "\n",
        "pModel = pipeline.fit(forest_train)"
      ],
      "metadata": {
        "id": "m7MMpgc7WQH1"
      },
      "execution_count": 87,
      "outputs": []
    },
    {
      "cell_type": "code",
      "source": [
        "import pyspark.ml.evaluation as ev\n",
        "\n",
        "results_logReg = (\n",
        "    pModel\n",
        "    .transform(forest_test)\n",
        "    .select('CoverType', 'probability', 'prediction')\n",
        ")\n",
        "\n",
        "evaluator = ev.MulticlassClassificationEvaluator(\n",
        "    predictionCol='prediction'\n",
        "    , labelCol='CoverType')\n",
        "\n",
        "(\n",
        "    evaluator.evaluate(results_logReg)\n",
        "    , evaluator.evaluate(\n",
        "        results_logReg\n",
        "        , {evaluator.metricName: 'weightedPrecision'}\n",
        "    )\n",
        "    , evaluator.evaluate(\n",
        "        results_logReg\n",
        "        , {evaluator.metricName: 'accuracy'}\n",
        "    )\n",
        ")"
      ],
      "metadata": {
        "colab": {
          "base_uri": "https://localhost:8080/"
        },
        "id": "hPKGenHdNQM4",
        "outputId": "f7d1d7e6-9313-4f4a-f11e-b779b5492b91"
      },
      "execution_count": 88,
      "outputs": [
        {
          "output_type": "execute_result",
          "data": {
            "text/plain": [
              "(0.711782388432552, 0.7238587387739596, 0.7416655637417097)"
            ]
          },
          "metadata": {},
          "execution_count": 88
        }
      ]
    },
    {
      "cell_type": "markdown",
      "source": [
        "+ Random Forest Classifier"
      ],
      "metadata": {
        "id": "qP5fubkRmRep"
      }
    },
    {
      "cell_type": "code",
      "source": [
        "rf_obj = cl.RandomForestClassifier(\n",
        "    labelCol='CoverType'\n",
        "    , featuresCol=selector.getOutputCol()\n",
        "    , minInstancesPerNode=10\n",
        "    , numTrees=10\n",
        ")\n",
        "\n",
        "pipeline = Pipeline(\n",
        "    stages=[vectorAssembler, selector, rf_obj]\n",
        ")\n",
        "\n",
        "pModel = pipeline.fit(forest_train)\n",
        "\n",
        "results_rf = (\n",
        "    pModel\n",
        "    .transform(forest_test)\n",
        "    .select('CoverType', 'probability', 'prediction')\n",
        ")\n",
        "\n",
        "evaluator = ev.MulticlassClassificationEvaluator(\n",
        "    predictionCol='prediction'\n",
        "    , labelCol='CoverType')\n",
        "\n",
        "(\n",
        "    evaluator.evaluate(results_rf)\n",
        "    , evaluator.evaluate(\n",
        "        results_rf\n",
        "        , {evaluator.metricName: 'weightedPrecision'}\n",
        "    )\n",
        "    , evaluator.evaluate(\n",
        "        results_rf\n",
        "        , {evaluator.metricName: 'accuracy'}\n",
        "    )\n",
        ")"
      ],
      "metadata": {
        "colab": {
          "base_uri": "https://localhost:8080/"
        },
        "id": "cScO9vfZ7BMc",
        "outputId": "fee45c4e-76c1-425b-e17e-373233186583"
      },
      "execution_count": 89,
      "outputs": [
        {
          "output_type": "execute_result",
          "data": {
            "text/plain": [
              "(0.7478153311107237, 0.7508781245720952, 0.7694004499933824)"
            ]
          },
          "metadata": {},
          "execution_count": 89
        }
      ]
    },
    {
      "cell_type": "markdown",
      "source": [
        "### **Estimating forest elevation**\n",
        "+ **Random Forest regression**"
      ],
      "metadata": {
        "id": "MDE_I8QhQV-v"
      }
    },
    {
      "cell_type": "code",
      "source": [
        "rf_obj = cl.RandomForestClassifier(\n",
        "    labelCol='CoverType'\n",
        "    , featuresCol=selector.getOutputCol()\n",
        "    , minInstancesPerNode=10\n",
        "    , numTrees=10\n",
        ")\n",
        "\n",
        "pipeline = Pipeline(\n",
        "    stages=[vectorAssembler, selector, rf_obj]\n",
        ")\n",
        "\n",
        "pModel = pipeline.fit(forest_train)\n",
        "\n",
        "results_rf = (\n",
        "    pModel\n",
        "    .transform(forest_test)\n",
        "    .select('CoverType', 'probability', 'prediction')\n",
        ")\n",
        "\n",
        "evaluator = ev.MulticlassClassificationEvaluator(\n",
        "    predictionCol='prediction'\n",
        "    , labelCol='CoverType')\n",
        "\n",
        "(\n",
        "    evaluator.evaluate(results_rf)\n",
        "    , evaluator.evaluate(\n",
        "        results_rf\n",
        "        , {evaluator.metricName: 'weightedPrecision'}\n",
        "    )\n",
        "    , evaluator.evaluate(\n",
        "        results_rf\n",
        "        , {evaluator.metricName: 'accuracy'}\n",
        "    )\n",
        ")"
      ],
      "metadata": {
        "colab": {
          "base_uri": "https://localhost:8080/"
        },
        "id": "qFdfrFqPWTeH",
        "outputId": "b81da685-8cf0-4d5e-cee1-e55b37da7fe7"
      },
      "execution_count": 90,
      "outputs": [
        {
          "output_type": "execute_result",
          "data": {
            "text/plain": [
              "(0.7478153311107237, 0.7508781245720952, 0.7694004499933824)"
            ]
          },
          "metadata": {},
          "execution_count": 90
        }
      ]
    },
    {
      "cell_type": "markdown",
      "source": [
        "+ Gradient Boosted Trees regression"
      ],
      "metadata": {
        "id": "PmKY36WFPgR5"
      }
    },
    {
      "cell_type": "code",
      "source": [
        "gbt_obj = rg.GBTRegressor(\n",
        "    labelCol='Elevation'\n",
        "    , minInstancesPerNode=10\n",
        "    , minInfoGain=0.1\n",
        ")\n",
        "\n",
        "pip = Pipeline(stages=[vectorAssembler, gbt_obj])\n",
        "\n",
        "results = (\n",
        "    pip\n",
        "    .fit(forest)\n",
        "    .transform(forest)\n",
        "    .select('Elevation', 'prediction')\n",
        ")\n",
        "\n",
        "evaluator = ev.RegressionEvaluator(labelCol='Elevation')\n",
        "evaluator.evaluate(results, {evaluator.metricName: 'r2'})"
      ],
      "metadata": {
        "id": "jjUwuLXTQ9Jn",
        "colab": {
          "base_uri": "https://localhost:8080/"
        },
        "outputId": "9f1f09bf-acd2-4165-e232-cbbe5f280d37"
      },
      "execution_count": 91,
      "outputs": [
        {
          "output_type": "execute_result",
          "data": {
            "text/plain": [
              "0.9944823080479042"
            ]
          },
          "metadata": {},
          "execution_count": 91
        }
      ]
    },
    {
      "cell_type": "markdown",
      "source": [
        "### **Clustering forest cover type**"
      ],
      "metadata": {
        "id": "kkHx4HaASjHq"
      }
    },
    {
      "cell_type": "code",
      "source": [
        "import pyspark.ml.clustering as clust\n",
        "\n",
        "vectorAssembler = feat.VectorAssembler(\n",
        "    inputCols=forest.columns[:-1]\n",
        "    , outputCol='features')\n",
        "\n",
        "kmeans_obj = clust.KMeans(k=7, seed=666)\n",
        "\n",
        "pip = Pipeline(stages=[vectorAssembler, kmeans_obj])"
      ],
      "metadata": {
        "id": "mIekkROAXAh2"
      },
      "execution_count": 92,
      "outputs": []
    },
    {
      "cell_type": "code",
      "source": [
        "results = (\n",
        "    pip\n",
        "    .fit(forest)\n",
        "    .transform(forest)\n",
        "    .select('features', 'CoverType', 'prediction')\n",
        ")\n",
        "\n",
        "results.show(5)"
      ],
      "metadata": {
        "colab": {
          "base_uri": "https://localhost:8080/"
        },
        "id": "bNOliJLcS75u",
        "outputId": "2cb81aee-eb12-4298-81b9-864fc246a57a"
      },
      "execution_count": 93,
      "outputs": [
        {
          "output_type": "stream",
          "name": "stdout",
          "text": [
            "+--------------------+---------+----------+\n",
            "|            features|CoverType|prediction|\n",
            "+--------------------+---------+----------+\n",
            "|(54,[0,1,2,3,5,6,...|        5|         4|\n",
            "|(54,[0,1,2,3,4,5,...|        5|         4|\n",
            "|(54,[0,1,2,3,4,5,...|        2|         4|\n",
            "|(54,[0,1,2,3,4,5,...|        2|         4|\n",
            "|(54,[0,1,2,3,4,5,...|        5|         4|\n",
            "+--------------------+---------+----------+\n",
            "only showing top 5 rows\n",
            "\n"
          ]
        }
      ]
    },
    {
      "cell_type": "code",
      "source": [
        "clustering_ev = ev.ClusteringEvaluator()\n",
        "clustering_ev.evaluate(results)"
      ],
      "metadata": {
        "colab": {
          "base_uri": "https://localhost:8080/"
        },
        "id": "eg2oV6JorO1q",
        "outputId": "87c11568-b491-435f-9ee4-46768ebf80ce"
      },
      "execution_count": 94,
      "outputs": [
        {
          "output_type": "execute_result",
          "data": {
            "text/plain": [
              "0.48990301283560456"
            ]
          },
          "metadata": {},
          "execution_count": 94
        }
      ]
    },
    {
      "cell_type": "markdown",
      "source": [
        "### **Tuning hyper parameters**"
      ],
      "metadata": {
        "id": "DGDin5cr9xV8"
      }
    },
    {
      "cell_type": "markdown",
      "source": [
        "+ **Grid search**"
      ],
      "metadata": {
        "id": "Xqo_3NhRTVks"
      }
    },
    {
      "cell_type": "code",
      "source": [
        "import pyspark.ml.tuning as tune\n",
        "\n",
        "vectorAssembler = feat.VectorAssembler(\n",
        "    inputCols=forest.columns[0:-1]\n",
        "    , outputCol='features')\n",
        "\n",
        "selector = feat.ChiSqSelector(\n",
        "    labelCol='CoverType'\n",
        "    , numTopFeatures=5\n",
        "    , outputCol='selected')\n",
        "\n",
        "logReg_obj = cl.LogisticRegression(\n",
        "    labelCol='CoverType'\n",
        "    , featuresCol=selector.getOutputCol()\n",
        "    , family='multinomial'\n",
        ")\n",
        "\n",
        "logReg_grid = (\n",
        "    tune.ParamGridBuilder()\n",
        "    .addGrid(logReg_obj.regParam\n",
        "            , [0.01, 0.1]\n",
        "        )\n",
        "    .addGrid(logReg_obj.elasticNetParam\n",
        "            , [1.0, 0.5]\n",
        "        )\n",
        "    .build()\n",
        ")\n",
        "\n",
        "logReg_ev = ev.MulticlassClassificationEvaluator(\n",
        "    predictionCol='prediction'\n",
        "    , labelCol='CoverType')\n",
        "\n",
        "cross_v = tune.CrossValidator(\n",
        "    estimator=logReg_obj\n",
        "    , estimatorParamMaps=logReg_grid\n",
        "    , evaluator=logReg_ev\n",
        ")\n",
        "\n",
        "pipeline = Pipeline(stages=[vectorAssembler, selector])\n",
        "data_trans = pipeline.fit(forest_train)\n",
        "\n",
        "logReg_modelTest = cross_v.fit(\n",
        "    data_trans.transform(forest_train)\n",
        ")"
      ],
      "metadata": {
        "id": "lc2D_1gZXI5v"
      },
      "execution_count": 95,
      "outputs": []
    },
    {
      "cell_type": "code",
      "source": [
        "data_trans_test = data_trans.transform(forest_test)\n",
        "results = logReg_modelTest.transform(data_trans_test)\n",
        "\n",
        "print(logReg_ev.evaluate(results, {logReg_ev.metricName: 'weightedPrecision'}))\n",
        "print(logReg_ev.evaluate(results, {logReg_ev.metricName: 'weightedRecall'}))\n",
        "print(logReg_ev.evaluate(results, {logReg_ev.metricName: 'accuracy'}))"
      ],
      "metadata": {
        "colab": {
          "base_uri": "https://localhost:8080/"
        },
        "id": "b2dhtdozVIiR",
        "outputId": "09d31444-1a0d-4fc4-df1f-98e037637574"
      },
      "execution_count": 96,
      "outputs": [
        {
          "output_type": "stream",
          "name": "stdout",
          "text": [
            "0.7027422085193793\n",
            "0.7339450890428082\n",
            "0.7339450890428082\n"
          ]
        }
      ]
    },
    {
      "cell_type": "markdown",
      "source": [
        "### **Train-validation splitting**"
      ],
      "metadata": {
        "id": "JvRDV457uyvD"
      }
    },
    {
      "cell_type": "code",
      "source": [
        "train_v = tune.TrainValidationSplit(\n",
        "    estimator=logReg_obj\n",
        "    , estimatorParamMaps=logReg_grid\n",
        "    , evaluator=logReg_ev\n",
        "    , parallelism=4\n",
        ")\n",
        "\n",
        "logReg_modelTrainV = (\n",
        "    train_v\n",
        "    .fit(data_trans.transform(forest_train)))\n",
        "\n",
        "results = logReg_modelTrainV.transform(data_trans_test)\n",
        "\n",
        "print(logReg_ev.evaluate(results, {logReg_ev.metricName: 'weightedPrecision'}))\n",
        "print(logReg_ev.evaluate(results, {logReg_ev.metricName: 'weightedRecall'}))\n",
        "print(logReg_ev.evaluate(results, {logReg_ev.metricName: 'accuracy'}))"
      ],
      "metadata": {
        "colab": {
          "base_uri": "https://localhost:8080/"
        },
        "id": "LR_QGdTKXv_f",
        "outputId": "2f2eb0eb-8dfd-49bf-d7fa-87316bf07f17"
      },
      "execution_count": 98,
      "outputs": [
        {
          "output_type": "stream",
          "name": "stdout",
          "text": [
            "0.7027422085193793\n",
            "0.7339450890428082\n",
            "0.7339450890428082\n"
          ]
        }
      ]
    },
    {
      "cell_type": "markdown",
      "source": [
        "### **Feature engineering - NLP**"
      ],
      "metadata": {
        "id": "Odi9M_oavKw8"
      }
    },
    {
      "cell_type": "code",
      "source": [
        "some_text = spark.createDataFrame([\n",
        "    ['''\n",
        "    Apache Spark achieves high performance for both batch\n",
        "    and streaming data, using a state-of-the-art DAG scheduler,\n",
        "    a query optimizer, and a physical execution engine.\n",
        "    ''']\n",
        "    , ['''\n",
        "    Apache Spark is a fast and general-purpose cluster computing\n",
        "    system. It provides high-level APIs in Java, Scala, Python\n",
        "    and R, and an optimized engine that supports general execution\n",
        "    graphs. It also supports a rich set of higher-level tools including\n",
        "    Spark SQL for SQL and structured data processing, MLlib for machine\n",
        "    learning, GraphX for graph processing, and Spark Streaming.\n",
        "    ''']\n",
        "    , ['''\n",
        "    Machine learning is a field of computer science that often uses\n",
        "    statistical techniques to give computers the ability to \"learn\"\n",
        "    (i.e., progressively improve performance on a specific task)\n",
        "    with data, without being explicitly programmed.\n",
        "    ''']\n",
        "], ['text'])"
      ],
      "metadata": {
        "id": "bDel2VGegQFM"
      },
      "execution_count": 99,
      "outputs": []
    },
    {
      "cell_type": "markdown",
      "source": [
        "+ **Tokenizer**"
      ],
      "metadata": {
        "id": "FLPhlz7GWXz3"
      }
    },
    {
      "cell_type": "code",
      "source": [
        "splitter = feat.RegexTokenizer(\n",
        "    inputCol='text'\n",
        "    , outputCol='text_split'\n",
        "    , pattern='\\s+|[,.\\\"]'\n",
        ")\n",
        "\n",
        "splitter.transform(some_text).select('text_split').take(1)"
      ],
      "metadata": {
        "id": "5AgpMqM0bd2e",
        "colab": {
          "base_uri": "https://localhost:8080/"
        },
        "outputId": "4e11301b-948e-468c-a6c9-68d217dfd685"
      },
      "execution_count": 104,
      "outputs": [
        {
          "output_type": "execute_result",
          "data": {
            "text/plain": [
              "[Row(text_split=['apache', 'spark', 'achieves', 'high', 'performance', 'for', 'both', 'batch', 'and', 'streaming', 'data', 'using', 'a', 'state-of-the-art', 'dag', 'scheduler', 'a', 'query', 'optimizer', 'and', 'a', 'physical', 'execution', 'engine'])]"
            ]
          },
          "metadata": {},
          "execution_count": 104
        }
      ]
    },
    {
      "cell_type": "markdown",
      "source": [
        "+ **Stop-words removal**"
      ],
      "metadata": {
        "id": "dvSC42PoWMIL"
      }
    },
    {
      "cell_type": "code",
      "source": [
        "sw_remover = feat.StopWordsRemover(\n",
        "    inputCol=splitter.getOutputCol()\n",
        "    , outputCol='no_stopWords'\n",
        ")\n",
        "\n",
        "sw_remover.transform(splitter.transform(some_text)).select('no_stopWords').take(1)"
      ],
      "metadata": {
        "colab": {
          "base_uri": "https://localhost:8080/"
        },
        "id": "vg-Oe1hXml6S",
        "outputId": "f6636299-2e30-468f-c04f-69be49dcbab5"
      },
      "execution_count": 105,
      "outputs": [
        {
          "output_type": "execute_result",
          "data": {
            "text/plain": [
              "[Row(no_stopWords=['apache', 'spark', 'achieves', 'high', 'performance', 'batch', 'streaming', 'data', 'using', 'state-of-the-art', 'dag', 'scheduler', 'query', 'optimizer', 'physical', 'execution', 'engine'])]"
            ]
          },
          "metadata": {},
          "execution_count": 105
        }
      ]
    },
    {
      "cell_type": "markdown",
      "source": [
        "+ **Hashing trick**"
      ],
      "metadata": {
        "id": "LXeiMj4PWs8o"
      }
    },
    {
      "cell_type": "code",
      "source": [
        "hasher = feat.HashingTF(\n",
        "    inputCol=sw_remover.getOutputCol()\n",
        "    , outputCol='hashed'\n",
        "    , numFeatures=20\n",
        ")\n",
        "\n",
        "hasher.transform(sw_remover.transform(splitter.transform(some_text))).select('hashed').take(1)"
      ],
      "metadata": {
        "colab": {
          "base_uri": "https://localhost:8080/"
        },
        "id": "xy9te4AJmpXS",
        "outputId": "f8db3ad5-fc7d-4f71-f577-8820fdfcefa9"
      },
      "execution_count": 107,
      "outputs": [
        {
          "output_type": "execute_result",
          "data": {
            "text/plain": [
              "[Row(hashed=SparseVector(20, {0: 1.0, 2: 1.0, 3: 1.0, 6: 1.0, 8: 2.0, 9: 1.0, 11: 1.0, 12: 1.0, 13: 1.0, 15: 2.0, 16: 2.0, 17: 2.0, 18: 1.0}))]"
            ]
          },
          "metadata": {},
          "execution_count": 107
        }
      ]
    },
    {
      "cell_type": "markdown",
      "source": [
        "### **Term Frequency-Inverse Document Frequency**"
      ],
      "metadata": {
        "id": "Q9SUbARsW0Gb"
      }
    },
    {
      "cell_type": "code",
      "source": [
        "idf = feat.IDF(\n",
        "    inputCol=hasher.getOutputCol()\n",
        "    , outputCol='features'\n",
        ")\n",
        "\n",
        "idfModel = idf.fit(hasher.transform(sw_remover.transform(splitter.transform(some_text))))\n",
        "idfModel.transform(hasher.transform(sw_remover.transform(splitter.transform(some_text)))).select('features').take(1)"
      ],
      "metadata": {
        "colab": {
          "base_uri": "https://localhost:8080/"
        },
        "id": "ufmO4_UKoGzM",
        "outputId": "47945647-cb26-4737-e0f8-7f9962fc0169"
      },
      "execution_count": 108,
      "outputs": [
        {
          "output_type": "execute_result",
          "data": {
            "text/plain": [
              "[Row(features=SparseVector(20, {0: 0.0, 2: 0.2877, 3: 0.0, 6: 0.2877, 8: 0.0, 9: 0.2877, 11: 0.2877, 12: 0.0, 13: 0.0, 15: 0.0, 16: 0.0, 17: 1.3863, 18: 0.6931}))]"
            ]
          },
          "metadata": {},
          "execution_count": 108
        }
      ]
    },
    {
      "cell_type": "code",
      "source": [
        "pipeline = Pipeline(stages=[splitter, sw_remover, hasher, idf])\n",
        "\n",
        "pipelineModel = pipeline.fit(some_text)\n",
        "pipelineModel.transform(some_text).select('text','features').take(1)"
      ],
      "metadata": {
        "colab": {
          "base_uri": "https://localhost:8080/"
        },
        "id": "zubLomZUm1dc",
        "outputId": "7c343d95-eb91-46c3-e235-5499b0b8a6e5"
      },
      "execution_count": 109,
      "outputs": [
        {
          "output_type": "execute_result",
          "data": {
            "text/plain": [
              "[Row(text='\\n    Apache Spark achieves high performance for both batch\\n    and streaming data, using a state-of-the-art DAG scheduler, \\n    a query optimizer, and a physical execution engine.\\n    ', features=SparseVector(20, {0: 0.0, 2: 0.2877, 3: 0.0, 6: 0.2877, 8: 0.0, 9: 0.2877, 11: 0.2877, 12: 0.0, 13: 0.0, 15: 0.0, 16: 0.0, 17: 1.3863, 18: 0.6931}))]"
            ]
          },
          "metadata": {},
          "execution_count": 109
        }
      ]
    },
    {
      "cell_type": "markdown",
      "source": [
        "### **Word-2-Vec model**"
      ],
      "metadata": {
        "id": "LEbBThWtXKl-"
      }
    },
    {
      "cell_type": "code",
      "source": [
        "w2v = feat.Word2Vec(\n",
        "    vectorSize=5\n",
        "    , minCount=2\n",
        "    , inputCol=sw_remover.getOutputCol()\n",
        "    , outputCol='vector'\n",
        ")\n",
        "\n",
        "model=w2v.fit(sw_remover.transform(splitter.transform(some_text)))\n",
        "model.transform(sw_remover.transform(splitter.transform(some_text))).select('vector').take(1)"
      ],
      "metadata": {
        "colab": {
          "base_uri": "https://localhost:8080/"
        },
        "id": "cEyROADrNmdv",
        "outputId": "48e59d34-dcdb-44d1-ad5f-f78e242e1c0b"
      },
      "execution_count": 110,
      "outputs": [
        {
          "output_type": "execute_result",
          "data": {
            "text/plain": [
              "[Row(vector=DenseVector([-0.0023, 0.0041, -0.0128, 0.0043, -0.0085]))]"
            ]
          },
          "metadata": {},
          "execution_count": 110
        }
      ]
    },
    {
      "cell_type": "markdown",
      "source": [
        "### **Discretizing continuous variables**"
      ],
      "metadata": {
        "id": "JQyXhTkoXTBh"
      }
    },
    {
      "cell_type": "code",
      "source": [
        "signal_df = spark.read.csv(\n",
        "    'fourier_signal.csv'\n",
        "    , header=True\n",
        "    , inferSchema=True\n",
        ")\n",
        "\n",
        "steps = feat.QuantileDiscretizer(\n",
        "       numBuckets=10,\n",
        "       inputCol='signal',\n",
        "       outputCol='discretized')\n",
        "\n",
        "transformed = (\n",
        "    steps\n",
        "    .fit(signal_df)\n",
        "    .transform(signal_df)\n",
        ")"
      ],
      "metadata": {
        "id": "27yK_L0x0kls"
      },
      "execution_count": 111,
      "outputs": []
    },
    {
      "cell_type": "code",
      "source": [
        "import matplotlib.pyplot as plt\n",
        "plt.style.use('ggplot')\n",
        "\n",
        "transformed_df = transformed.toPandas()\n",
        "\n",
        "fig, ax1 = plt.subplots(figsize=(15,12))\n",
        "ax2 = ax1.twinx()\n",
        "\n",
        "ax1.plot(transformed_df['signal'], 'k')\n",
        "ax2.plot(transformed_df['discretized'], 'b-')\n",
        "\n",
        "ax1.set_ylabel('original', color='k')\n",
        "ax2.set_ylabel('discretized', color='b')\n",
        "\n",
        "ax1.set_ylim((-55, 35))\n",
        "ax2.set_ylim((-2, 12))\n",
        "fig.tight_layout()\n",
        "\n",
        "#plt.savefig('discretized.png')\n",
        "\n",
        "#plt.close('all')\n",
        "\n",
        "plt.show()"
      ],
      "metadata": {
        "id": "KzKTw3FyonBv",
        "colab": {
          "base_uri": "https://localhost:8080/",
          "height": 1000
        },
        "outputId": "cae82764-f25d-4d1b-9c86-fba9c07af1a5"
      },
      "execution_count": 113,
      "outputs": [
        {
          "output_type": "display_data",
          "data": {
            "text/plain": [
              "<Figure size 1500x1200 with 2 Axes>"
            ],
            "image/png": "[encoded data removed]"
          },
          "metadata": {}
        }
      ]
    },
    {
      "cell_type": "markdown",
      "source": [
        "### **Standardizing continuous variables**"
      ],
      "metadata": {
        "id": "qC2QarpYX_lg"
      }
    },
    {
      "cell_type": "code",
      "source": [
        "signal_df.describe().show()"
      ],
      "metadata": {
        "colab": {
          "base_uri": "https://localhost:8080/"
        },
        "id": "J0NZna0MrB08",
        "outputId": "97520532-4ce0-4953-d131-42ec2b46e630"
      },
      "execution_count": 114,
      "outputs": [
        {
          "output_type": "stream",
          "name": "stdout",
          "text": [
            "+-------+--------------------+\n",
            "|summary|              signal|\n",
            "+-------+--------------------+\n",
            "|  count|                 256|\n",
            "|   mean|-5.59448321002520...|\n",
            "| stddev|   8.056325329550202|\n",
            "|    min|    -39.878842775021|\n",
            "|    max|  15.718058116309553|\n",
            "+-------+--------------------+\n",
            "\n"
          ]
        }
      ]
    },
    {
      "cell_type": "code",
      "source": [
        "from pyspark.ml import Pipeline\n",
        "vec = feat.VectorAssembler(\n",
        "    inputCols=['signal']\n",
        "    , outputCol='signal_vec'\n",
        ")\n",
        "\n",
        "norm = feat.StandardScaler(\n",
        "    inputCol=vec.getOutputCol()\n",
        "    , outputCol='signal_norm'\n",
        "    , withMean=True\n",
        "    , withStd=True\n",
        ")\n",
        "\n",
        "norm_pipeline = Pipeline(stages=[vec, norm])\n",
        "signal_norm = (\n",
        "    norm_pipeline\n",
        "    .fit(signal_df)\n",
        "    .transform(signal_df)\n",
        ")\n",
        "\n",
        "signal_norm.take(1)"
      ],
      "metadata": {
        "colab": {
          "base_uri": "https://localhost:8080/"
        },
        "id": "3-HS-1_5YG45",
        "outputId": "8ca7c3d8-b615-4772-e0bf-c37e456b3d18"
      },
      "execution_count": 115,
      "outputs": [
        {
          "output_type": "execute_result",
          "data": {
            "text/plain": [
              "[Row(signal=0.5233399378711634, signal_vec=DenseVector([0.5233]), signal_norm=DenseVector([0.065]))]"
            ]
          },
          "metadata": {},
          "execution_count": 115
        }
      ]
    },
    {
      "cell_type": "code",
      "source": [
        "normalized_df = signal_norm.toPandas()\n",
        "normalized_df['normalized'] = normalized_df.apply(lambda row: row[2][0], axis=1)\n",
        "\n",
        "fig, ax1 = plt.subplots(figsize=(15,12))\n",
        "ax2 = ax1.twinx()\n",
        "\n",
        "ax1.plot(normalized_df['signal'], 'k')\n",
        "ax2.plot(normalized_df['normalized'], 'b-')\n",
        "\n",
        "ax1.set_ylabel('original', color='k')\n",
        "ax2.set_ylabel('discretized', color='b')\n",
        "\n",
        "ax1.set_ylim((-105, 30))\n",
        "ax2.set_ylim((-6, 12))\n",
        "fig.tight_layout()\n",
        "\n",
        "#plt.savefig('normalized.png')\n",
        "\n",
        "#plt.close('all')\n",
        "\n",
        "plt.show()"
      ],
      "metadata": {
        "colab": {
          "base_uri": "https://localhost:8080/",
          "height": 1000
        },
        "id": "W_a8eReYYHEi",
        "outputId": "2ce6a098-b3c0-4c2f-ff0a-25c11afb865a"
      },
      "execution_count": 116,
      "outputs": [
        {
          "output_type": "display_data",
          "data": {
            "text/plain": [
              "<Figure size 1500x1200 with 2 Axes>"
            ],
            "image/png": "[encoded data removed]"
          },
          "metadata": {}
        }
      ]
    },
    {
      "cell_type": "markdown",
      "source": [
        "### **Topic mining**"
      ],
      "metadata": {
        "id": "xL-2_XM62jXL"
      }
    },
    {
      "cell_type": "code",
      "source": [
        "articles = spark.createDataFrame([\n",
        "    ('''\n",
        "        The Andromeda Galaxy, named after the mythological\n",
        "        Princess Andromeda, also known as Messier 31, M31,\n",
        "        or NGC 224, is a spiral galaxy approximately 780\n",
        "        kiloparsecs (2.5 million light-years) from Earth,\n",
        "        and the nearest major galaxy to the Milky Way.\n",
        "        Its name stems from the area of the sky in which it\n",
        "        appears, the constellation of Andromeda. The 2006\n",
        "        observations by the Spitzer Space Telescope revealed\n",
        "        that the Andromeda Galaxy contains approximately one\n",
        "        trillion stars, more than twice the number of the\n",
        "        Milky Way’s estimated 200-400 billion stars. The\n",
        "        Andromeda Galaxy, spanning approximately 220,000 light\n",
        "        years, is the largest galaxy in our Local Group,\n",
        "        which is also home to the Triangulum Galaxy and\n",
        "        other minor galaxies. The Andromeda Galaxy's mass is\n",
        "        estimated to be around 1.76 times that of the Milky\n",
        "        Way Galaxy (~0.8-1.5×1012 solar masses vs the Milky\n",
        "        Way's 8.5×1011 solar masses).\n",
        "    ''','Galaxy', 'Andromeda')\n",
        "    , ('''\n",
        "        The Milky Way is the galaxy that contains our Solar\n",
        "        System. The descriptive \"milky\" is derived from the\n",
        "        appearance from Earth of the galaxy – a band of light\n",
        "        seen in the night sky formed from stars that cannot be\n",
        "        individually distinguished by the naked eye. The term\n",
        "        Milky Way is a translation of the Latin via lactea, from\n",
        "        the Greek. From Earth, the Milky Way appears as a band\n",
        "        because its disk-shaped structure is viewed from within.\n",
        "        Galileo Galilei first resolved the band of light into\n",
        "        individual stars with his telescope in 1610. Observations\n",
        "        by Edwin Hubble showed that the Milky\n",
        "        Way is just one of many galaxies.\n",
        "    ''','Galaxy','Milky Way')\n",
        "    , ('''\n",
        "        Australia, officially the Commonwealth of Australia,\n",
        "        is a sovereign country comprising the mainland of the\n",
        "        Australian continent, the island of Tasmania and numerous\n",
        "        smaller islands. It is the largest country in Oceania and\n",
        "        the world's sixth-largest country by total area. The\n",
        "        neighbouring countries are Papua New Guinea, Indonesia and\n",
        "        East Timor to the north; the Solomon Islands and Vanuatu to\n",
        "        the north-east; and New Zealand to the south-east. Australia's\n",
        "        capital is Canberra, and its largest city is Sydney.\n",
        "    ''','Geography', 'Australia')\n",
        "    , ('''\n",
        "        The United States of America (USA), commonly known as the United\n",
        "        States (U.S.) or America, is a federal republic composed of 50\n",
        "        states, a federal district, five major self-governing territories,\n",
        "        and various possessions. At 3.8 million square miles (9.8 million\n",
        "        km2) and with over 325 million people, the United States is the\n",
        "        world's third- or fourth-largest country by total area and the\n",
        "        third-most populous country. The capital is Washington, D.C., and\n",
        "        the largest city by population is New York City. Forty-eight states\n",
        "        and the capital's federal district are contiguous and in North America\n",
        "        between Canada and Mexico. The State of Alaska is in the northwest\n",
        "        corner of North America, bordered by Canada to the east and across\n",
        "        the Bering Strait from Russia to the west. The State of Hawaii is\n",
        "        an archipelago in the mid-Pacific Ocean. The U.S. territories are\n",
        "        scattered about the Pacific Ocean and the Caribbean Sea, stretching\n",
        "        across nine official time zones. The extremely diverse geography,\n",
        "        climate, and wildlife of the United States make it one of the world's\n",
        "        17 megadiverse countries.\n",
        "    ''','Geography', 'USA')\n",
        "    , ('''\n",
        "        China, officially the People's Republic of China (PRC), is a unitary\n",
        "        sovereign state in East Asia and, with a population of around 1.404\n",
        "        billion, the world's most populous country. Covering 9,600,000\n",
        "        square kilometers (3,700,000 sq mi), China has the most borders of\n",
        "        any country in the world. Governed by the Communist Party of China,\n",
        "        it exercises jurisdiction over 22 provinces, five autonomous regions,\n",
        "        four direct-controlled municipalities (Beijing, Tianjin, Shanghai, and\n",
        "        Chongqing), and the special administrative regions of Hong Kong and Macau.\n",
        "    ''','Geography', 'China')\n",
        "    , ('''\n",
        "        Poland, officially the Republic of Poland, is a country located in\n",
        "        Central Europe. It is divided into 16 administrative subdivisions,\n",
        "        covering an area of 312,679 square kilometres (120,726 sq mi), and has\n",
        "        a largely temperate seasonal climate. With a population of approximately\n",
        "        38.5 million people, Poland is the sixth most populous member state of\n",
        "        the European Union. Poland's capital and largest metropolis is\n",
        "        Warsaw.\n",
        "    ''','Geography', 'Poland')\n",
        "    , ('''\n",
        "        The domestic dog (Canis lupus familiaris when considered a subspecies\n",
        "        of the gray wolf or Canis familiaris when considered a distinct species)\n",
        "        is a member of the genus Canis (canines), which forms part of the\n",
        "        wolf-like canids, and is the most widely abundant terrestrial carnivore.\n",
        "        The dog and the extant gray wolf are sister taxa as modern wolves are\n",
        "        not closely related to the wolves that were first domesticated, which\n",
        "        implies that the direct ancestor of the dog is extinct. The dog was\n",
        "        the first species to be domesticated and has been selectively bred over\n",
        "        millennia for various behaviors, sensory capabilities, and physical attributes.\n",
        "    ''','Animal', 'Dog')\n",
        "    , ('''\n",
        "        The origin of the domestic dog is not clear. It is known that the dog was\n",
        "        the first domesticated species. The domestic dog is a member of the genus\n",
        "        Canis (canines), which forms part of the wolf-like canids, and is the most\n",
        "        widely abundant terrestrial carnivore. The closest living relative of the\n",
        "        dog is the gray wolf and there is no evidence of any other canine\n",
        "        contributing to its genetic lineage. The dog and the extant gray wolf\n",
        "        form two sister clades, with modern wolves not closely related to the\n",
        "        wolves that were first domesticated. The archaeological record shows\n",
        "        the first undisputed dog remains buried beside humans 14,700 years ago,\n",
        "        with disputed remains occurring 36,000 years ago. These dates imply\n",
        "        that the earliest dogs arose in the time of human hunter-gatherers\n",
        "        and not agriculturists.\n",
        "    ''','Animal', 'Dog')\n",
        "    , ('''\n",
        "        Washington, officially the State of Washington, is a state in the Pacific\n",
        "        Northwest region of the United States. Named after George Washington,\n",
        "        the first president of the United States, the state was made out of the\n",
        "        western part of the Washington Territory, which was ceded by Britain in\n",
        "        1846 in accordance with the Oregon Treaty in the settlement of the\n",
        "        Oregon boundary dispute. It was admitted to the Union as the 42nd state\n",
        "        in 1889. Olympia is the state capital. Washington is sometimes referred\n",
        "        to as Washington State, to distinguish it from Washington, D.C., the\n",
        "        capital of the United States, which is often shortened to Washington.\n",
        "    ''','Geography', 'Washington State')\n",
        "], ['articles', 'Topic', 'Object'])"
      ],
      "metadata": {
        "id": "oT7-5W4K2puB"
      },
      "execution_count": 117,
      "outputs": []
    },
    {
      "cell_type": "code",
      "source": [
        "import pyspark.ml.clustering as clust\n",
        "\n",
        "splitter = feat.RegexTokenizer(\n",
        "    inputCol='articles'\n",
        "    , outputCol='articles_split'\n",
        "    , pattern='\\s+|[,.\\\"]'\n",
        ")\n",
        "\n",
        "sw_remover = feat.StopWordsRemover(\n",
        "    inputCol=splitter.getOutputCol()\n",
        "    , outputCol='no_stopWords'\n",
        ")\n",
        "\n",
        "count_vec = feat.CountVectorizer(\n",
        "    inputCol=sw_remover.getOutputCol()\n",
        "    , outputCol='vector'\n",
        ")\n",
        "\n",
        "lda_clusters = clust.LDA(\n",
        "    k=3\n",
        "    , optimizer='online'\n",
        "    , featuresCol=count_vec.getOutputCol()\n",
        ")\n",
        "\n",
        "topic_pipeline = Pipeline(\n",
        "    stages=[\n",
        "        splitter\n",
        "        , sw_remover\n",
        "        , count_vec\n",
        "        , lda_clusters\n",
        "    ]\n",
        ")\n",
        "\n",
        "for topic in (\n",
        "        topic_pipeline\n",
        "        .fit(articles)\n",
        "        .transform(articles)\n",
        "        .select('Topic','Object','topicDistribution')\n",
        "        .take(10)\n",
        "):\n",
        "    print(\n",
        "        topic.Topic\n",
        "        , topic.Object\n",
        "        , np.argmax(topic.topicDistribution)\n",
        "        , topic.topicDistribution\n",
        "    )\n"
      ],
      "metadata": {
        "colab": {
          "base_uri": "https://localhost:8080/"
        },
        "id": "tb0ECiQ04NuV",
        "outputId": "0b631a28-59cf-4e6e-d1c7-eb07de9e7962"
      },
      "execution_count": 118,
      "outputs": [
        {
          "output_type": "stream",
          "name": "stdout",
          "text": [
            "Galaxy Andromeda 2 [0.0023955334315973647,0.002619600290659077,0.9949848662777435]\n",
            "Galaxy Milky Way 2 [0.003858094738729304,0.004175636024978901,0.9919662692362917]\n",
            "Geography Australia 1 [0.005171489600950293,0.9888997473232867,0.005928763075763091]\n",
            "Geography USA 1 [0.0020994516190887447,0.9954960725876282,0.0024044757932830756]\n",
            "Geography China 1 [0.004036292363818158,0.9913585889085998,0.004605118727581911]\n",
            "Geography Poland 1 [0.005301949560087051,0.9886178348036716,0.006080215636241321]\n",
            "Animal Dog 0 [0.9908288960657207,0.004468361578146595,0.004702742356132706]\n",
            "Animal Dog 0 [0.9934711903683053,0.00318276665471943,0.0033460429769752646]\n",
            "Geography Washington State 1 [0.004236203407045512,0.9909048252252579,0.0048589713676964645]\n"
          ]
        }
      ]
    }
  ]
}