{
  "nbformat": 4,
  "nbformat_minor": 0,
  "metadata": {
    "colab": {
      "provenance": []
    },
    "kernelspec": {
      "name": "python3",
      "display_name": "Python 3"
    },
    "language_info": {
      "name": "python"
    }
  },
  "cells": [
    {
      "cell_type": "markdown",
      "source": [
        "### **Mise En Garde: Certaines méthodes sont exploitables en fonction de la version de Python que vous ustilisez**"
      ],
      "metadata": {
        "id": "K4r2Lboba8ns"
      }
    },
    {
      "cell_type": "code",
      "execution_count": null,
      "metadata": {
        "id": "EpDtSHaLQ_aB"
      },
      "outputs": [],
      "source": [
        "!pip install pyspark"
      ]
    },
    {
      "cell_type": "code",
      "source": [
        "import pyspark\n",
        "print(f\"{pyspark.__version__}\")"
      ],
      "metadata": {
        "colab": {
          "base_uri": "https://localhost:8080/"
        },
        "id": "9SG-QOW7Rszk",
        "outputId": "24e9a549-9915-4162-d87b-e00d69f3f3d4"
      },
      "execution_count": 2,
      "outputs": [
        {
          "output_type": "stream",
          "name": "stdout",
          "text": [
            "3.5.0\n"
          ]
        }
      ]
    },
    {
      "cell_type": "code",
      "source": [
        "import os\n",
        "os.listdir(os.getcwd())"
      ],
      "metadata": {
        "colab": {
          "base_uri": "https://localhost:8080/"
        },
        "id": "mpjcWW7slRvc",
        "outputId": "ff67e679-0247-4d0e-b106-c0ba56facc4a"
      },
      "execution_count": 3,
      "outputs": [
        {
          "output_type": "execute_result",
          "data": {
            "text/plain": [
              "['.config', 'census_income.csv', 'sample_data']"
            ]
          },
          "metadata": {},
          "execution_count": 3
        }
      ]
    },
    {
      "cell_type": "markdown",
      "source": [
        "### **Point d'entrée : SparkContext**"
      ],
      "metadata": {
        "id": "IdTZ6rUGSCz9"
      }
    },
    {
      "cell_type": "code",
      "source": [
        "sc = pyspark.SparkContext()\n",
        "\n",
        "# Verifier si SparkContext est valide\n",
        "print(sc)"
      ],
      "metadata": {
        "colab": {
          "base_uri": "https://localhost:8080/"
        },
        "id": "flxAK3V6SWv0",
        "outputId": "4454b592-63f9-4d8e-e252-bada81bf75a3"
      },
      "execution_count": 4,
      "outputs": [
        {
          "output_type": "stream",
          "name": "stdout",
          "text": [
            "<SparkContext master=local[*] appName=pyspark-shell>\n"
          ]
        }
      ]
    },
    {
      "cell_type": "code",
      "source": [
        "# Check the version of SparkContext in PySpark Shell\n",
        "print(\"La version de Spark Context dans PySpark Shell est : \", sc.version)\n",
        "\n",
        "# Display the Python version of SparkContext\n",
        "print(\"La version Python de Spark Context dans PySpark Shell est : \", sc.pythonVer)\n",
        "\n",
        "# Display the master of SparkContext\n",
        "print(\"Le maitre de Spark Context dans PySpark Shell est : \", sc.master)"
      ],
      "metadata": {
        "colab": {
          "base_uri": "https://localhost:8080/"
        },
        "id": "rnqToQ8dR_kh",
        "outputId": "1d8d9ad8-57eb-44d7-95d4-a852d35b5bf2"
      },
      "execution_count": 5,
      "outputs": [
        {
          "output_type": "stream",
          "name": "stdout",
          "text": [
            "La version de Spark Context dans PySpark Shell est :  3.5.0\n",
            "La version Python de Spark Context dans PySpark Shell est :  3.10\n",
            "Le maitre de Spark Context dans PySpark Shell est :  local[*]\n"
          ]
        }
      ]
    },
    {
      "cell_type": "markdown",
      "source": [
        "### **Loading Data**"
      ],
      "metadata": {
        "id": "rMcJlKc8Ttnq"
      }
    },
    {
      "cell_type": "code",
      "source": [
        "from pyspark.sql.session import SparkSession\n",
        "spark = SparkSession(sc)"
      ],
      "metadata": {
        "id": "GaTvbfT03lnm"
      },
      "execution_count": 6,
      "outputs": []
    },
    {
      "cell_type": "code",
      "source": [
        "census_path = 'census_income.csv'\n",
        "\n",
        "census = spark.read.csv(census_path, header=True, inferSchema=True)"
      ],
      "metadata": {
        "id": "O_1cXodgTs5d"
      },
      "execution_count": 7,
      "outputs": []
    },
    {
      "cell_type": "code",
      "source": [
        "import pyspark.sql.functions as func\n",
        "\n",
        "for col, typ in census.dtypes:\n",
        "  if typ == 'string':\n",
        "    census = census.withColumn(\n",
        "        col,\n",
        "        func.ltrim(func.rtrim(census[col]))\n",
        "    )\n",
        "census.count()"
      ],
      "metadata": {
        "colab": {
          "base_uri": "https://localhost:8080/"
        },
        "id": "vSUU4A8pZ000",
        "outputId": "a6842ce9-4fe6-47af-de1d-63e483c1a187"
      },
      "execution_count": 8,
      "outputs": [
        {
          "output_type": "execute_result",
          "data": {
            "text/plain": [
              "32561"
            ]
          },
          "metadata": {},
          "execution_count": 8
        }
      ]
    },
    {
      "cell_type": "code",
      "source": [
        "census.show()"
      ],
      "metadata": {
        "colab": {
          "base_uri": "https://localhost:8080/"
        },
        "id": "zDaKxAiIabMK",
        "outputId": "6243b37d-34d6-49b9-9a72-85cc8a2cc88f"
      },
      "execution_count": 9,
      "outputs": [
        {
          "output_type": "stream",
          "name": "stdout",
          "text": [
            "+---+----------------+------+------------+-------------+--------------------+-----------------+-------------+------------------+------+------------+------------+--------------+--------------+-----+\n",
            "|age|       workclass|fnlwgt|   education|education-num|      marital-status|       occupation| relationship|              race|   sex|capital-gain|capital-loss|hours-per-week|native-country|label|\n",
            "+---+----------------+------+------------+-------------+--------------------+-----------------+-------------+------------------+------+------------+------------+--------------+--------------+-----+\n",
            "| 39|       State-gov| 77516|   Bachelors|           13|       Never-married|     Adm-clerical|Not-in-family|             White|  Male|        2174|           0|            40| United-States|<=50K|\n",
            "| 50|Self-emp-not-inc| 83311|   Bachelors|           13|  Married-civ-spouse|  Exec-managerial|      Husband|             White|  Male|           0|           0|            13| United-States|<=50K|\n",
            "| 38|         Private|215646|     HS-grad|            9|            Divorced|Handlers-cleaners|Not-in-family|             White|  Male|           0|           0|            40| United-States|<=50K|\n",
            "| 53|         Private|234721|        11th|            7|  Married-civ-spouse|Handlers-cleaners|      Husband|             Black|  Male|           0|           0|            40| United-States|<=50K|\n",
            "| 28|         Private|338409|   Bachelors|           13|  Married-civ-spouse|   Prof-specialty|         Wife|             Black|Female|           0|           0|            40|          Cuba|<=50K|\n",
            "| 37|         Private|284582|     Masters|           14|  Married-civ-spouse|  Exec-managerial|         Wife|             White|Female|           0|           0|            40| United-States|<=50K|\n",
            "| 49|         Private|160187|         9th|            5|Married-spouse-ab...|    Other-service|Not-in-family|             Black|Female|           0|           0|            16|       Jamaica|<=50K|\n",
            "| 52|Self-emp-not-inc|209642|     HS-grad|            9|  Married-civ-spouse|  Exec-managerial|      Husband|             White|  Male|           0|           0|            45| United-States| >50K|\n",
            "| 31|         Private| 45781|     Masters|           14|       Never-married|   Prof-specialty|Not-in-family|             White|Female|       14084|           0|            50| United-States| >50K|\n",
            "| 42|         Private|159449|   Bachelors|           13|  Married-civ-spouse|  Exec-managerial|      Husband|             White|  Male|        5178|           0|            40| United-States| >50K|\n",
            "| 37|         Private|280464|Some-college|           10|  Married-civ-spouse|  Exec-managerial|      Husband|             Black|  Male|           0|           0|            80| United-States| >50K|\n",
            "| 30|       State-gov|141297|   Bachelors|           13|  Married-civ-spouse|   Prof-specialty|      Husband|Asian-Pac-Islander|  Male|           0|           0|            40|         India| >50K|\n",
            "| 23|         Private|122272|   Bachelors|           13|       Never-married|     Adm-clerical|    Own-child|             White|Female|           0|           0|            30| United-States|<=50K|\n",
            "| 32|         Private|205019|  Assoc-acdm|           12|       Never-married|            Sales|Not-in-family|             Black|  Male|           0|           0|            50| United-States|<=50K|\n",
            "| 40|         Private|121772|   Assoc-voc|           11|  Married-civ-spouse|     Craft-repair|      Husband|Asian-Pac-Islander|  Male|           0|           0|            40|             ?| >50K|\n",
            "| 34|         Private|245487|     7th-8th|            4|  Married-civ-spouse| Transport-moving|      Husband|Amer-Indian-Eskimo|  Male|           0|           0|            45|        Mexico|<=50K|\n",
            "| 25|Self-emp-not-inc|176756|     HS-grad|            9|       Never-married|  Farming-fishing|    Own-child|             White|  Male|           0|           0|            35| United-States|<=50K|\n",
            "| 32|         Private|186824|     HS-grad|            9|       Never-married|Machine-op-inspct|    Unmarried|             White|  Male|           0|           0|            40| United-States|<=50K|\n",
            "| 38|         Private| 28887|        11th|            7|  Married-civ-spouse|            Sales|      Husband|             White|  Male|           0|           0|            50| United-States|<=50K|\n",
            "| 43|Self-emp-not-inc|292175|     Masters|           14|            Divorced|  Exec-managerial|    Unmarried|             White|Female|           0|           0|            45| United-States| >50K|\n",
            "+---+----------------+------+------------+-------------+--------------------+-----------------+-------------+------------------+------+------------+------------+--------------+--------------+-----+\n",
            "only showing top 20 rows\n",
            "\n"
          ]
        }
      ]
    },
    {
      "cell_type": "code",
      "source": [
        "census.printSchema()"
      ],
      "metadata": {
        "colab": {
          "base_uri": "https://localhost:8080/"
        },
        "id": "LYDF7kiHadRz",
        "outputId": "dd38a90e-20f7-46c1-8294-2d40f5c8b778"
      },
      "execution_count": 10,
      "outputs": [
        {
          "output_type": "stream",
          "name": "stdout",
          "text": [
            "root\n",
            " |-- age: integer (nullable = true)\n",
            " |-- workclass: string (nullable = true)\n",
            " |-- fnlwgt: integer (nullable = true)\n",
            " |-- education: string (nullable = true)\n",
            " |-- education-num: integer (nullable = true)\n",
            " |-- marital-status: string (nullable = true)\n",
            " |-- occupation: string (nullable = true)\n",
            " |-- relationship: string (nullable = true)\n",
            " |-- race: string (nullable = true)\n",
            " |-- sex: string (nullable = true)\n",
            " |-- capital-gain: integer (nullable = true)\n",
            " |-- capital-loss: integer (nullable = true)\n",
            " |-- hours-per-week: integer (nullable = true)\n",
            " |-- native-country: string (nullable = true)\n",
            " |-- label: string (nullable = true)\n",
            "\n"
          ]
        }
      ]
    },
    {
      "cell_type": "markdown",
      "source": [
        "## **Exploring Data**\n",
        "\n",
        "### **Data prep**\n",
        "\n"
      ],
      "metadata": {
        "id": "HcTzEvtPNXfO"
      }
    },
    {
      "cell_type": "markdown",
      "source": [
        "+ **List of columns to keep**"
      ],
      "metadata": {
        "id": "IIuhQLnbcELN"
      }
    },
    {
      "cell_type": "code",
      "source": [
        "cols_to_keeps = census.dtypes\n",
        "\n",
        "cols_to_keeps = (\n",
        "    ['label', 'age'\n",
        "    ,'capital-gain'\n",
        "    ,'capital-loss'\n",
        "    ,'hours-per-week'\n",
        "    ] + [\n",
        "        e[0] for e in cols_to_keeps[:-1]\n",
        "        if e[1] == 'string'\n",
        "    ]\n",
        ")\n",
        "\n",
        "cols_to_keeps"
      ],
      "metadata": {
        "colab": {
          "base_uri": "https://localhost:8080/"
        },
        "id": "zB0nM2FANzeQ",
        "outputId": "a662165e-2fb3-4e05-be52-523662844beb"
      },
      "execution_count": 11,
      "outputs": [
        {
          "output_type": "execute_result",
          "data": {
            "text/plain": [
              "['label',\n",
              " 'age',\n",
              " 'capital-gain',\n",
              " 'capital-loss',\n",
              " 'hours-per-week',\n",
              " 'workclass',\n",
              " 'education',\n",
              " 'marital-status',\n",
              " 'occupation',\n",
              " 'relationship',\n",
              " 'race',\n",
              " 'sex',\n",
              " 'native-country']"
            ]
          },
          "metadata": {},
          "execution_count": 11
        }
      ]
    },
    {
      "cell_type": "markdown",
      "source": [
        "+ **Get numeric and categorical columns**"
      ],
      "metadata": {
        "id": "3kyUd0_icGx0"
      }
    },
    {
      "cell_type": "code",
      "source": [
        "import pyspark.mllib.stat as st\n",
        "import numpy as np\n",
        "\n",
        "census_subset = census.select(cols_to_keeps)\n",
        "\n",
        "cols_num = [\n",
        "    e[0] for e in census_subset.dtypes\n",
        "    if e[1] == 'int'\n",
        "]\n",
        "\n",
        "cols_cat = [\n",
        "    e[0] for e in census_subset.dtypes[1:]\n",
        "    if e[1] == 'string'\n",
        "]\n",
        "\n",
        "cols_num, cols_cat"
      ],
      "metadata": {
        "colab": {
          "base_uri": "https://localhost:8080/"
        },
        "id": "S-W2X6VXUJTV",
        "outputId": "63a102c0-0735-4bdc-c36f-83c58f5b5ecf"
      },
      "execution_count": 12,
      "outputs": [
        {
          "output_type": "execute_result",
          "data": {
            "text/plain": [
              "(['age', 'capital-gain', 'capital-loss', 'hours-per-week'],\n",
              " ['workclass',\n",
              "  'education',\n",
              "  'marital-status',\n",
              "  'occupation',\n",
              "  'relationship',\n",
              "  'race',\n",
              "  'sex',\n",
              "  'native-country'])"
            ]
          },
          "metadata": {},
          "execution_count": 12
        }
      ]
    },
    {
      "cell_type": "markdown",
      "source": [
        "### **Numerical Data**"
      ],
      "metadata": {
        "id": "YbxkNzYSKI3t"
      }
    },
    {
      "cell_type": "code",
      "source": [
        "rdd_num = (\n",
        "    census_subset\n",
        "    .select(cols_num)\n",
        "    .rdd\n",
        "    .map(lambda row: [e for e in row])\n",
        ")\n",
        "\n",
        "stats_num = st.Statistics.colStats(rdd_num)"
      ],
      "metadata": {
        "id": "JRpWn-RvKHyj"
      },
      "execution_count": 13,
      "outputs": []
    },
    {
      "cell_type": "code",
      "source": [
        "for col, min_, mean_, max_, var_ in zip(\n",
        "    cols_num,\n",
        "    stats_num.min(),\n",
        "    stats_num.max(),\n",
        "    stats_num.max(),\n",
        "    stats_num.variance()\n",
        "):\n",
        "  print('{0}: min -> {1:.1f}, mean -> {2:.1f}, max -> {3:.1f}, stdev -> {4:.1f}'\n",
        "        .format(col, min_, mean_, max_, np.sqrt(var_)))"
      ],
      "metadata": {
        "colab": {
          "base_uri": "https://localhost:8080/"
        },
        "id": "SxpjpILnOdbY",
        "outputId": "6738f6b7-35ab-421b-f7dd-358e019a9e99"
      },
      "execution_count": 14,
      "outputs": [
        {
          "output_type": "stream",
          "name": "stdout",
          "text": [
            "age: min -> 17.0, mean -> 90.0, max -> 90.0, stdev -> 13.6\n",
            "capital-gain: min -> 0.0, mean -> 99999.0, max -> 99999.0, stdev -> 7385.3\n",
            "capital-loss: min -> 0.0, mean -> 4356.0, max -> 4356.0, stdev -> 403.0\n",
            "hours-per-week: min -> 1.0, mean -> 99.0, max -> 99.0, stdev -> 12.3\n"
          ]
        }
      ]
    },
    {
      "cell_type": "markdown",
      "source": [
        "### **Categorical Data**"
      ],
      "metadata": {
        "id": "B8RaQ9b9gRJC"
      }
    },
    {
      "cell_type": "code",
      "source": [
        "rdd_cat = (\n",
        "    census_subset\n",
        "    .select(cols_cat + ['label'])\n",
        "    .rdd\n",
        "    .map(lambda row: [e for e in row])\n",
        ")\n",
        "\n",
        "results_cat = {}\n",
        "\n",
        "for i, col in enumerate(cols_cat + ['label']):\n",
        "  results_cat[col]= (\n",
        "      rdd_cat\n",
        "      .groupBy(lambda row: row[i])\n",
        "      .map(lambda e1: (e1[0], len(e1[1])))\n",
        "      .collect()\n",
        "  )\n",
        "\n",
        "for k in results_cat:\n",
        "  print(\n",
        "      k,\n",
        "      sorted(\n",
        "          results_cat[k],\n",
        "          key = lambda e1: e1[1],\n",
        "          reverse = True),\n",
        "          '\\n'\n",
        "  )"
      ],
      "metadata": {
        "colab": {
          "base_uri": "https://localhost:8080/"
        },
        "id": "-PZXuCMXOhnJ",
        "outputId": "294cae24-3ca5-4f39-a78b-de8d2691841a"
      },
      "execution_count": 15,
      "outputs": [
        {
          "output_type": "stream",
          "name": "stdout",
          "text": [
            "workclass [('Private', 22696), ('Self-emp-not-inc', 2541), ('Local-gov', 2093), ('?', 1836), ('State-gov', 1298), ('Self-emp-inc', 1116), ('Federal-gov', 960), ('Without-pay', 14), ('Never-worked', 7)] \n",
            "\n",
            "education [('HS-grad', 10501), ('Some-college', 7291), ('Bachelors', 5355), ('Masters', 1723), ('Assoc-voc', 1382), ('11th', 1175), ('Assoc-acdm', 1067), ('10th', 933), ('7th-8th', 646), ('Prof-school', 576), ('9th', 514), ('12th', 433), ('Doctorate', 413), ('5th-6th', 333), ('1st-4th', 168), ('Preschool', 51)] \n",
            "\n",
            "marital-status [('Married-civ-spouse', 14976), ('Never-married', 10683), ('Divorced', 4443), ('Separated', 1025), ('Widowed', 993), ('Married-spouse-absent', 418), ('Married-AF-spouse', 23)] \n",
            "\n",
            "occupation [('Prof-specialty', 4140), ('Craft-repair', 4099), ('Exec-managerial', 4066), ('Adm-clerical', 3770), ('Sales', 3650), ('Other-service', 3295), ('Machine-op-inspct', 2002), ('?', 1843), ('Transport-moving', 1597), ('Handlers-cleaners', 1370), ('Farming-fishing', 994), ('Tech-support', 928), ('Protective-serv', 649), ('Priv-house-serv', 149), ('Armed-Forces', 9)] \n",
            "\n",
            "relationship [('Husband', 13193), ('Not-in-family', 8305), ('Own-child', 5068), ('Unmarried', 3446), ('Wife', 1568), ('Other-relative', 981)] \n",
            "\n",
            "race [('White', 27816), ('Black', 3124), ('Asian-Pac-Islander', 1039), ('Amer-Indian-Eskimo', 311), ('Other', 271)] \n",
            "\n",
            "sex [('Male', 21790), ('Female', 10771)] \n",
            "\n",
            "native-country [('United-States', 29170), ('Mexico', 643), ('?', 583), ('Philippines', 198), ('Germany', 137), ('Canada', 121), ('Puerto-Rico', 114), ('El-Salvador', 106), ('India', 100), ('Cuba', 95), ('England', 90), ('Jamaica', 81), ('South', 80), ('China', 75), ('Italy', 73), ('Dominican-Republic', 70), ('Vietnam', 67), ('Guatemala', 64), ('Japan', 62), ('Poland', 60), ('Columbia', 59), ('Taiwan', 51), ('Haiti', 44), ('Iran', 43), ('Portugal', 37), ('Nicaragua', 34), ('Peru', 31), ('France', 29), ('Greece', 29), ('Ecuador', 28), ('Ireland', 24), ('Hong', 20), ('Cambodia', 19), ('Trinadad&Tobago', 19), ('Thailand', 18), ('Laos', 18), ('Yugoslavia', 16), ('Outlying-US(Guam-USVI-etc)', 14), ('Honduras', 13), ('Hungary', 13), ('Scotland', 12), ('Holand-Netherlands', 1)] \n",
            "\n",
            "label [('<=50K', 24720), ('>50K', 7841)] \n",
            "\n"
          ]
        }
      ]
    },
    {
      "cell_type": "markdown",
      "source": [
        "### **Correlations**\n"
      ],
      "metadata": {
        "id": "11JC5-AqV6x_"
      }
    },
    {
      "cell_type": "code",
      "source": [
        "correlations = st.Statistics.corr(rdd_num)\n",
        "correlations"
      ],
      "metadata": {
        "colab": {
          "base_uri": "https://localhost:8080/"
        },
        "id": "kUrVvKqNijKg",
        "outputId": "4d5cef22-f591-45aa-8cb6-002fa75fc51e"
      },
      "execution_count": 16,
      "outputs": [
        {
          "output_type": "execute_result",
          "data": {
            "text/plain": [
              "array([[ 1.        ,  0.0776745 ,  0.05777454,  0.06875571],\n",
              "       [ 0.0776745 ,  1.        , -0.03161506,  0.07840862],\n",
              "       [ 0.05777454, -0.03161506,  1.        ,  0.05425636],\n",
              "       [ 0.06875571,  0.07840862,  0.05425636,  1.        ]])"
            ]
          },
          "metadata": {},
          "execution_count": 16
        }
      ]
    },
    {
      "cell_type": "code",
      "source": [
        "for i, e1_i in enumerate(abs(correlations) > 0.05):\n",
        "  print(cols_num[i])\n",
        "\n",
        "  for j, e1_j in enumerate(e1_i):\n",
        "    if e1_j and j != 1 :\n",
        "      print(\n",
        "          '   ',\n",
        "          cols_num[j] + ' : ',\n",
        "          correlations[i][j]\n",
        "      )\n",
        "  print()"
      ],
      "metadata": {
        "colab": {
          "base_uri": "https://localhost:8080/"
        },
        "id": "mL_4ExjeV95a",
        "outputId": "d68ccf3e-b24e-481e-e5f3-cebef0b01d6e"
      },
      "execution_count": 17,
      "outputs": [
        {
          "output_type": "stream",
          "name": "stdout",
          "text": [
            "age\n",
            "    age :  1.0\n",
            "    capital-loss :  0.05777453947896792\n",
            "    hours-per-week :  0.0687557075095634\n",
            "\n",
            "capital-gain\n",
            "    age :  0.077674498166008\n",
            "    hours-per-week :  0.078408615390123\n",
            "\n",
            "capital-loss\n",
            "    age :  0.05777453947896792\n",
            "    capital-loss :  1.0\n",
            "    hours-per-week :  0.05425636227262224\n",
            "\n",
            "hours-per-week\n",
            "    age :  0.0687557075095634\n",
            "    capital-loss :  0.05425636227262224\n",
            "    hours-per-week :  1.0\n",
            "\n"
          ]
        }
      ]
    },
    {
      "cell_type": "markdown",
      "source": [
        "### **Statistical Testing**"
      ],
      "metadata": {
        "id": "Jh_PR7VUjkkp"
      }
    },
    {
      "cell_type": "code",
      "source": [
        "import pyspark.mllib.linalg as ln\n",
        "\n",
        "census_occupation = (\n",
        "    census\n",
        "    .groupBy('occupation')\n",
        "    .pivot('label')\n",
        "    .count()\n",
        ")\n",
        "\n",
        "census_occupation_coll = (\n",
        "    census_occupation\n",
        "    .rdd\n",
        "    .map(lambda row: row[1:])\n",
        "    .flatMap(lambda row: row)\n",
        "    .collect()\n",
        ")\n",
        "\n",
        "len_row = len(census_occupation.collect())\n",
        "\n",
        "\n",
        "dense_mat = ln.DenseMatrix(\n",
        "    len_row,\n",
        "    2,\n",
        "    census_occupation_coll,\n",
        "    True\n",
        ")\n",
        "\n",
        "chi_sq = st.Statistics.chiSqTest(dense_mat)\n",
        "\n",
        "print(chi_sq.pValue)\n",
        "print(chi_sq.nullHypothesis)"
      ],
      "metadata": {
        "colab": {
          "base_uri": "https://localhost:8080/"
        },
        "id": "fOMsC92PWKFM",
        "outputId": "14f508dd-56ee-4888-b49e-eacba8bf72f7"
      },
      "execution_count": 18,
      "outputs": [
        {
          "output_type": "stream",
          "name": "stdout",
          "text": [
            "0.0\n",
            "the occurrence of the outcomes is statistically independent.\n"
          ]
        }
      ]
    },
    {
      "cell_type": "code",
      "source": [
        "dense_mat.toArray()"
      ],
      "metadata": {
        "colab": {
          "base_uri": "https://localhost:8080/"
        },
        "id": "m7MMpgc7WQH1",
        "outputId": "a12af6ae-573d-4fb4-d2ab-3437ac0da1ff"
      },
      "execution_count": 19,
      "outputs": [
        {
          "output_type": "execute_result",
          "data": {
            "text/plain": [
              "array([[2.667e+03, 9.830e+02],\n",
              "       [2.098e+03, 1.968e+03],\n",
              "       [2.281e+03, 1.859e+03],\n",
              "       [1.284e+03, 8.600e+01],\n",
              "       [8.790e+02, 1.150e+02],\n",
              "       [3.170e+03, 9.290e+02],\n",
              "       [1.277e+03, 3.200e+02],\n",
              "       [1.480e+02, 1.000e+00],\n",
              "       [4.380e+02, 2.110e+02],\n",
              "       [3.158e+03, 1.370e+02],\n",
              "       [6.450e+02, 2.830e+02],\n",
              "       [1.752e+03, 2.500e+02],\n",
              "       [8.000e+00, 1.000e+00],\n",
              "       [1.652e+03, 1.910e+02],\n",
              "       [3.263e+03, 5.070e+02]])"
            ]
          },
          "metadata": {},
          "execution_count": 19
        }
      ]
    },
    {
      "cell_type": "markdown",
      "source": [
        "### **Transforming the Data**"
      ],
      "metadata": {
        "id": "qP5fubkRmRep"
      }
    },
    {
      "cell_type": "markdown",
      "source": [
        "+ Number of distinct values"
      ],
      "metadata": {
        "id": "hQ7nSYhImZOG"
      }
    },
    {
      "cell_type": "code",
      "source": [
        "len_ftrs = []\n",
        "\n",
        "for col in cols_cat:\n",
        "  (\n",
        "      len_ftrs\n",
        "      .append (\n",
        "          ( col,\n",
        "          census\n",
        "          .select(col)\n",
        "          .distinct()\n",
        "          .count()\n",
        "      )\n",
        "    )\n",
        "  )\n",
        "\n",
        "len_ftrs = dict(len_ftrs)\n",
        "len_ftrs"
      ],
      "metadata": {
        "colab": {
          "base_uri": "https://localhost:8080/"
        },
        "id": "cScO9vfZ7BMc",
        "outputId": "608460a6-c730-4460-fa9c-2f032514daf3"
      },
      "execution_count": 20,
      "outputs": [
        {
          "output_type": "execute_result",
          "data": {
            "text/plain": [
              "{'workclass': 9,\n",
              " 'education': 16,\n",
              " 'marital-status': 7,\n",
              " 'occupation': 15,\n",
              " 'relationship': 6,\n",
              " 'race': 5,\n",
              " 'sex': 2,\n",
              " 'native-country': 42}"
            ]
          },
          "metadata": {},
          "execution_count": 20
        }
      ]
    },
    {
      "cell_type": "markdown",
      "source": [
        "+ **Using hashing trick**"
      ],
      "metadata": {
        "id": "MDE_I8QhQV-v"
      }
    },
    {
      "cell_type": "code",
      "source": [
        "import pyspark.mllib.feature as feat\n",
        "\n",
        "final_data = (\n",
        "    census\n",
        "    .select(cols_to_keeps)\n",
        "    .rdd\n",
        "    .map(lambda row: [\n",
        "        list(\n",
        "            feat.HashingTF(int(len_ftrs[col] / 2.0))\n",
        "            .transform(row[i])\n",
        "            .toArray()\n",
        "        ) if i >= 5\n",
        "        else [row[i]]\n",
        "        for i, col in enumerate(cols_to_keeps)\n",
        "    ])\n",
        ")\n",
        "\n",
        "final_data.take(5)"
      ],
      "metadata": {
        "colab": {
          "base_uri": "https://localhost:8080/"
        },
        "id": "qFdfrFqPWTeH",
        "outputId": "a17f6a56-be1b-420b-96b8-2596aa12779d"
      },
      "execution_count": 21,
      "outputs": [
        {
          "output_type": "execute_result",
          "data": {
            "text/plain": [
              "[[['<=50K'],\n",
              "  [39],\n",
              "  [2174],\n",
              "  [0],\n",
              "  [40],\n",
              "  [1.0, 2.0, 1.0, 5.0],\n",
              "  [3.0, 3.0, 0.0, 0.0, 1.0, 0.0, 1.0, 1.0],\n",
              "  [2.0, 3.0, 8.0],\n",
              "  [0.0, 3.0, 3.0, 1.0, 4.0, 1.0, 0.0],\n",
              "  [5.0, 5.0, 3.0],\n",
              "  [3.0, 2.0],\n",
              "  [4.0],\n",
              "  [1.0,\n",
              "   0.0,\n",
              "   0.0,\n",
              "   3.0,\n",
              "   0.0,\n",
              "   1.0,\n",
              "   0.0,\n",
              "   0.0,\n",
              "   0.0,\n",
              "   0.0,\n",
              "   0.0,\n",
              "   2.0,\n",
              "   0.0,\n",
              "   0.0,\n",
              "   0.0,\n",
              "   1.0,\n",
              "   1.0,\n",
              "   2.0,\n",
              "   1.0,\n",
              "   1.0,\n",
              "   0.0]],\n",
              " [['<=50K'],\n",
              "  [50],\n",
              "  [0],\n",
              "  [0],\n",
              "  [13],\n",
              "  [4.0, 3.0, 1.0, 8.0],\n",
              "  [3.0, 3.0, 0.0, 0.0, 1.0, 0.0, 1.0, 1.0],\n",
              "  [5.0, 5.0, 8.0],\n",
              "  [0.0, 1.0, 2.0, 2.0, 8.0, 1.0, 1.0],\n",
              "  [4.0, 2.0, 1.0],\n",
              "  [3.0, 2.0],\n",
              "  [4.0],\n",
              "  [1.0,\n",
              "   0.0,\n",
              "   0.0,\n",
              "   3.0,\n",
              "   0.0,\n",
              "   1.0,\n",
              "   0.0,\n",
              "   0.0,\n",
              "   0.0,\n",
              "   0.0,\n",
              "   0.0,\n",
              "   2.0,\n",
              "   0.0,\n",
              "   0.0,\n",
              "   0.0,\n",
              "   1.0,\n",
              "   1.0,\n",
              "   2.0,\n",
              "   1.0,\n",
              "   1.0,\n",
              "   0.0]],\n",
              " [['<=50K'],\n",
              "  [38],\n",
              "  [0],\n",
              "  [0],\n",
              "  [40],\n",
              "  [2.0, 2.0, 0.0, 3.0],\n",
              "  [2.0, 2.0, 0.0, 0.0, 0.0, 0.0, 2.0, 1.0],\n",
              "  [3.0, 2.0, 3.0],\n",
              "  [2.0, 3.0, 1.0, 3.0, 7.0, 0.0, 1.0],\n",
              "  [5.0, 5.0, 3.0],\n",
              "  [3.0, 2.0],\n",
              "  [4.0],\n",
              "  [1.0,\n",
              "   0.0,\n",
              "   0.0,\n",
              "   3.0,\n",
              "   0.0,\n",
              "   1.0,\n",
              "   0.0,\n",
              "   0.0,\n",
              "   0.0,\n",
              "   0.0,\n",
              "   0.0,\n",
              "   2.0,\n",
              "   0.0,\n",
              "   0.0,\n",
              "   0.0,\n",
              "   1.0,\n",
              "   1.0,\n",
              "   2.0,\n",
              "   1.0,\n",
              "   1.0,\n",
              "   0.0]],\n",
              " [['<=50K'],\n",
              "  [53],\n",
              "  [0],\n",
              "  [0],\n",
              "  [40],\n",
              "  [2.0, 2.0, 0.0, 3.0],\n",
              "  [0.0, 0.0, 2.0, 1.0, 0.0, 0.0, 1.0, 0.0],\n",
              "  [5.0, 5.0, 8.0],\n",
              "  [2.0, 3.0, 1.0, 3.0, 7.0, 0.0, 1.0],\n",
              "  [4.0, 2.0, 1.0],\n",
              "  [2.0, 3.0],\n",
              "  [4.0],\n",
              "  [1.0,\n",
              "   0.0,\n",
              "   0.0,\n",
              "   3.0,\n",
              "   0.0,\n",
              "   1.0,\n",
              "   0.0,\n",
              "   0.0,\n",
              "   0.0,\n",
              "   0.0,\n",
              "   0.0,\n",
              "   2.0,\n",
              "   0.0,\n",
              "   0.0,\n",
              "   0.0,\n",
              "   1.0,\n",
              "   1.0,\n",
              "   2.0,\n",
              "   1.0,\n",
              "   1.0,\n",
              "   0.0]],\n",
              " [['<=50K'],\n",
              "  [28],\n",
              "  [0],\n",
              "  [0],\n",
              "  [40],\n",
              "  [2.0, 2.0, 0.0, 3.0],\n",
              "  [3.0, 3.0, 0.0, 0.0, 1.0, 0.0, 1.0, 1.0],\n",
              "  [5.0, 5.0, 8.0],\n",
              "  [3.0, 1.0, 1.0, 3.0, 3.0, 2.0, 1.0],\n",
              "  [0.0, 1.0, 3.0],\n",
              "  [2.0, 3.0],\n",
              "  [6.0],\n",
              "  [0.0,\n",
              "   1.0,\n",
              "   0.0,\n",
              "   1.0,\n",
              "   0.0,\n",
              "   0.0,\n",
              "   0.0,\n",
              "   0.0,\n",
              "   0.0,\n",
              "   1.0,\n",
              "   0.0,\n",
              "   1.0,\n",
              "   0.0,\n",
              "   0.0,\n",
              "   0.0,\n",
              "   0.0,\n",
              "   0.0,\n",
              "   0.0,\n",
              "   0.0,\n",
              "   0.0,\n",
              "   0.0]]]"
            ]
          },
          "metadata": {},
          "execution_count": 21
        }
      ]
    },
    {
      "cell_type": "code",
      "source": [
        "def labelEncode(label):\n",
        "  return [int(label[0] == '>50K')]\n",
        "\n",
        "final_data = (\n",
        "    final_data\n",
        "    .map(lambda row: labelEncode(row[0])\n",
        "        + [\n",
        "            item\n",
        "            for sublist in row[1:]\n",
        "            for item in sublist\n",
        "        ]\n",
        "         )\n",
        ")"
      ],
      "metadata": {
        "id": "jjUwuLXTQ9Jn"
      },
      "execution_count": 22,
      "outputs": []
    },
    {
      "cell_type": "markdown",
      "source": [
        "### **Standardizing Data**"
      ],
      "metadata": {
        "id": "JZLgw4NWpsTq"
      }
    },
    {
      "cell_type": "code",
      "source": [
        "standardizer = feat.StandardScaler(True, True)\n",
        "sModel = standardizer.fit(final_data.map(lambda row: row[1:]))\n",
        "final_data_scaled = sModel.transform(final_data.map(lambda row: row[1:]))\n",
        "\n",
        "final_data = (\n",
        "    final_data\n",
        "    .map(lambda row: row[0])\n",
        "    .zipWithIndex()\n",
        "    .map(lambda row: (row[1], row[0]))\n",
        "    .join(\n",
        "        final_data_scaled\n",
        "        .zipWithIndex()\n",
        "        .map(lambda row: (row[1], row[0]))\n",
        "    )\n",
        "    .map(lambda row: row[1])\n",
        ")\n",
        "\n",
        "final_data.take(3)"
      ],
      "metadata": {
        "colab": {
          "base_uri": "https://localhost:8080/"
        },
        "id": "UjByl1hPRIp_",
        "outputId": "dc1a170d-b9d6-437c-a94e-ee4c53c0489d"
      },
      "execution_count": 23,
      "outputs": [
        {
          "output_type": "execute_result",
          "data": {
            "text/plain": [
              "[(0,\n",
              "  DenseVector([0.0307, 0.1485, -0.2167, -0.0354, -1.2635, 0.008, 1.7796, 1.0001, 0.83, 0.5743, -0.3473, -0.443, 0.6826, -0.4007, -0.3862, -0.4685, -1.1369, -0.4555, 0.4551, -1.1329, 2.0776, 1.8713, -1.0381, -0.3381, -0.2381, -0.775, 0.9805, 1.5207, 0.3083, -0.0634, -0.2574, -0.7031, 0.3208, -0.0901, -0.1263, 0.3355, -0.1223, 0.3378, -0.0853, -0.0937, -0.0887, -0.2104, 0.0, 0.1286, -0.1976, -0.1433, -0.1419, 0.1895, 0.298, 0.2896, 0.1638, 0.1221, 0.0])),\n",
              " (0,\n",
              "  DenseVector([-0.0426, -0.1459, -0.2167, -0.0354, -0.2368, 0.008, -0.5593, -0.2503, -0.2076, -0.1937, -0.3473, -0.443, -0.9076, -0.4007, 1.1933, -0.4685, -0.4505, -1.1655, -2.1192, 0.935, 2.0776, -0.5029, 0.383, 1.0477, -1.306, 1.0328, 0.9805, 1.5207, 0.3083, -0.0634, -0.2574, -0.7031, 0.3208, -0.0901, -0.1263, 0.3355, -0.1223, 0.3378, -0.0853, -0.0937, -0.0887, -0.2104, 0.0, 0.1286, -0.1976, -0.1433, -0.1419, 0.1895, 0.298, 0.2896, 0.1638, 0.1221, 0.0])),\n",
              " (0,\n",
              "  DenseVector([-0.7758, -0.1459, -0.2167, -0.0354, -0.2368, 0.008, -0.5593, -0.2503, 0.83, 0.5743, -0.3473, -0.443, 0.6826, -0.4007, -0.3862, -0.4685, 0.9222, 0.9646, 0.4551, 1.969, 0.1557, -0.5029, 0.383, -0.8, 0.8297, 1.0328, -3.1763, -1.2787, 0.3083, -1.3113, 0.2698, 1.4223, -3.115, 11.1029, -0.1263, -2.0213, -0.1223, -2.9329, -0.0853, -0.0937, -0.0887, 4.6556, 0.0, -2.0726, -0.1976, -0.1433, -0.1419, -3.218, -3.15, -3.6612, -4.1258, -3.2729, 0.0]))]"
            ]
          },
          "metadata": {},
          "execution_count": 23
        }
      ]
    },
    {
      "cell_type": "code",
      "source": [
        "final_data.take(1)"
      ],
      "metadata": {
        "colab": {
          "base_uri": "https://localhost:8080/"
        },
        "id": "mIekkROAXAh2",
        "outputId": "e1f4b6fe-0c86-46eb-bf03-d10a99717d7d"
      },
      "execution_count": 24,
      "outputs": [
        {
          "output_type": "execute_result",
          "data": {
            "text/plain": [
              "[(0,\n",
              "  DenseVector([0.0307, 0.1485, -0.2167, -0.0354, -1.2635, 0.008, 1.7796, 1.0001, 0.83, 0.5743, -0.3473, -0.443, 0.6826, -0.4007, -0.3862, -0.4685, -1.1369, -0.4555, 0.4551, -1.1329, 2.0776, 1.8713, -1.0381, -0.3381, -0.2381, -0.775, 0.9805, 1.5207, 0.3083, -0.0634, -0.2574, -0.7031, 0.3208, -0.0901, -0.1263, 0.3355, -0.1223, 0.3378, -0.0853, -0.0937, -0.0887, -0.2104, 0.0, 0.1286, -0.1976, -0.1433, -0.1419, 0.1895, 0.298, 0.2896, 0.1638, 0.1221, 0.0]))]"
            ]
          },
          "metadata": {},
          "execution_count": 24
        }
      ]
    },
    {
      "cell_type": "code",
      "source": [
        "sModel.mean, sModel.std"
      ],
      "metadata": {
        "colab": {
          "base_uri": "https://localhost:8080/"
        },
        "id": "eg2oV6JorO1q",
        "outputId": "84c5bcfb-c134-4762-86ce-0af1145256d8"
      },
      "execution_count": 25,
      "outputs": [
        {
          "output_type": "execute_result",
          "data": {
            "text/plain": [
              "(DenseVector([38.5816, 1077.6488, 87.3038, 40.4375, 2.2307, 1.9942, 0.2391, 3.4004, 2.2001, 2.2522, 0.1836, 0.2528, 0.5707, 0.1384, 1.2445, 1.5914, 3.6564, 3.6415, 7.1161, 1.0957, 0.838, 1.4236, 2.461, 4.7319, 1.223, 0.4287, 3.8206, 2.8271, 2.472, 3.0508, 2.4882, 4.6616, 0.9066, 0.008, 0.0157, 2.7153, 0.0157, 0.8967, 0.0072, 0.0108, 0.0078, 0.0432, 0.0, 1.9416, 0.0445, 0.0238, 0.0197, 0.9444, 0.9136, 1.8534, 0.9618, 0.964, 0.0]),\n",
              " DenseVector([13.6404, 7385.2921, 402.9602, 12.3474, 0.974, 0.722, 0.4276, 1.5994, 0.9637, 1.3021, 0.5285, 0.5706, 0.6288, 0.3453, 0.6331, 1.2623, 1.457, 1.4084, 1.9423, 0.9671, 1.0407, 0.8424, 1.4074, 2.1649, 0.9365, 0.5532, 1.2029, 1.4289, 1.7124, 0.8013, 1.8969, 0.941, 0.2911, 0.0893, 0.1243, 0.8486, 0.1281, 0.3057, 0.0846, 0.1151, 0.088, 0.2055, 0.0, 0.4543, 0.2251, 0.1658, 0.1391, 0.2935, 0.29, 0.5062, 0.2331, 0.2945, 0.0]))"
            ]
          },
          "metadata": {},
          "execution_count": 25
        }
      ]
    },
    {
      "cell_type": "markdown",
      "source": [
        "### **Creating an RDD for training**"
      ],
      "metadata": {
        "id": "DGDin5cr9xV8"
      }
    },
    {
      "cell_type": "code",
      "source": [
        "import pyspark.mllib.regression as reg\n",
        "\n",
        "final_data_income = (\n",
        "    final_data\n",
        "    .map(lambda row: reg.LabeledPoint(\n",
        "        row[0]\n",
        "        , row[1]\n",
        "        )\n",
        "    )\n",
        ")\n",
        "final_data_income.take(2)"
      ],
      "metadata": {
        "colab": {
          "base_uri": "https://localhost:8080/"
        },
        "id": "lc2D_1gZXI5v",
        "outputId": "13fcfc70-a28f-47ed-dd2f-3743d3179080"
      },
      "execution_count": 26,
      "outputs": [
        {
          "output_type": "execute_result",
          "data": {
            "text/plain": [
              "[LabeledPoint(0.0, [0.03067008637999638,0.14845061558793698,-0.2166562000280365,-0.035428902921321385,-1.2634955069616076,0.007996473732148601,1.7795863357831183,1.0001208369009675,0.8300118030815685,0.5743180912245708,-0.3473011663518568,-0.44299296056248205,0.6826214082675854,-0.40070785156169997,-0.3862275949058694,-0.46854980553952796,-1.1368735829205445,-0.4555118517327555,0.45507885276723403,-1.1329160643506915,2.0775754968328823,1.871297515327448,-1.0380868217125299,-0.3380809425105878,-0.238127083048188,-0.7750139160707564,0.9804554188514951,1.5207190561281545,0.3083409364172059,-0.06339046129246152,-0.2573678505758229,-0.7030605487269502,0.3207798471547602,-0.09006362818252112,-0.12626697150459487,0.33547741813186394,-0.12230357893453811,0.33781064530670735,-0.085261168002025,-0.09367074945140887,-0.08866697117953624,-0.21041541274675812,0.0,0.12864878811001576,-0.19757081643280736,-0.1433270085322854,-0.14193221558442817,0.18951895277276812,0.2979804796353739,0.28962659119488887,0.16375112206980874,0.12209582618285784,0.0]),\n",
              " LabeledPoint(0.0, [-0.04264137174802653,-0.14591824281680124,-0.2166562000280365,-0.035428902921321385,-0.23682658097398065,0.007996473732148601,-0.5592677784220899,-0.2503326360886686,-0.20761448579729253,-0.19369584644692006,-0.3473011663518568,-0.44299296056248205,-0.9076222545070445,-0.40070785156169997,1.1932696065171702,-0.46854980553952796,-0.4505209902429005,-1.165546865580728,-2.1192475066757575,0.9350201394401465,2.0775754968328823,-0.5028503697502781,0.3829652678267821,1.0476508763574224,-1.3059766838100584,1.0327966807613926,0.9804554188514951,1.5207190561281545,0.3083409364172059,-0.06339046129246152,-0.2573678505758229,-0.7030605487269502,0.3207798471547602,-0.09006362818252112,-0.12626697150459487,0.33547741813186394,-0.12230357893453811,0.33781064530670735,-0.085261168002025,-0.09367074945140887,-0.08866697117953624,-0.21041541274675812,0.0,0.12864878811001576,-0.19757081643280736,-0.1433270085322854,-0.14193221558442817,0.18951895277276812,0.2979804796353739,0.28962659119488887,0.16375112206980874,0.12209582618285784,0.0])]"
            ]
          },
          "metadata": {},
          "execution_count": 26
        }
      ]
    },
    {
      "cell_type": "code",
      "source": [
        "mu, std = sModel.mean[3], sModel.std[3]\n",
        "\n",
        "final_data_hours = (\n",
        "    final_data\n",
        "    .map(lambda row: reg.LabeledPoint(\n",
        "        row[1][3] * std + mu,\n",
        "        ln.Vectors.dense([row[0]] + list(row[1][0:3]) + list(row[1][4:]))\n",
        "    )\n",
        "  )\n",
        ")\n",
        "\n",
        "final_data_hours.take(3)"
      ],
      "metadata": {
        "colab": {
          "base_uri": "https://localhost:8080/"
        },
        "id": "b2dhtdozVIiR",
        "outputId": "37d376d7-31a5-4ebd-868e-91c30f719922"
      },
      "execution_count": 27,
      "outputs": [
        {
          "output_type": "execute_result",
          "data": {
            "text/plain": [
              "[LabeledPoint(40.0, [0.0,0.03067008637999638,0.14845061558793698,-0.2166562000280365,-1.2634955069616076,0.007996473732148601,1.7795863357831183,1.0001208369009675,0.8300118030815685,0.5743180912245708,-0.3473011663518568,-0.44299296056248205,0.6826214082675854,-0.40070785156169997,-0.3862275949058694,-0.46854980553952796,-1.1368735829205445,-0.4555118517327555,0.45507885276723403,-1.1329160643506915,2.0775754968328823,1.871297515327448,-1.0380868217125299,-0.3380809425105878,-0.238127083048188,-0.7750139160707564,0.9804554188514951,1.5207190561281545,0.3083409364172059,-0.06339046129246152,-0.2573678505758229,-0.7030605487269502,0.3207798471547602,-0.09006362818252112,-0.12626697150459487,0.33547741813186394,-0.12230357893453811,0.33781064530670735,-0.085261168002025,-0.09367074945140887,-0.08866697117953624,-0.21041541274675812,0.0,0.12864878811001576,-0.19757081643280736,-0.1433270085322854,-0.14193221558442817,0.18951895277276812,0.2979804796353739,0.28962659119488887,0.16375112206980874,0.12209582618285784,0.0]),\n",
              " LabeledPoint(40.0, [0.0,-0.04264137174802653,-0.14591824281680124,-0.2166562000280365,-0.23682658097398065,0.007996473732148601,-0.5592677784220899,-0.2503326360886686,-0.20761448579729253,-0.19369584644692006,-0.3473011663518568,-0.44299296056248205,-0.9076222545070445,-0.40070785156169997,1.1932696065171702,-0.46854980553952796,-0.4505209902429005,-1.165546865580728,-2.1192475066757575,0.9350201394401465,2.0775754968328823,-0.5028503697502781,0.3829652678267821,1.0476508763574224,-1.3059766838100584,1.0327966807613926,0.9804554188514951,1.5207190561281545,0.3083409364172059,-0.06339046129246152,-0.2573678505758229,-0.7030605487269502,0.3207798471547602,-0.09006362818252112,-0.12626697150459487,0.33547741813186394,-0.12230357893453811,0.33781064530670735,-0.085261168002025,-0.09367074945140887,-0.08866697117953624,-0.21041541274675812,0.0,0.12864878811001576,-0.19757081643280736,-0.1433270085322854,-0.14193221558442817,0.18951895277276812,0.2979804796353739,0.28962659119488887,0.16375112206980874,0.12209582618285784,0.0]),\n",
              " LabeledPoint(40.0, [0.0,-0.7757559530282556,-0.14591824281680124,-0.2166562000280365,-0.23682658097398065,0.007996473732148601,-0.5592677784220899,-0.2503326360886686,0.8300118030815685,0.5743180912245708,-0.3473011663518568,-0.44299296056248205,0.6826214082675854,-0.40070785156169997,-0.3862275949058694,-0.46854980553952796,0.9221841951123874,0.9645581759631894,0.45507885276723403,1.9689882413355655,0.15570454162462402,-0.5028503697502781,0.3829652678267821,-0.7999915487999245,0.8297225177136823,1.0327966807613926,-3.176286448967662,-1.278700504398129,0.3083409364172059,-1.3113087261925471,0.2698185222600715,1.42230891809129,-3.115046667057849,11.10292033079103,-0.12626697150459487,-2.0212604916398527,-0.12230357893453811,-2.932915617504026,-0.085261168002025,-0.09367074945140887,-0.08866697117953624,4.655590449786751,0.0,-2.0725772705606027,-0.19757081643280736,-0.1433270085322854,-0.14193221558442817,-3.2179501920279576,-3.14997346400601,-3.661161609851147,-4.125790539808238,-3.272918858992717,0.0])]"
            ]
          },
          "metadata": {},
          "execution_count": 27
        }
      ]
    },
    {
      "cell_type": "markdown",
      "source": [
        "### **Spàlitting Into Training and Testing**"
      ],
      "metadata": {
        "id": "JvRDV457uyvD"
      }
    },
    {
      "cell_type": "code",
      "source": [
        "(\n",
        "    final_data_income_train,\n",
        "    final_data_income_test\n",
        ") = (\n",
        "    final_data_income.randomSplit([0.7, 0.3])\n",
        ")"
      ],
      "metadata": {
        "id": "LR_QGdTKXv_f"
      },
      "execution_count": 29,
      "outputs": []
    },
    {
      "cell_type": "code",
      "source": [
        "(\n",
        "    final_data_hours_train,\n",
        "    final_data_hours_test\n",
        ") = (\n",
        "    final_data_hours.randomSplit([0.7, 0.3])\n",
        ")"
      ],
      "metadata": {
        "id": "s1U4zHBix8vY"
      },
      "execution_count": 30,
      "outputs": []
    },
    {
      "cell_type": "markdown",
      "source": [
        "### **Predicting hours of work for census respondents**"
      ],
      "metadata": {
        "id": "Odi9M_oavKw8"
      }
    },
    {
      "cell_type": "markdown",
      "source": [
        "+ Linear regression(benchmark)"
      ],
      "metadata": {
        "id": "DTqsAxlUvSV1"
      }
    },
    {
      "cell_type": "code",
      "source": [
        "workhours_model_lm = reg.LinearRegressionWithSGD.train(final_data_hours_train)"
      ],
      "metadata": {
        "id": "zshM2dY0XzuG"
      },
      "execution_count": 32,
      "outputs": []
    },
    {
      "cell_type": "code",
      "source": [
        "small_sample_hours = sc.parallelize(final_data_hours_test.take(10))\n",
        "\n",
        "for t,p in zip(\n",
        "    small_sample_hours\n",
        "      .map(lambda row: row.label)\n",
        "      .collect(),\n",
        "    workhours_model_lm.predict(\n",
        "        small_sample_hours\n",
        "          .map(lambda row: row.features)\n",
        "    ).collect()\n",
        "): print(t,p)"
      ],
      "metadata": {
        "colab": {
          "base_uri": "https://localhost:8080/"
        },
        "id": "bDel2VGegQFM",
        "outputId": "f037e420-4561-495b-a490-c5fd65834145"
      },
      "execution_count": 33,
      "outputs": [
        {
          "output_type": "stream",
          "name": "stdout",
          "text": [
            "40.0 -17.710351989405652\n",
            "16.0 0.7884451034867767\n",
            "40.0 48.143135206619576\n",
            "35.0 16.361899132112132\n",
            "40.0 -1.9939925483191634\n",
            "40.0 8.64595997739316\n",
            "52.0 12.563907579525969\n",
            "40.0 8.838883743158187\n",
            "35.0 10.070621988838832\n",
            "40.0 -7.355920705470115\n"
          ]
        }
      ]
    },
    {
      "cell_type": "code",
      "source": [
        "workhours_model_lm.weights"
      ],
      "metadata": {
        "colab": {
          "base_uri": "https://localhost:8080/"
        },
        "id": "7EMUtd7-bWsY",
        "outputId": "c38ef5ff-71bf-423c-91f8-3ccf98e9ab4b"
      },
      "execution_count": 34,
      "outputs": [
        {
          "output_type": "execute_result",
          "data": {
            "text/plain": [
              "DenseVector([53.7726, -2.9522, -3.3197, -1.7322, -0.2149, -1.027, -0.2633, 2.0059, -3.0387, 1.6083, 1.133, -1.2973, -0.4067, 1.4962, 3.2463, 1.4535, -1.4024, -1.4187, -0.9019, 0.6091, -0.5662, -0.1162, -1.8664, 1.3544, 1.7149, -1.3445, 4.0175, -0.2138, 4.0577, -0.4991, 0.6701, -0.379, -0.0973, -0.3107, 0.1058, -0.2289, 0.0126, -0.0957, -0.3685, 0.2505, -0.4255, 0.824, 0.0, -0.3055, 0.75, -0.4783, 0.3906, 0.2477, 0.2761, -0.0296, 0.2436, 0.3394, 0.0])"
            ]
          },
          "metadata": {},
          "execution_count": 34
        }
      ]
    },
    {
      "cell_type": "markdown",
      "source": [
        "### **Forecasting income levels of census respondents**"
      ],
      "metadata": {
        "id": "CnyBUYQWyi4e"
      }
    },
    {
      "cell_type": "markdown",
      "source": [
        "+ Logistic Regression"
      ],
      "metadata": {
        "id": "JQYwaPq3ypul"
      }
    },
    {
      "cell_type": "code",
      "source": [
        "import pyspark.mllib.classification as cl\n",
        "income_model_lr = cl.LogisticRegressionWithSGD.train(final_data_income_train)"
      ],
      "metadata": {
        "id": "5AgpMqM0bd2e"
      },
      "execution_count": null,
      "outputs": []
    },
    {
      "cell_type": "code",
      "source": [
        "small_sample_income = sc.parallelize(final_data_income_test.take(10))\n",
        "\n",
        "for t,p in zip(\n",
        "    small_sample_income\n",
        "      .map(lambda row: row.label)\n",
        "      .collect(),\n",
        "    income_model_lr.predict(\n",
        "        small_sample_income\n",
        "          .map(lambda row: row.features)\n",
        "    ).collect()\n",
        "): print(t,p)"
      ],
      "metadata": {
        "colab": {
          "base_uri": "https://localhost:8080/"
        },
        "id": "vg-Oe1hXml6S",
        "outputId": "eafb3748-0980-4193-af75-cd4cb678d440"
      },
      "execution_count": 39,
      "outputs": [
        {
          "output_type": "stream",
          "name": "stdout",
          "text": [
            "0.0 0\n",
            "0.0 0\n",
            "1.0 1\n",
            "0.0 1\n",
            "1.0 1\n",
            "0.0 1\n",
            "0.0 0\n",
            "0.0 1\n",
            "0.0 1\n",
            "0.0 1\n"
          ]
        }
      ]
    },
    {
      "cell_type": "code",
      "source": [
        "income_model_lr.threshold"
      ],
      "metadata": {
        "colab": {
          "base_uri": "https://localhost:8080/"
        },
        "id": "xy9te4AJmpXS",
        "outputId": "32963086-5170-4bfb-db34-7560376a2b55"
      },
      "execution_count": 40,
      "outputs": [
        {
          "output_type": "execute_result",
          "data": {
            "text/plain": [
              "0.5"
            ]
          },
          "metadata": {},
          "execution_count": 40
        }
      ]
    },
    {
      "cell_type": "code",
      "source": [
        "income_model_lr.weights"
      ],
      "metadata": {
        "colab": {
          "base_uri": "https://localhost:8080/"
        },
        "id": "ufmO4_UKoGzM",
        "outputId": "5e51b557-41d3-4b51-c9b6-62f022abcfd1"
      },
      "execution_count": 41,
      "outputs": [
        {
          "output_type": "execute_result",
          "data": {
            "text/plain": [
              "DenseVector([0.2319, 0.7546, 0.2253, 0.2327, 0.0477, 0.0975, -0.004, -0.119, 0.2396, -0.0497, -0.1348, 0.0904, 0.0204, -0.0303, -0.2769, -0.0849, 0.2171, 0.2217, 0.0224, -0.0209, 0.0507, -0.0262, 0.0666, -0.045, -0.0601, 0.1454, -0.127, -0.0978, -0.1871, 0.0484, -0.0532, -0.0777, 0.0123, 0.0062, -0.0111, 0.008, -0.0101, 0.0001, 0.0091, 0.0017, 0.0187, -0.0328, 0.0, -0.001, -0.0423, -0.0061, -0.0571, -0.0166, -0.0133, 0.005, 0.0125, -0.0224, 0.0])"
            ]
          },
          "metadata": {},
          "execution_count": 41
        }
      ]
    },
    {
      "cell_type": "markdown",
      "source": [
        "+ Support Vector Machines"
      ],
      "metadata": {
        "id": "JTcT88PgNXyK"
      }
    },
    {
      "cell_type": "code",
      "source": [
        "income_model_svm = cl.SVMWithSGD.train(\n",
        "    final_data_income,\n",
        "    # step = 0.95,\n",
        "    miniBatchFraction=1/2.0\n",
        ")"
      ],
      "metadata": {
        "id": "zubLomZUm1dc"
      },
      "execution_count": 42,
      "outputs": []
    },
    {
      "cell_type": "code",
      "source": [
        "for t,p in zip(\n",
        "    small_sample_income\n",
        "      .map(lambda row: row.label)\n",
        "      .collect(),\n",
        "    income_model_svm.predict(\n",
        "        small_sample_income\n",
        "          .map(lambda row: row.features)\n",
        "    ).collect()\n",
        "): print(t,p)"
      ],
      "metadata": {
        "colab": {
          "base_uri": "https://localhost:8080/"
        },
        "id": "cEyROADrNmdv",
        "outputId": "7d0246b8-e12f-44e4-f79e-7a78ce6389aa"
      },
      "execution_count": 43,
      "outputs": [
        {
          "output_type": "stream",
          "name": "stdout",
          "text": [
            "0.0 0\n",
            "0.0 1\n",
            "1.0 1\n",
            "0.0 1\n",
            "1.0 1\n",
            "0.0 1\n",
            "0.0 1\n",
            "0.0 1\n",
            "0.0 1\n",
            "0.0 1\n"
          ]
        }
      ]
    },
    {
      "cell_type": "code",
      "source": [
        "income_model_svm.weights"
      ],
      "metadata": {
        "colab": {
          "base_uri": "https://localhost:8080/"
        },
        "id": "27yK_L0x0kls",
        "outputId": "ccfd7840-d254-4a3f-82e5-8036587932cb"
      },
      "execution_count": 44,
      "outputs": [
        {
          "output_type": "execute_result",
          "data": {
            "text/plain": [
              "DenseVector([0.1286, 1.0619, 0.1582, 0.0946, 0.0399, 0.0806, -0.0108, -0.0744, 0.1618, -0.1196, -0.0836, 0.0338, -0.0226, -0.0673, -0.177, -0.0568, 0.4101, 0.2562, 0.0735, -0.068, 0.0038, -0.0055, 0.0624, -0.0707, -0.0389, 0.0952, -0.123, -0.038, -0.1559, 0.0202, -0.0343, -0.0369, 0.0106, -0.0069, 0.0096, 0.0056, 0.0101, 0.0023, 0.0095, -0.0063, 0.0039, -0.0119, 0.0, 0.002, -0.0651, 0.0102, -0.1191, 0.0032, -0.009, 0.0068, 0.0006, -0.025, 0.0])"
            ]
          },
          "metadata": {},
          "execution_count": 44
        }
      ]
    },
    {
      "cell_type": "markdown",
      "source": [
        "### **Building Clustering Models**"
      ],
      "metadata": {
        "id": "XjDk1sBlq2Ts"
      }
    },
    {
      "cell_type": "code",
      "source": [
        "import pyspark.mllib.clustering as clu\n",
        "\n",
        "model_km = clu.KMeans.train(\n",
        "    final_data.map(lambda row: row[1]),\n",
        "    2,\n",
        "    initializationMode='random',\n",
        "    seed=665\n",
        ")"
      ],
      "metadata": {
        "id": "KzKTw3FyonBv"
      },
      "execution_count": 47,
      "outputs": []
    },
    {
      "cell_type": "code",
      "source": [
        "import sklearn.metrics as m\n",
        "\n",
        "predicted = (\n",
        "    model_km\n",
        "      .predict(\n",
        "          final_data.map(lambda row: row[1])\n",
        "      )\n",
        ")\n",
        "\n",
        "predicted = predicted.collect()\n",
        "\n",
        "true = final_data.map(lambda row: row[0]).collect()\n",
        "\n",
        "print(m.homogeneity_score(true,predicted))\n",
        "print(m.completeness_score(true,predicted))"
      ],
      "metadata": {
        "colab": {
          "base_uri": "https://localhost:8080/"
        },
        "id": "J0NZna0MrB08",
        "outputId": "0d79497d-c744-42e4-c462-71d2f08ca862"
      },
      "execution_count": 48,
      "outputs": [
        {
          "output_type": "stream",
          "name": "stdout",
          "text": [
            "0.18401866145343315\n",
            "0.14684418754735365\n"
          ]
        }
      ]
    },
    {
      "cell_type": "markdown",
      "source": [
        "### **Computing Performance Statistics**"
      ],
      "metadata": {
        "id": "xL-2_XM62jXL"
      }
    },
    {
      "cell_type": "code",
      "source": [
        "import pyspark.mllib.evaluation as ev"
      ],
      "metadata": {
        "id": "oT7-5W4K2puB"
      },
      "execution_count": 49,
      "outputs": []
    },
    {
      "cell_type": "markdown",
      "source": [
        "+ Regression metrics"
      ],
      "metadata": {
        "id": "CdtjQ1xT2xKU"
      }
    },
    {
      "cell_type": "code",
      "source": [
        "true_pred_reg = (\n",
        "    final_data_hours_test\n",
        "    .map(lambda row: (\n",
        "        float(workhours_model_lm.predict(row.features)),\n",
        "        row.label))\n",
        ")\n",
        "\n",
        "metrics_lm = ev.RegressionMetrics(true_pred_reg)"
      ],
      "metadata": {
        "colab": {
          "base_uri": "https://localhost:8080/"
        },
        "id": "sAzw_8uTorXI",
        "outputId": "b7a17d36-50cb-42dd-f122-7e84242b45e4"
      },
      "execution_count": 50,
      "outputs": [
        {
          "output_type": "stream",
          "name": "stderr",
          "text": [
            "/usr/local/lib/python3.10/dist-packages/pyspark/sql/context.py:158: FutureWarning: Deprecated in 3.0.0. Use SparkSession.builder.getOrCreate() instead.\n",
            "  warnings.warn(\n"
          ]
        }
      ]
    },
    {
      "cell_type": "code",
      "source": [
        "print('R^2 : ', metrics_lm.r2)\n",
        "print('Explained Variance: ', metrics_lm.explainedVariance)\n",
        "print('meanAbsoluteError: ', metrics_lm.meanAbsoluteError)"
      ],
      "metadata": {
        "colab": {
          "base_uri": "https://localhost:8080/"
        },
        "id": "2jrYBWSDoyZ5",
        "outputId": "bb166eff-7c2d-4ade-956d-71f53993653d"
      },
      "execution_count": 52,
      "outputs": [
        {
          "output_type": "stream",
          "name": "stdout",
          "text": [
            "R^2 :  -6.799361371432148\n",
            "Explained Variance:  1128.5622756591451\n",
            "meanAbsoluteError:  29.629969048799808\n"
          ]
        }
      ]
    },
    {
      "cell_type": "markdown",
      "source": [
        "+ **Classification metrics**"
      ],
      "metadata": {
        "id": "D0fuC7cy313I"
      }
    },
    {
      "cell_type": "code",
      "source": [
        "true_pred_class_lr = (\n",
        "    final_data_income_test\n",
        "    .map(lambda row: (\n",
        "        float(income_model_lr.predict(row.features))\n",
        "        , row.label))\n",
        ")\n",
        "\n",
        "metrics_lr = ev.BinaryClassificationMetrics(true_pred_class_lr)\n",
        "\n",
        "print('areaUnderPR: ', metrics_lr.areaUnderPR)\n",
        "print('areaUnderROC: ', metrics_lr.areaUnderROC)"
      ],
      "metadata": {
        "id": "7peq6wWGTQLl",
        "colab": {
          "base_uri": "https://localhost:8080/"
        },
        "outputId": "703c78d4-7655-46df-b5fe-bb928c60d33f"
      },
      "execution_count": 53,
      "outputs": [
        {
          "output_type": "stream",
          "name": "stdout",
          "text": [
            "areaUnderPR:  0.45621828995529357\n",
            "areaUnderROC:  0.7915930212376715\n"
          ]
        }
      ]
    },
    {
      "cell_type": "code",
      "source": [
        "trainErr = (\n",
        "    true_pred_class_lr\n",
        "    .filter(lambda lp: lp[0] != lp[1]).count()\n",
        "    / float(true_pred_class_lr.count())\n",
        ")\n",
        "print(\"Training Error = \" + str(trainErr))"
      ],
      "metadata": {
        "id": "h1TcYGcvRN-P",
        "colab": {
          "base_uri": "https://localhost:8080/"
        },
        "outputId": "20d8bd13-2442-44d1-bef6-047dcfae944c"
      },
      "execution_count": 54,
      "outputs": [
        {
          "output_type": "stream",
          "name": "stdout",
          "text": [
            "Training Error = 0.272375127420999\n"
          ]
        }
      ]
    },
    {
      "cell_type": "code",
      "source": [
        "true_pred_class_svm = (\n",
        "    final_data_income_test\n",
        "    .map(lambda row: (\n",
        "        float(income_model_svm.predict(row.features))\n",
        "        , row.label))\n",
        ")\n",
        "\n",
        "metrics_svm = ev.BinaryClassificationMetrics(true_pred_class_svm)\n",
        "\n",
        "print('areaUnderPR: ', metrics_svm.areaUnderPR)\n",
        "print('areaUnderROC: ', metrics_svm.areaUnderROC)"
      ],
      "metadata": {
        "colab": {
          "base_uri": "https://localhost:8080/"
        },
        "id": "e8Xm0kkj4Glh",
        "outputId": "d0393279-1d61-4f89-db44-de0c2acaf83b"
      },
      "execution_count": 55,
      "outputs": [
        {
          "output_type": "stream",
          "name": "stdout",
          "text": [
            "areaUnderPR:  0.43845379317246325\n",
            "areaUnderROC:  0.7755340850026171\n"
          ]
        }
      ]
    },
    {
      "cell_type": "code",
      "source": [
        "trainErr = (\n",
        "    true_pred_class_svm\n",
        "    .filter(lambda lp: lp[0] != lp[1]).count()\n",
        "    / float(true_pred_class_svm.count())\n",
        ")\n",
        "\n",
        "print(\"Training Error = \" + str(trainErr))"
      ],
      "metadata": {
        "colab": {
          "base_uri": "https://localhost:8080/"
        },
        "id": "6ydfm9lR4HN5",
        "outputId": "e9f69373-86a6-4e17-9764-d3e8c3c7774e"
      },
      "execution_count": 56,
      "outputs": [
        {
          "output_type": "stream",
          "name": "stdout",
          "text": [
            "Training Error = 0.28950050968399593\n"
          ]
        }
      ]
    },
    {
      "cell_type": "markdown",
      "source": [
        "+ Confusion matrix"
      ],
      "metadata": {
        "id": "bt-Qhh7y4LgD"
      }
    },
    {
      "cell_type": "code",
      "source": [
        "(\n",
        "    true_pred_class_lr\n",
        "    .map(lambda el: ((el), 1))\n",
        "    .reduceByKey(lambda x,y: x+y)\n",
        "    .take(4)\n",
        ")"
      ],
      "metadata": {
        "colab": {
          "base_uri": "https://localhost:8080/"
        },
        "id": "tb0ECiQ04NuV",
        "outputId": "11ea8d2e-eec5-4136-e93e-e700f53409a9"
      },
      "execution_count": 57,
      "outputs": [
        {
          "output_type": "execute_result",
          "data": {
            "text/plain": [
              "[((0.0, 0.0), 4983), ((1.0, 1.0), 2155), ((1.0, 0.0), 2471), ((0.0, 1.0), 201)]"
            ]
          },
          "metadata": {},
          "execution_count": 57
        }
      ]
    },
    {
      "cell_type": "code",
      "source": [
        "(\n",
        "    true_pred_class_svm\n",
        "    .map(lambda el: ((el), 1))\n",
        "    .reduceByKey(lambda x,y: x+y)\n",
        "    .take(4)\n",
        ")"
      ],
      "metadata": {
        "colab": {
          "base_uri": "https://localhost:8080/"
        },
        "id": "ciMrb7kq4Qf8",
        "outputId": "3895ea47-2501-4bad-9ea5-fe7d0e480e60"
      },
      "execution_count": 58,
      "outputs": [
        {
          "output_type": "execute_result",
          "data": {
            "text/plain": [
              "[((0.0, 0.0), 4848), ((1.0, 1.0), 2122), ((1.0, 0.0), 2606), ((0.0, 1.0), 234)]"
            ]
          },
          "metadata": {},
          "execution_count": 58
        }
      ]
    }
  ]
}