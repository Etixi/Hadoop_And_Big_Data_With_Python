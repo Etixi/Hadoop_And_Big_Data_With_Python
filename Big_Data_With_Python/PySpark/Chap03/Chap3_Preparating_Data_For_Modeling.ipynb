{
  "nbformat": 4,
  "nbformat_minor": 0,
  "metadata": {
    "colab": {
      "provenance": []
    },
    "kernelspec": {
      "name": "python3",
      "display_name": "Python 3"
    },
    "language_info": {
      "name": "python"
    }
  },
  "cells": [
    {
      "cell_type": "markdown",
      "source": [
        "### **Mise En Garde: Certaines méthodes sont exploitables en fonction de la version de Python que vous ustilisez**"
      ],
      "metadata": {
        "id": "K4r2Lboba8ns"
      }
    },
    {
      "cell_type": "code",
      "execution_count": null,
      "metadata": {
        "id": "EpDtSHaLQ_aB"
      },
      "outputs": [],
      "source": [
        "!pip install pyspark"
      ]
    },
    {
      "cell_type": "code",
      "source": [
        "import pyspark\n",
        "print(f\"{pyspark.__version__}\")"
      ],
      "metadata": {
        "colab": {
          "base_uri": "https://localhost:8080/"
        },
        "id": "9SG-QOW7Rszk",
        "outputId": "283d0619-55f9-4329-ce6b-8d20f75ac9f5"
      },
      "execution_count": 2,
      "outputs": [
        {
          "output_type": "stream",
          "name": "stdout",
          "text": [
            "3.5.0\n"
          ]
        }
      ]
    },
    {
      "cell_type": "code",
      "source": [
        "import os\n",
        "os.listdir(os.getcwd())"
      ],
      "metadata": {
        "colab": {
          "base_uri": "https://localhost:8080/"
        },
        "id": "mpjcWW7slRvc",
        "outputId": "cff919cd-e600-4b95-b7ad-ea51b7412488"
      },
      "execution_count": 3,
      "outputs": [
        {
          "output_type": "execute_result",
          "data": {
            "text/plain": [
              "['.config', 'sample_data']"
            ]
          },
          "metadata": {},
          "execution_count": 3
        }
      ]
    },
    {
      "cell_type": "markdown",
      "source": [
        "### **Point d'entrée : SparkContext**"
      ],
      "metadata": {
        "id": "IdTZ6rUGSCz9"
      }
    },
    {
      "cell_type": "code",
      "source": [
        "sc = pyspark.SparkContext()\n",
        "\n",
        "# Verifier si SparkContext est valide\n",
        "print(sc)"
      ],
      "metadata": {
        "colab": {
          "base_uri": "https://localhost:8080/"
        },
        "id": "flxAK3V6SWv0",
        "outputId": "9bc3b54f-9160-462e-8b94-499c780fa7b1"
      },
      "execution_count": 4,
      "outputs": [
        {
          "output_type": "stream",
          "name": "stdout",
          "text": [
            "<SparkContext master=local[*] appName=pyspark-shell>\n"
          ]
        }
      ]
    },
    {
      "cell_type": "code",
      "source": [
        "# Check the version of SparkContext in PySpark Shell\n",
        "print(\"La version de Spark Context dans PySpark Shell est : \", sc.version)\n",
        "\n",
        "# Display the Python version of SparkContext\n",
        "print(\"La version Python de Spark Context dans PySpark Shell est : \", sc.pythonVer)\n",
        "\n",
        "# Display the master of SparkContext\n",
        "print(\"Le maitre de Spark Context dans PySpark Shell est : \", sc.master)"
      ],
      "metadata": {
        "colab": {
          "base_uri": "https://localhost:8080/"
        },
        "id": "rnqToQ8dR_kh",
        "outputId": "63ae98ed-4685-4876-fc5e-4da1abfa8abb"
      },
      "execution_count": 5,
      "outputs": [
        {
          "output_type": "stream",
          "name": "stdout",
          "text": [
            "La version de Spark Context dans PySpark Shell est :  3.5.0\n",
            "La version Python de Spark Context dans PySpark Shell est :  3.10\n",
            "Le maitre de Spark Context dans PySpark Shell est :  local[*]\n"
          ]
        }
      ]
    },
    {
      "cell_type": "markdown",
      "source": [
        "### **Some Data**"
      ],
      "metadata": {
        "id": "rMcJlKc8Ttnq"
      }
    },
    {
      "cell_type": "markdown",
      "source": [
        "**SparkSession : Point d'entrée pour les Dataframes**"
      ],
      "metadata": {
        "id": "W75fLqfq3uGd"
      }
    },
    {
      "cell_type": "code",
      "source": [
        "from pyspark.sql.session import SparkSession\n",
        "spark = SparkSession(sc)"
      ],
      "metadata": {
        "id": "GaTvbfT03lnm"
      },
      "execution_count": 6,
      "outputs": []
    },
    {
      "cell_type": "code",
      "source": [
        "dirty_data = spark.createDataFrame([\n",
        "          (1,'Porsche','Boxster S','Turbo',2.5,4,22,None)\n",
        "        , (2,'Aston Martin','Vanquish','Aspirated',6.0,12,16,None)\n",
        "        , (3,'Porsche','911 Carrera 4S Cabriolet','Turbo',3.0,6,24,None)\n",
        "        , (3,'General Motors','SPARK ACTIV','Aspirated',1.4,None,32,None)\n",
        "        , (5,'BMW','COOPER S HARDTOP 2 DOOR','Turbo',2.0,4,26,None)\n",
        "        , (6,'BMW','330i','Turbo',2.0,None,27,None)\n",
        "        , (7,'BMW','440i Coupe','Turbo',3.0,6,23,None)\n",
        "        , (8,'BMW','440i Coupe','Turbo',3.0,6,23,None)\n",
        "        , (9,'Mercedes-Benz',None,None,None,None,27,None)\n",
        "        , (10,'Mercedes-Benz','CLS 550','Turbo',4.7,8,21,79231)\n",
        "        , (11,'Volkswagen','GTI','Turbo',2.0,4,None,None)\n",
        "        , (12,'Ford Motor Company','FUSION AWD','Turbo',2.7,6,20,None)\n",
        "        , (13,'Nissan','Q50 AWD RED SPORT','Turbo',3.0,6,22,None)\n",
        "        , (14,'Nissan','Q70 AWD','Aspirated',5.6,8,18,None)\n",
        "        , (15,'Kia','Stinger RWD','Turbo',2.0,4,25,None)\n",
        "        , (16,'Toyota','CAMRY HYBRID LE','Aspirated',2.5,4,46,None)\n",
        "        , (16,'Toyota','CAMRY HYBRID LE','Aspirated',2.5,4,46,None)\n",
        "        , (18,'FCA US LLC','300','Aspirated',3.6,6,23,None)\n",
        "        , (19,'Hyundai','G80 AWD','Turbo',3.3,6,20,None)\n",
        "        , (20,'Hyundai','G80 AWD','Turbo',3.3,6,20,None)\n",
        "        , (21,'BMW','X5 M','Turbo',4.4,8,18,121231)\n",
        "        , (22,'GE','K1500 SUBURBAN 4WD','Aspirated',5.3,8,18,None)\n",
        "    ], ['Id','Manufacturer','Model','EngineType','Displacement',\n",
        "        'Cylinders','FuelEconomy','MSRP'])"
      ],
      "metadata": {
        "id": "O_1cXodgTs5d"
      },
      "execution_count": 7,
      "outputs": []
    },
    {
      "cell_type": "markdown",
      "source": [
        "### **Handle Duplicates**"
      ],
      "metadata": {
        "id": "HcTzEvtPNXfO"
      }
    },
    {
      "cell_type": "markdown",
      "source": [
        "+ Exact duplicates"
      ],
      "metadata": {
        "id": "TJ3SMe8a3w2P"
      }
    },
    {
      "cell_type": "code",
      "source": [
        "# do we have any rows that are duplicates?\n",
        "dirty_data.count(), dirty_data.distinct().count()"
      ],
      "metadata": {
        "colab": {
          "base_uri": "https://localhost:8080/"
        },
        "id": "zB0nM2FANzeQ",
        "outputId": "058cbe01-7aba-4614-eb7f-38a92e1c680f"
      },
      "execution_count": 8,
      "outputs": [
        {
          "output_type": "execute_result",
          "data": {
            "text/plain": [
              "(22, 21)"
            ]
          },
          "metadata": {},
          "execution_count": 8
        }
      ]
    },
    {
      "cell_type": "code",
      "source": [
        "# What row is duplicated\n",
        "\n",
        "(\n",
        "    dirty_data\n",
        "    .groupby(dirty_data.columns)\n",
        "    .count()\n",
        "    .filter('count > 1')\n",
        "    .show()\n",
        ")"
      ],
      "metadata": {
        "colab": {
          "base_uri": "https://localhost:8080/"
        },
        "id": "OI9BGy1BUBsc",
        "outputId": "bc6385db-e69a-49a6-9376-40624168a4b1"
      },
      "execution_count": 9,
      "outputs": [
        {
          "output_type": "stream",
          "name": "stdout",
          "text": [
            "+---+------------+---------------+----------+------------+---------+-----------+----+-----+\n",
            "| Id|Manufacturer|          Model|EngineType|Displacement|Cylinders|FuelEconomy|MSRP|count|\n",
            "+---+------------+---------------+----------+------------+---------+-----------+----+-----+\n",
            "| 16|      Toyota|CAMRY HYBRID LE| Aspirated|         2.5|        4|         46|NULL|    2|\n",
            "+---+------------+---------------+----------+------------+---------+-----------+----+-----+\n",
            "\n"
          ]
        }
      ]
    },
    {
      "cell_type": "code",
      "source": [
        "# remove the duplicated rows\n",
        "full_removed = dirty_data.dropDuplicates()\n",
        "full_removed.count()"
      ],
      "metadata": {
        "colab": {
          "base_uri": "https://localhost:8080/"
        },
        "id": "S-W2X6VXUJTV",
        "outputId": "65502469-9dec-4be6-830f-4c496e0ea68e"
      },
      "execution_count": 10,
      "outputs": [
        {
          "output_type": "execute_result",
          "data": {
            "text/plain": [
              "21"
            ]
          },
          "metadata": {},
          "execution_count": 10
        }
      ]
    },
    {
      "cell_type": "markdown",
      "source": [
        "### **Only ID differs**"
      ],
      "metadata": {
        "id": "YbxkNzYSKI3t"
      }
    },
    {
      "cell_type": "code",
      "source": [
        "# count of rows\n",
        "no_ids = (\n",
        "    full_removed\n",
        "    .select([col for col in full_removed.columns if col != 'Id'])\n",
        ")\n",
        "\n",
        "no_ids.count(), no_ids.distinct().count()"
      ],
      "metadata": {
        "colab": {
          "base_uri": "https://localhost:8080/"
        },
        "id": "JRpWn-RvKHyj",
        "outputId": "c800e52d-e5d1-4232-d231-f1a09684ec45"
      },
      "execution_count": 11,
      "outputs": [
        {
          "output_type": "execute_result",
          "data": {
            "text/plain": [
              "(21, 19)"
            ]
          },
          "metadata": {},
          "execution_count": 11
        }
      ]
    },
    {
      "cell_type": "code",
      "source": [
        "# what rows is duplicated?\n",
        "\n",
        "{\n",
        "    full_removed\n",
        "    .groupBy([col for col in full_removed.columns if col != 'Id'])\n",
        "    .count()\n",
        "    .filter('count > 1')\n",
        "    .show()\n",
        "}"
      ],
      "metadata": {
        "colab": {
          "base_uri": "https://localhost:8080/"
        },
        "id": "SxpjpILnOdbY",
        "outputId": "47a49916-4986-4726-db57-67e8d69afcae"
      },
      "execution_count": 12,
      "outputs": [
        {
          "output_type": "stream",
          "name": "stdout",
          "text": [
            "+------------+----------+----------+------------+---------+-----------+----+-----+\n",
            "|Manufacturer|     Model|EngineType|Displacement|Cylinders|FuelEconomy|MSRP|count|\n",
            "+------------+----------+----------+------------+---------+-----------+----+-----+\n",
            "|         BMW|440i Coupe|     Turbo|         3.0|        6|         23|NULL|    2|\n",
            "|     Hyundai|   G80 AWD|     Turbo|         3.3|        6|         20|NULL|    2|\n",
            "+------------+----------+----------+------------+---------+-----------+----+-----+\n",
            "\n"
          ]
        },
        {
          "output_type": "execute_result",
          "data": {
            "text/plain": [
              "{None}"
            ]
          },
          "metadata": {},
          "execution_count": 12
        }
      ]
    },
    {
      "cell_type": "code",
      "source": [
        "# remove the duplicated record\n",
        "id_removed = full_removed.dropDuplicates(\n",
        "    subset = [col for col in  full_removed.columns if col != 'Id']\n",
        ")"
      ],
      "metadata": {
        "id": "-PZXuCMXOhnJ"
      },
      "execution_count": 13,
      "outputs": []
    },
    {
      "cell_type": "code",
      "source": [
        "# count\n",
        "id_removed.count()"
      ],
      "metadata": {
        "colab": {
          "base_uri": "https://localhost:8080/"
        },
        "id": "HTHA3dQ3OvFz",
        "outputId": "54b466e0-f2ae-430c-ad6e-e71536a5318c"
      },
      "execution_count": 14,
      "outputs": [
        {
          "output_type": "execute_result",
          "data": {
            "text/plain": [
              "19"
            ]
          },
          "metadata": {},
          "execution_count": 14
        }
      ]
    },
    {
      "cell_type": "markdown",
      "source": [
        "### **Duplicates IDs**\n"
      ],
      "metadata": {
        "id": "11JC5-AqV6x_"
      }
    },
    {
      "cell_type": "code",
      "source": [
        "# are there any duplicated IDs?\n",
        "\n",
        "import pyspark.sql.functions as fn\n",
        "\n",
        "id_removed.agg(\n",
        "    fn.count('Id').alias('CountOfIDs'),\n",
        "    fn.countDistinct('Id').alias('countOfDistinctsIDs')\n",
        ").show()"
      ],
      "metadata": {
        "colab": {
          "base_uri": "https://localhost:8080/"
        },
        "id": "mL_4ExjeV95a",
        "outputId": "b86500b5-9c3d-426d-a9ed-53c952425801"
      },
      "execution_count": 19,
      "outputs": [
        {
          "output_type": "stream",
          "name": "stdout",
          "text": [
            "+----------+-------------------+\n",
            "|CountOfIDs|countOfDistinctsIDs|\n",
            "+----------+-------------------+\n",
            "|        19|                 18|\n",
            "+----------+-------------------+\n",
            "\n"
          ]
        }
      ]
    },
    {
      "cell_type": "code",
      "source": [
        "# what's duplicated?\n",
        "\n",
        "(\n",
        "    id_removed\n",
        "    .groupby('Id')\n",
        "    .count()\n",
        "    .filter('count > 1')\n",
        "    .show()\n",
        ")"
      ],
      "metadata": {
        "colab": {
          "base_uri": "https://localhost:8080/"
        },
        "id": "fOMsC92PWKFM",
        "outputId": "6d634f58-37da-4376-9fb2-b106a7fa39be"
      },
      "execution_count": 20,
      "outputs": [
        {
          "output_type": "stream",
          "name": "stdout",
          "text": [
            "+---+-----+\n",
            "| Id|count|\n",
            "+---+-----+\n",
            "|  3|    2|\n",
            "+---+-----+\n",
            "\n"
          ]
        }
      ]
    },
    {
      "cell_type": "code",
      "source": [
        "(\n",
        "    id_removed\n",
        "    .filter('Id=3')\n",
        "    .show()\n",
        ")"
      ],
      "metadata": {
        "colab": {
          "base_uri": "https://localhost:8080/"
        },
        "id": "m7MMpgc7WQH1",
        "outputId": "50252394-f6c6-48d4-b7b9-1d997a2d7acd"
      },
      "execution_count": 21,
      "outputs": [
        {
          "output_type": "stream",
          "name": "stdout",
          "text": [
            "+---+--------------+--------------------+----------+------------+---------+-----------+----+\n",
            "| Id|  Manufacturer|               Model|EngineType|Displacement|Cylinders|FuelEconomy|MSRP|\n",
            "+---+--------------+--------------------+----------+------------+---------+-----------+----+\n",
            "|  3|General Motors|         SPARK ACTIV| Aspirated|         1.4|     NULL|         32|NULL|\n",
            "|  3|       Porsche|911 Carrera 4S Ca...|     Turbo|         3.0|        6|         24|NULL|\n",
            "+---+--------------+--------------------+----------+------------+---------+-----------+----+\n",
            "\n"
          ]
        }
      ]
    },
    {
      "cell_type": "code",
      "source": [
        "new_id = (\n",
        "    id_removed\n",
        "    .select(\n",
        "        [fn.monotonically_increasing_id().alias('Id')] +\n",
        "        [col for col in id_removed.columns if col != 'Id']\n",
        "    )\n",
        ")\n",
        "\n",
        "new_id.show()"
      ],
      "metadata": {
        "colab": {
          "base_uri": "https://localhost:8080/"
        },
        "id": "cScO9vfZ7BMc",
        "outputId": "d6a07822-4374-43d0-dc56-3f65d5fe62db"
      },
      "execution_count": 22,
      "outputs": [
        {
          "output_type": "stream",
          "name": "stdout",
          "text": [
            "+---+------------------+--------------------+----------+------------+---------+-----------+------+\n",
            "| Id|      Manufacturer|               Model|EngineType|Displacement|Cylinders|FuelEconomy|  MSRP|\n",
            "+---+------------------+--------------------+----------+------------+---------+-----------+------+\n",
            "|  0|     Mercedes-Benz|             CLS 550|     Turbo|         4.7|        8|         21| 79231|\n",
            "|  1|               BMW|                X5 M|     Turbo|         4.4|        8|         18|121231|\n",
            "|  2|    General Motors|         SPARK ACTIV| Aspirated|         1.4|     NULL|         32|  NULL|\n",
            "|  3|     Mercedes-Benz|                NULL|      NULL|        NULL|     NULL|         27|  NULL|\n",
            "|  4|               BMW|COOPER S HARDTOP ...|     Turbo|         2.0|        4|         26|  NULL|\n",
            "|  5|      Aston Martin|            Vanquish| Aspirated|         6.0|       12|         16|  NULL|\n",
            "|  6|        Volkswagen|                 GTI|     Turbo|         2.0|        4|       NULL|  NULL|\n",
            "|  7|               BMW|                330i|     Turbo|         2.0|     NULL|         27|  NULL|\n",
            "|  8|           Porsche|           Boxster S|     Turbo|         2.5|        4|         22|  NULL|\n",
            "|  9|               BMW|          440i Coupe|     Turbo|         3.0|        6|         23|  NULL|\n",
            "| 10|           Porsche|911 Carrera 4S Ca...|     Turbo|         3.0|        6|         24|  NULL|\n",
            "| 11|Ford Motor Company|          FUSION AWD|     Turbo|         2.7|        6|         20|  NULL|\n",
            "| 12|               Kia|         Stinger RWD|     Turbo|         2.0|        4|         25|  NULL|\n",
            "| 13|        FCA US LLC|                 300| Aspirated|         3.6|        6|         23|  NULL|\n",
            "| 14|           Hyundai|             G80 AWD|     Turbo|         3.3|        6|         20|  NULL|\n",
            "| 15|            Nissan|   Q50 AWD RED SPORT|     Turbo|         3.0|        6|         22|  NULL|\n",
            "| 16|            Nissan|             Q70 AWD| Aspirated|         5.6|        8|         18|  NULL|\n",
            "| 17|            Toyota|     CAMRY HYBRID LE| Aspirated|         2.5|        4|         46|  NULL|\n",
            "| 18|                GE|  K1500 SUBURBAN 4WD| Aspirated|         5.3|        8|         18|  NULL|\n",
            "+---+------------------+--------------------+----------+------------+---------+-----------+------+\n",
            "\n"
          ]
        }
      ]
    },
    {
      "cell_type": "markdown",
      "source": [
        "### **Handling missing observations**\n",
        "\n",
        "#### **Missing observations per row**"
      ],
      "metadata": {
        "id": "MDE_I8QhQV-v"
      }
    },
    {
      "cell_type": "code",
      "source": [
        "(\n",
        "    spark.createDataFrame(\n",
        "        new_id.rdd.map(\n",
        "            lambda row: (\n",
        "                row['Id'],\n",
        "                sum([c == None for c in row])\n",
        "            )\n",
        "        )\n",
        "        .filter(lambda e1: e1[1] > 1)\n",
        "        .collect(),\n",
        "        ['Id', 'countMissing']\n",
        "    )\n",
        "    .orderBy('CountMissing', ascending=False)\n",
        "    .show()\n",
        ")"
      ],
      "metadata": {
        "colab": {
          "base_uri": "https://localhost:8080/"
        },
        "id": "qFdfrFqPWTeH",
        "outputId": "9be02791-0c76-457b-e3da-e3c1590df131"
      },
      "execution_count": 23,
      "outputs": [
        {
          "output_type": "stream",
          "name": "stdout",
          "text": [
            "+---+------------+\n",
            "| Id|countMissing|\n",
            "+---+------------+\n",
            "|  3|           5|\n",
            "|  6|           2|\n",
            "|  2|           2|\n",
            "|  7|           2|\n",
            "+---+------------+\n",
            "\n"
          ]
        }
      ]
    },
    {
      "cell_type": "code",
      "source": [
        "(\n",
        "    new_id\n",
        "    .where('Id == 3')\n",
        "    .show()\n",
        ")"
      ],
      "metadata": {
        "colab": {
          "base_uri": "https://localhost:8080/"
        },
        "id": "jjUwuLXTQ9Jn",
        "outputId": "3cf9e80a-1859-4f31-909c-cd412d8183d7"
      },
      "execution_count": 24,
      "outputs": [
        {
          "output_type": "stream",
          "name": "stdout",
          "text": [
            "+---+-------------+-----+----------+------------+---------+-----------+----+\n",
            "| Id| Manufacturer|Model|EngineType|Displacement|Cylinders|FuelEconomy|MSRP|\n",
            "+---+-------------+-----+----------+------------+---------+-----------+----+\n",
            "|  3|Mercedes-Benz| NULL|      NULL|        NULL|     NULL|         27|NULL|\n",
            "+---+-------------+-----+----------+------------+---------+-----------+----+\n",
            "\n"
          ]
        }
      ]
    },
    {
      "cell_type": "code",
      "source": [
        "merc_out = new_id.dropna(thresh=4)\n",
        "new_id.count(), merc_out.count()"
      ],
      "metadata": {
        "colab": {
          "base_uri": "https://localhost:8080/"
        },
        "id": "UjByl1hPRIp_",
        "outputId": "b506d94a-f165-4ad6-d018-0ceb7e5d0b20"
      },
      "execution_count": 25,
      "outputs": [
        {
          "output_type": "execute_result",
          "data": {
            "text/plain": [
              "(19, 18)"
            ]
          },
          "metadata": {},
          "execution_count": 25
        }
      ]
    },
    {
      "cell_type": "code",
      "source": [
        "(\n",
        "    merc_out\n",
        "    .where('Id == 3')\n",
        "    .show()\n",
        ")"
      ],
      "metadata": {
        "colab": {
          "base_uri": "https://localhost:8080/"
        },
        "id": "mIekkROAXAh2",
        "outputId": "c7b3ff9b-6b74-4718-f419-0ae5f100766e"
      },
      "execution_count": 26,
      "outputs": [
        {
          "output_type": "stream",
          "name": "stdout",
          "text": [
            "+---+------------+-----+----------+------------+---------+-----------+----+\n",
            "| Id|Manufacturer|Model|EngineType|Displacement|Cylinders|FuelEconomy|MSRP|\n",
            "+---+------------+-----+----------+------------+---------+-----------+----+\n",
            "+---+------------+-----+----------+------------+---------+-----------+----+\n",
            "\n"
          ]
        }
      ]
    },
    {
      "cell_type": "markdown",
      "source": [
        "### **Missing observations per column**"
      ],
      "metadata": {
        "id": "DGDin5cr9xV8"
      }
    },
    {
      "cell_type": "code",
      "source": [
        "for k, v in sorted(\n",
        "    merc_out.agg(*[\n",
        "        (1- (fn.count(c) / fn.count('*')))\n",
        "              .alias(c + 'miss')\n",
        "        for c in merc_out.columns\n",
        "    ])\n",
        "    .collect()[0]\n",
        "    .asDict()\n",
        "    .items(),\n",
        "    key=lambda e1 : e1[1],\n",
        "    reverse=True\n",
        "):\n",
        "  print(k, v)"
      ],
      "metadata": {
        "colab": {
          "base_uri": "https://localhost:8080/"
        },
        "id": "lc2D_1gZXI5v",
        "outputId": "c277cb9a-8c13-4e09-c11d-5eeea31259d9"
      },
      "execution_count": 27,
      "outputs": [
        {
          "output_type": "stream",
          "name": "stdout",
          "text": [
            "MSRPmiss 0.8888888888888888\n",
            "Cylindersmiss 0.11111111111111116\n",
            "FuelEconomymiss 0.05555555555555558\n",
            "Idmiss 0.0\n",
            "Manufacturermiss 0.0\n",
            "Modelmiss 0.0\n",
            "EngineTypemiss 0.0\n",
            "Displacementmiss 0.0\n"
          ]
        }
      ]
    },
    {
      "cell_type": "code",
      "source": [
        "no_MSRP = merc_out.select([col for col in new_id.columns if col != 'MSRP'])\n",
        "no_MSRP.show()"
      ],
      "metadata": {
        "colab": {
          "base_uri": "https://localhost:8080/"
        },
        "id": "b2dhtdozVIiR",
        "outputId": "e5ac8802-e4dd-4ef4-d30f-576ba48827d9"
      },
      "execution_count": 29,
      "outputs": [
        {
          "output_type": "stream",
          "name": "stdout",
          "text": [
            "+---+------------------+--------------------+----------+------------+---------+-----------+\n",
            "| Id|      Manufacturer|               Model|EngineType|Displacement|Cylinders|FuelEconomy|\n",
            "+---+------------------+--------------------+----------+------------+---------+-----------+\n",
            "|  0|     Mercedes-Benz|             CLS 550|     Turbo|         4.7|        8|         21|\n",
            "|  1|               BMW|                X5 M|     Turbo|         4.4|        8|         18|\n",
            "|  2|    General Motors|         SPARK ACTIV| Aspirated|         1.4|     NULL|         32|\n",
            "|  4|               BMW|COOPER S HARDTOP ...|     Turbo|         2.0|        4|         26|\n",
            "|  5|      Aston Martin|            Vanquish| Aspirated|         6.0|       12|         16|\n",
            "|  6|        Volkswagen|                 GTI|     Turbo|         2.0|        4|       NULL|\n",
            "|  7|               BMW|                330i|     Turbo|         2.0|     NULL|         27|\n",
            "|  8|           Porsche|           Boxster S|     Turbo|         2.5|        4|         22|\n",
            "|  9|               BMW|          440i Coupe|     Turbo|         3.0|        6|         23|\n",
            "| 10|           Porsche|911 Carrera 4S Ca...|     Turbo|         3.0|        6|         24|\n",
            "| 11|Ford Motor Company|          FUSION AWD|     Turbo|         2.7|        6|         20|\n",
            "| 12|               Kia|         Stinger RWD|     Turbo|         2.0|        4|         25|\n",
            "| 13|        FCA US LLC|                 300| Aspirated|         3.6|        6|         23|\n",
            "| 14|           Hyundai|             G80 AWD|     Turbo|         3.3|        6|         20|\n",
            "| 15|            Nissan|   Q50 AWD RED SPORT|     Turbo|         3.0|        6|         22|\n",
            "| 16|            Nissan|             Q70 AWD| Aspirated|         5.6|        8|         18|\n",
            "| 17|            Toyota|     CAMRY HYBRID LE| Aspirated|         2.5|        4|         46|\n",
            "| 18|                GE|  K1500 SUBURBAN 4WD| Aspirated|         5.3|        8|         18|\n",
            "+---+------------------+--------------------+----------+------------+---------+-----------+\n",
            "\n"
          ]
        }
      ]
    },
    {
      "cell_type": "code",
      "source": [
        "multipliers = (\n",
        "    no_MSRP\n",
        "    .agg (\n",
        "        fn.mean(\n",
        "            fn.col('FuelEconomy') /\n",
        "            (\n",
        "                fn.col('Displacement') * fn.col('Cylinders')\n",
        "            )\n",
        "        ).alias('FuelEconomy'),\n",
        "        fn.mean(\n",
        "            fn.col('Cylinders') /\n",
        "            fn.col('Displacement')\n",
        "        ).alias('Cylinders')\n",
        "    )\n",
        ").toPandas().to_dict('records')[0]\n",
        "\n",
        "multipliers"
      ],
      "metadata": {
        "colab": {
          "base_uri": "https://localhost:8080/"
        },
        "id": "LR_QGdTKXv_f",
        "outputId": "c1a2b8bf-9444-4624-8656-82e9a4aac498"
      },
      "execution_count": 31,
      "outputs": [
        {
          "output_type": "execute_result",
          "data": {
            "text/plain": [
              "{'FuelEconomy': 1.4957485048359977, 'Cylinders': 1.8353365984789107}"
            ]
          },
          "metadata": {},
          "execution_count": 31
        }
      ]
    },
    {
      "cell_type": "code",
      "source": [
        "imputed = (\n",
        "    no_MSRP\n",
        "    .withColumn('FuelEconomy', fn.col('FuelEconomy') / fn.col('Displacement') / fn.col('Cylinders'))\n",
        "    .withColumn('Cylinders', fn.col('Cylinders') / fn.col('Displacement'))\n",
        "    .fillna(multipliers)\n",
        "    .withColumn('Cylinders', (fn.col('Cylinders') * fn.col('Displacement')).cast('integer'))\n",
        "    .withColumn('FuelEconomy', fn.col('FuelEconomy') * fn.col('Displacement') * fn.col('Cylinders'))\n",
        ")\n",
        "\n",
        "imputed.show()"
      ],
      "metadata": {
        "colab": {
          "base_uri": "https://localhost:8080/"
        },
        "id": "zshM2dY0XzuG",
        "outputId": "22f1c96e-eb29-4e09-e43c-cdc13fc55a93"
      },
      "execution_count": 32,
      "outputs": [
        {
          "output_type": "stream",
          "name": "stdout",
          "text": [
            "+---+------------------+--------------------+----------+------------+---------+------------------+\n",
            "| Id|      Manufacturer|               Model|EngineType|Displacement|Cylinders|       FuelEconomy|\n",
            "+---+------------------+--------------------+----------+------------+---------+------------------+\n",
            "|  0|     Mercedes-Benz|             CLS 550|     Turbo|         4.7|        8|              21.0|\n",
            "|  1|               BMW|                X5 M|     Turbo|         4.4|        8|              18.0|\n",
            "|  2|    General Motors|         SPARK ACTIV| Aspirated|         1.4|        2|4.1880958135407935|\n",
            "|  4|               BMW|COOPER S HARDTOP ...|     Turbo|         2.0|        4|              26.0|\n",
            "|  5|      Aston Martin|            Vanquish| Aspirated|         6.0|       12|              16.0|\n",
            "|  6|        Volkswagen|                 GTI|     Turbo|         2.0|        4|11.965988038687982|\n",
            "|  7|               BMW|                330i|     Turbo|         2.0|        3| 8.974491029015986|\n",
            "|  8|           Porsche|           Boxster S|     Turbo|         2.5|        4|              22.0|\n",
            "|  9|               BMW|          440i Coupe|     Turbo|         3.0|        6|23.000000000000004|\n",
            "| 10|           Porsche|911 Carrera 4S Ca...|     Turbo|         3.0|        6|              24.0|\n",
            "| 11|Ford Motor Company|          FUSION AWD|     Turbo|         2.7|        5|16.666666666666668|\n",
            "| 12|               Kia|         Stinger RWD|     Turbo|         2.0|        4|              25.0|\n",
            "| 13|        FCA US LLC|                 300| Aspirated|         3.6|        6|              23.0|\n",
            "| 14|           Hyundai|             G80 AWD|     Turbo|         3.3|        6|              20.0|\n",
            "| 15|            Nissan|   Q50 AWD RED SPORT|     Turbo|         3.0|        6|21.999999999999996|\n",
            "| 16|            Nissan|             Q70 AWD| Aspirated|         5.6|        8|              18.0|\n",
            "| 17|            Toyota|     CAMRY HYBRID LE| Aspirated|         2.5|        4|              46.0|\n",
            "| 18|                GE|  K1500 SUBURBAN 4WD| Aspirated|         5.3|        8|              18.0|\n",
            "+---+------------------+--------------------+----------+------------+---------+------------------+\n",
            "\n"
          ]
        }
      ]
    },
    {
      "cell_type": "markdown",
      "source": [
        "### **Handling Outliers**"
      ],
      "metadata": {
        "id": "plnz4Y4UJDuU"
      }
    },
    {
      "cell_type": "code",
      "source": [
        "features = ['Displacement', 'Cylinders', 'FuelEconomy']\n",
        "quantiles = [0.25, 0.75]\n",
        "\n",
        "cut_off_points = []\n",
        "\n",
        "for feature in features:\n",
        "  quants = imputed.approxQuantile(feature, quantiles, 0.05)\n",
        "\n",
        "  IQR = quants[1] - quants[0]\n",
        "  cut_off_points.append((feature, [\n",
        "      quants[0] - 1.5 * IQR,\n",
        "      quants[1] + 1.5 * IQR,\n",
        "  ]))\n",
        "\n",
        "cut_off_points = dict(cut_off_points)\n",
        "\n",
        "\n",
        "outliers = imputed.select(*['id'] + [\n",
        "      (\n",
        "          (imputed[f] < cut_off_points[f][0]) |\n",
        "          (imputed[f] > cut_off_points[f][1])\n",
        "      ).alias(f + '_o') for f in features\n",
        "  ])\n",
        "\n",
        "outliers.show()"
      ],
      "metadata": {
        "colab": {
          "base_uri": "https://localhost:8080/"
        },
        "id": "bDel2VGegQFM",
        "outputId": "1581fa63-a437-4a09-c1ec-b01f6e19d4aa"
      },
      "execution_count": 35,
      "outputs": [
        {
          "output_type": "stream",
          "name": "stdout",
          "text": [
            "+---+--------------+-----------+-------------+\n",
            "| id|Displacement_o|Cylinders_o|FuelEconomy_o|\n",
            "+---+--------------+-----------+-------------+\n",
            "|  0|         false|      false|        false|\n",
            "|  1|         false|      false|        false|\n",
            "|  2|         false|      false|         true|\n",
            "|  4|         false|      false|        false|\n",
            "|  5|         false|       true|        false|\n",
            "|  6|         false|      false|        false|\n",
            "|  7|         false|      false|        false|\n",
            "|  8|         false|      false|        false|\n",
            "|  9|         false|      false|        false|\n",
            "| 10|         false|      false|        false|\n",
            "| 11|         false|      false|        false|\n",
            "| 12|         false|      false|        false|\n",
            "| 13|         false|      false|        false|\n",
            "| 14|         false|      false|        false|\n",
            "| 15|         false|      false|        false|\n",
            "| 16|         false|      false|        false|\n",
            "| 17|         false|      false|         true|\n",
            "| 18|         false|      false|        false|\n",
            "+---+--------------+-----------+-------------+\n",
            "\n"
          ]
        }
      ]
    },
    {
      "cell_type": "code",
      "source": [
        "with_outliers_flag = imputed.join(outliers, on='Id')\n",
        "\n",
        "(\n",
        "    with_outliers_flag\n",
        "    .filter('FuelEconomy_o')\n",
        "    .select('Id', 'Manufacturer', 'Model', 'FuelEconomy')\n",
        "    .show()\n",
        ")"
      ],
      "metadata": {
        "colab": {
          "base_uri": "https://localhost:8080/"
        },
        "id": "7EMUtd7-bWsY",
        "outputId": "1addf50e-5717-479b-c016-eb980a5c081c"
      },
      "execution_count": 36,
      "outputs": [
        {
          "output_type": "stream",
          "name": "stdout",
          "text": [
            "+---+--------------+---------------+------------------+\n",
            "| Id|  Manufacturer|          Model|       FuelEconomy|\n",
            "+---+--------------+---------------+------------------+\n",
            "|  2|General Motors|    SPARK ACTIV|4.1880958135407935|\n",
            "| 17|        Toyota|CAMRY HYBRID LE|              46.0|\n",
            "+---+--------------+---------------+------------------+\n",
            "\n"
          ]
        }
      ]
    },
    {
      "cell_type": "code",
      "source": [
        "no_outliers = (\n",
        "    with_outliers_flag\n",
        "    .filter('!FuelEconomy_o')\n",
        "    .select(imputed.columns)\n",
        ")"
      ],
      "metadata": {
        "id": "5AgpMqM0bd2e"
      },
      "execution_count": 37,
      "outputs": []
    },
    {
      "cell_type": "markdown",
      "source": [
        "### **Exploring Descriptive Statistics**"
      ],
      "metadata": {
        "id": "ehsrckPFLllQ"
      }
    },
    {
      "cell_type": "code",
      "source": [
        "descriptive_stats = no_outliers.describe(features)\n",
        "descriptive_stats.show()"
      ],
      "metadata": {
        "colab": {
          "base_uri": "https://localhost:8080/"
        },
        "id": "vg-Oe1hXml6S",
        "outputId": "9d34ee4b-1a5b-48d3-fcda-acafcb72dd07"
      },
      "execution_count": 38,
      "outputs": [
        {
          "output_type": "stream",
          "name": "stdout",
          "text": [
            "+-------+------------------+-----------------+------------------+\n",
            "|summary|      Displacement|        Cylinders|       FuelEconomy|\n",
            "+-------+------------------+-----------------+------------------+\n",
            "|  count|                16|               16|                16|\n",
            "|   mean|           3.44375|            6.125|19.600446608398162|\n",
            "| stddev|1.3549753995306826|2.276693508870558|4.6666477673737505|\n",
            "|    min|               2.0|                3| 8.974491029015986|\n",
            "|    max|               6.0|               12|              26.0|\n",
            "+-------+------------------+-----------------+------------------+\n",
            "\n"
          ]
        }
      ]
    },
    {
      "cell_type": "code",
      "source": [
        "descriptive_stats_all = no_outliers.describe()\n",
        "descriptive_stats_all.show()"
      ],
      "metadata": {
        "colab": {
          "base_uri": "https://localhost:8080/"
        },
        "id": "xy9te4AJmpXS",
        "outputId": "b471bf38-6aad-40bb-9646-0bd3baf22d4d"
      },
      "execution_count": 39,
      "outputs": [
        {
          "output_type": "stream",
          "name": "stdout",
          "text": [
            "+-------+-----------------+------------+-----+----------+------------------+-----------------+------------------+\n",
            "|summary|               Id|Manufacturer|Model|EngineType|      Displacement|        Cylinders|       FuelEconomy|\n",
            "+-------+-----------------+------------+-----+----------+------------------+-----------------+------------------+\n",
            "|  count|               16|          16|   16|        16|                16|               16|                16|\n",
            "|   mean|           9.3125|        NULL|300.0|      NULL|           3.44375|            6.125|19.600446608398162|\n",
            "| stddev|5.287958017987662|        NULL| NULL|      NULL|1.3549753995306826|2.276693508870558|4.6666477673737505|\n",
            "|    min|                0|Aston Martin|  300| Aspirated|               2.0|                3| 8.974491029015986|\n",
            "|    max|               18|  Volkswagen| X5 M|     Turbo|               6.0|               12|              26.0|\n",
            "+-------+-----------------+------------+-----+----------+------------------+-----------------+------------------+\n",
            "\n"
          ]
        }
      ]
    },
    {
      "cell_type": "code",
      "source": [
        "(\n",
        "    no_outliers\n",
        "    .select(features)\n",
        "    .groupBy('Cylinders')\n",
        "    .agg(*[\n",
        "        fn.count('*').alias('Count'),\n",
        "        fn.mean('FuelEconomy').alias('MPG_avg'),\n",
        "        fn.mean('Displacement').alias('Disp_avg'),\n",
        "        fn.stddev('FuelEconomy').alias('MPG_stdev'),\n",
        "        fn.stddev('Displacement').alias('Disp_stdev')\n",
        "    ])\n",
        "    .orderBy('Cylinders')\n",
        ").show()"
      ],
      "metadata": {
        "colab": {
          "base_uri": "https://localhost:8080/"
        },
        "id": "ufmO4_UKoGzM",
        "outputId": "494fa7e3-6ced-4288-bcb6-49e6fc10ac14"
      },
      "execution_count": 40,
      "outputs": [
        {
          "output_type": "stream",
          "name": "stdout",
          "text": [
            "+---------+-----+------------------+------------------+------------------+-------------------+\n",
            "|Cylinders|Count|           MPG_avg|          Disp_avg|         MPG_stdev|         Disp_stdev|\n",
            "+---------+-----+------------------+------------------+------------------+-------------------+\n",
            "|        3|    1| 8.974491029015986|               2.0|              NULL|               NULL|\n",
            "|        4|    4|21.241497009671995|             2.125| 6.413009924998987|0.24999999999999997|\n",
            "|        5|    1|16.666666666666668|               2.7|              NULL|               NULL|\n",
            "|        6|    5|              22.4|3.1799999999999997|1.5165750888103096| 0.2683281572999748|\n",
            "|        8|    4|             18.75|               5.0|               1.5| 0.5477225575051655|\n",
            "|       12|    1|              16.0|               6.0|              NULL|               NULL|\n",
            "+---------+-----+------------------+------------------+------------------+-------------------+\n",
            "\n"
          ]
        }
      ]
    },
    {
      "cell_type": "markdown",
      "source": [
        "### **Computing correlations**"
      ],
      "metadata": {
        "id": "JTcT88PgNXyK"
      }
    },
    {
      "cell_type": "code",
      "source": [
        "(\n",
        "    no_outliers\n",
        "    .corr('Cylinders', 'Displacement')\n",
        ")"
      ],
      "metadata": {
        "colab": {
          "base_uri": "https://localhost:8080/"
        },
        "id": "zubLomZUm1dc",
        "outputId": "4602e5f2-a1c3-4911-faa0-df6b63ce07a1"
      },
      "execution_count": 41,
      "outputs": [
        {
          "output_type": "execute_result",
          "data": {
            "text/plain": [
              "0.9381829964408112"
            ]
          },
          "metadata": {},
          "execution_count": 41
        }
      ]
    },
    {
      "cell_type": "code",
      "source": [
        "n_features = len(features)\n",
        "\n",
        "corr = []\n",
        "\n",
        "for i in range(0, n_features):\n",
        "  temp = [None] * i\n",
        "\n",
        "  for j in range(i, n_features):\n",
        "    temp.append(no_outliers.corr(features[i], features[j]))\n",
        "  corr.append([features[i]] + temp)\n",
        "\n",
        "correlations = spark.createDataFrame(corr, ['Column'] + features)\n",
        "\n",
        "correlations.show()"
      ],
      "metadata": {
        "colab": {
          "base_uri": "https://localhost:8080/"
        },
        "id": "cEyROADrNmdv",
        "outputId": "d0233cc8-8961-41d0-a7ea-a0dab6a1faf9"
      },
      "execution_count": 42,
      "outputs": [
        {
          "output_type": "stream",
          "name": "stdout",
          "text": [
            "+------------+------------+------------------+--------------------+\n",
            "|      Column|Displacement|         Cylinders|         FuelEconomy|\n",
            "+------------+------------+------------------+--------------------+\n",
            "|Displacement|         1.0|0.9381829964408112|-0.10757908872387667|\n",
            "|   Cylinders|        NULL|               1.0| -0.0421854654503533|\n",
            "| FuelEconomy|        NULL|              NULL|                 1.0|\n",
            "+------------+------------+------------------+--------------------+\n",
            "\n"
          ]
        }
      ]
    },
    {
      "cell_type": "markdown",
      "source": [
        "### **Drawing histograms**"
      ],
      "metadata": {
        "id": "XjDk1sBlq2Ts"
      }
    },
    {
      "cell_type": "code",
      "source": [
        "histogram_MPG = (\n",
        "    no_outliers\n",
        "    .select('FuelEconomy')\n",
        "    .rdd\n",
        "    .flatMap(lambda record: record)\n",
        "    .histogram(5)\n",
        ")"
      ],
      "metadata": {
        "id": "KzKTw3FyonBv"
      },
      "execution_count": 43,
      "outputs": []
    },
    {
      "cell_type": "code",
      "source": [
        "for i in histogram_MPG:\n",
        "  print(i)\n",
        "\n",
        "histogram_MPG"
      ],
      "metadata": {
        "colab": {
          "base_uri": "https://localhost:8080/"
        },
        "id": "J0NZna0MrB08",
        "outputId": "c7621ed0-cea1-4a6e-da87-f29ae327dc01"
      },
      "execution_count": 44,
      "outputs": [
        {
          "output_type": "stream",
          "name": "stdout",
          "text": [
            "[8.974491029015986, 12.37959282321279, 15.784694617409592, 19.189796411606395, 22.594898205803197, 26.0]\n",
            "[2, 0, 5, 4, 5]\n"
          ]
        },
        {
          "output_type": "execute_result",
          "data": {
            "text/plain": [
              "([8.974491029015986,\n",
              "  12.37959282321279,\n",
              "  15.784694617409592,\n",
              "  19.189796411606395,\n",
              "  22.594898205803197,\n",
              "  26.0],\n",
              " [2, 0, 5, 4, 5])"
            ]
          },
          "metadata": {},
          "execution_count": 44
        }
      ]
    },
    {
      "cell_type": "code",
      "source": [
        "for i in range(len(histogram_MPG[0])-1):\n",
        "  print('[' + str(round(histogram_MPG[0][i], 2))\n",
        "          + ',' + str(round(histogram_MPG[0][i+1], 2))\n",
        "        + ')'\n",
        "      )"
      ],
      "metadata": {
        "colab": {
          "base_uri": "https://localhost:8080/"
        },
        "id": "sAzw_8uTorXI",
        "outputId": "00f1356a-56c7-4613-83dc-fddd068a08ae"
      },
      "execution_count": 45,
      "outputs": [
        {
          "output_type": "stream",
          "name": "stdout",
          "text": [
            "[8.97,12.38)\n",
            "[12.38,15.78)\n",
            "[15.78,19.19)\n",
            "[19.19,22.59)\n",
            "[22.59,26.0)\n"
          ]
        }
      ]
    },
    {
      "cell_type": "code",
      "source": [
        "(\n",
        "    spark\n",
        "    .createDataFrame(\n",
        "        [(bins, counts)\n",
        "          for bins, counts\n",
        "          in zip(\n",
        "            histogram_MPG[0],\n",
        "            histogram_MPG[1]\n",
        "        )]\n",
        "        , ['bins', 'counts']\n",
        "    )\n",
        "    .registerTempTable('histogram_MPG')\n",
        ")"
      ],
      "metadata": {
        "colab": {
          "base_uri": "https://localhost:8080/"
        },
        "id": "2jrYBWSDoyZ5",
        "outputId": "6cadca16-f677-47b3-bed6-6008987a0bf6"
      },
      "execution_count": 46,
      "outputs": [
        {
          "output_type": "stream",
          "name": "stderr",
          "text": [
            "/usr/local/lib/python3.10/dist-packages/pyspark/sql/dataframe.py:329: FutureWarning: Deprecated in 2.0, use createOrReplaceTempView instead.\n",
            "  warnings.warn(\"Deprecated in 2.0, use createOrReplaceTempView instead.\", FutureWarning)\n"
          ]
        }
      ]
    },
    {
      "cell_type": "code",
      "source": [
        "!pip install ipython-sql"
      ],
      "metadata": {
        "id": "7peq6wWGTQLl"
      },
      "execution_count": null,
      "outputs": []
    },
    {
      "cell_type": "code",
      "source": [
        "# Load the SQL extension\n",
        "%reload_ext sql\n",
        "\n",
        "# Connect to your database (replace 'your_connection_string' with the actual connection string)\n",
        "%sql '-o hist_MPG -q'\n",
        "\n",
        "# Execute the SQL query and fetch the results into a Pandas DataFrame\n",
        "%sql SELECT * FROM histogram_MPG"
      ],
      "metadata": {
        "id": "h1TcYGcvRN-P"
      },
      "execution_count": null,
      "outputs": []
    }
  ]
}